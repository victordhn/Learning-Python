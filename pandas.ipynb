{
 "cells": [
  {
   "cell_type": "markdown",
   "id": "4ddcb1be",
   "metadata": {},
   "source": [
    "## Por: victordhn\n",
    "#### Seguindo tutorial do @CoreyMSchafer"
   ]
  },
  {
   "cell_type": "code",
   "execution_count": 1,
   "id": "defd502f",
   "metadata": {},
   "outputs": [],
   "source": [
    "import pandas as pd"
   ]
  },
  {
   "cell_type": "markdown",
   "id": "a2671dae",
   "metadata": {},
   "source": [
    "### Vamos usar dados da pesquisa do Stack Overflow\n",
    "- https://insights.stackoverflow.com/survey\n",
    "- para seguir o tutorial mais precisamente, vou usar os dados de 2019\n",
    "\n",
    "#### Atenção, ao longo do tutorial vamos usar um mini DataFrame (chamado df_new) para treino, e depois aplicaremos os conceitos ao DataFrame do Stack Overflow (chamado df)"
   ]
  },
  {
   "cell_type": "markdown",
   "id": "d81b73e3",
   "metadata": {},
   "source": [
    "### Importante:\n",
    "#### Todos comandos com output na tela estão com \";\" no final para esconder o output (ou estão comentados com # quando o ; não for possível). Essa é só uma forma de deixar o notebook mais fácil de ler depois que eu já analisei todo o output"
   ]
  },
  {
   "cell_type": "markdown",
   "id": "f8b2ca7c",
   "metadata": {},
   "source": [
    "## Part 1\n",
    "### Loading data and first analyses"
   ]
  },
  {
   "cell_type": "code",
   "execution_count": 2,
   "id": "4306dbd3",
   "metadata": {},
   "outputs": [],
   "source": [
    "df = pd.read_csv('data/survey_results_public.csv')"
   ]
  },
  {
   "cell_type": "code",
   "execution_count": 3,
   "id": "4573d77a",
   "metadata": {
    "scrolled": true
   },
   "outputs": [],
   "source": [
    "# O método .head() tem como padrão 5 linhas, mas pode ser alterado passando um valor, por exemplo, df.head(10)\n",
    "# Atenção, quando chamamos o dataframe, o Jupyter só mostra 20 colunas. Esse survey tem 85 colunas\n",
    "df.head();"
   ]
  },
  {
   "cell_type": "code",
   "execution_count": 4,
   "id": "595f4fcf",
   "metadata": {},
   "outputs": [
    {
     "data": {
      "text/plain": [
       "(88883, 85)"
      ]
     },
     "execution_count": 4,
     "metadata": {},
     "output_type": "execute_result"
    }
   ],
   "source": [
    "# linhas e colunas\n",
    "df.shape"
   ]
  },
  {
   "cell_type": "code",
   "execution_count": 5,
   "id": "114bf9cf",
   "metadata": {
    "scrolled": true
   },
   "outputs": [],
   "source": [
    "# usar método .info() para mais informações\n",
    "# df.info()"
   ]
  },
  {
   "cell_type": "code",
   "execution_count": 6,
   "id": "a842b778",
   "metadata": {
    "scrolled": true
   },
   "outputs": [],
   "source": [
    "# mudar setting para mostrar todas colunas\n",
    "pd.set_option('display.max_columns',85)\n",
    "df.head(10);"
   ]
  },
  {
   "cell_type": "code",
   "execution_count": 7,
   "id": "f0fc532c",
   "metadata": {
    "scrolled": false
   },
   "outputs": [],
   "source": [
    "schema_df = pd.read_csv(\"data/survey_results_schema.csv\")\n",
    "schema_df;"
   ]
  },
  {
   "cell_type": "code",
   "execution_count": 8,
   "id": "f387db98",
   "metadata": {
    "scrolled": true
   },
   "outputs": [],
   "source": [
    "# mudar setting para mostrar todas linhas\n",
    "pd.set_option('display.max_rows',85)\n",
    "schema_df;"
   ]
  },
  {
   "cell_type": "markdown",
   "id": "b5db06e8",
   "metadata": {},
   "source": [
    "## Part 2\n",
    "### Selecting Rows and Columns"
   ]
  },
  {
   "cell_type": "code",
   "execution_count": 9,
   "id": "17d6951c",
   "metadata": {},
   "outputs": [],
   "source": [
    "df = pd.read_csv('data/survey_results_public.csv')\n",
    "schema_df = pd.read_csv(\"data/survey_results_schema.csv\")"
   ]
  },
  {
   "cell_type": "code",
   "execution_count": 10,
   "id": "8f5b3cbf",
   "metadata": {},
   "outputs": [],
   "source": [
    "pd.set_option('display.max_columns',85)\n",
    "pd.set_option('display.max_rows',85)"
   ]
  },
  {
   "cell_type": "markdown",
   "id": "1b3f0b06",
   "metadata": {},
   "source": [
    "#### converter dictionary em DataFrame e manipular colunas e linhas"
   ]
  },
  {
   "cell_type": "code",
   "execution_count": 11,
   "id": "c06f8cca",
   "metadata": {},
   "outputs": [],
   "source": [
    "people = {\n",
    "    'first':['Corey','Jane','John'],\n",
    "    'last':['Schafer','Doe','Doe'],\n",
    "    'email':['CoreyMSchafer@gmail.com','JaneDoe@email.com','JohnDoe@email.com'] \n",
    "}"
   ]
  },
  {
   "cell_type": "code",
   "execution_count": 12,
   "id": "8651bebc",
   "metadata": {},
   "outputs": [],
   "source": [
    "new_df = pd.DataFrame(people)"
   ]
  },
  {
   "cell_type": "code",
   "execution_count": 13,
   "id": "ef75e048",
   "metadata": {},
   "outputs": [],
   "source": [
    "new_df;"
   ]
  },
  {
   "cell_type": "code",
   "execution_count": 14,
   "id": "2f274744",
   "metadata": {},
   "outputs": [],
   "source": [
    "new_df['email'];\n",
    "#também poderia usar new_df.email"
   ]
  },
  {
   "cell_type": "code",
   "execution_count": 15,
   "id": "2da5d944",
   "metadata": {},
   "outputs": [
    {
     "data": {
      "text/plain": [
       "pandas.core.series.Series"
      ]
     },
     "execution_count": 15,
     "metadata": {},
     "output_type": "execute_result"
    }
   ],
   "source": [
    "# cada coluna do dataframe é uma series.\n",
    "# dataframes são objetos que comportam diversas series\n",
    "type(new_df['email'])"
   ]
  },
  {
   "cell_type": "code",
   "execution_count": 16,
   "id": "61cfaf9d",
   "metadata": {},
   "outputs": [],
   "source": [
    "new_df[['last','email']];\n",
    "# retorna um novo dataframe (series = coluna)"
   ]
  },
  {
   "cell_type": "code",
   "execution_count": 17,
   "id": "e0bd60c8",
   "metadata": {},
   "outputs": [
    {
     "data": {
      "text/plain": [
       "Index(['first', 'last', 'email'], dtype='object')"
      ]
     },
     "execution_count": 17,
     "metadata": {},
     "output_type": "execute_result"
    }
   ],
   "source": [
    "new_df.columns"
   ]
  },
  {
   "cell_type": "markdown",
   "id": "eaee418d",
   "metadata": {},
   "source": [
    "- Para manipular linhas (rows) vamos usar loc e iloc"
   ]
  },
  {
   "cell_type": "code",
   "execution_count": 18,
   "id": "ef7b660e",
   "metadata": {},
   "outputs": [],
   "source": [
    "#iloc = integer location\n",
    "new_df.iloc[0];\n",
    "# retorna uma series (coluna) com valores da linha 0 do dataframe\n",
    "## os indexes agora são o nome das colunas"
   ]
  },
  {
   "cell_type": "code",
   "execution_count": 19,
   "id": "b463626c",
   "metadata": {},
   "outputs": [],
   "source": [
    "new_df.iloc[[0,1]];"
   ]
  },
  {
   "cell_type": "code",
   "execution_count": 20,
   "id": "a87ebd67",
   "metadata": {},
   "outputs": [],
   "source": [
    "new_df.iloc[[0,1],2];"
   ]
  },
  {
   "cell_type": "code",
   "execution_count": 21,
   "id": "ae6dfe8d",
   "metadata": {},
   "outputs": [],
   "source": [
    "#loc procura pelas labels (indexes)\n",
    "## por enquanto, para as linhas não vai mudar pois não demos nomes para os indexes das linhas (continuam 0,1,2...)\n",
    "new_df;"
   ]
  },
  {
   "cell_type": "code",
   "execution_count": 22,
   "id": "1ddbf631",
   "metadata": {},
   "outputs": [],
   "source": [
    "new_df.loc[0];"
   ]
  },
  {
   "cell_type": "code",
   "execution_count": 23,
   "id": "943c0613",
   "metadata": {},
   "outputs": [],
   "source": [
    "new_df.loc[[0,1],['last','email']];"
   ]
  },
  {
   "cell_type": "markdown",
   "id": "8c71fa4f",
   "metadata": {},
   "source": [
    "- Voltando para o df original"
   ]
  },
  {
   "cell_type": "code",
   "execution_count": 24,
   "id": "335d5889",
   "metadata": {
    "scrolled": true
   },
   "outputs": [],
   "source": [
    "df.columns;"
   ]
  },
  {
   "cell_type": "code",
   "execution_count": 25,
   "id": "02d28975",
   "metadata": {
    "scrolled": true
   },
   "outputs": [],
   "source": [
    "# só a coluna Hobbyist\n",
    "df['Hobbyist'];"
   ]
  },
  {
   "cell_type": "code",
   "execution_count": 26,
   "id": "50eaf3f0",
   "metadata": {},
   "outputs": [
    {
     "data": {
      "text/plain": [
       "Yes    71257\n",
       "No     17626\n",
       "Name: Hobbyist, dtype: int64"
      ]
     },
     "execution_count": 26,
     "metadata": {},
     "output_type": "execute_result"
    }
   ],
   "source": [
    "df['Hobbyist'].value_counts()"
   ]
  },
  {
   "cell_type": "code",
   "execution_count": 27,
   "id": "b176f2d2",
   "metadata": {
    "scrolled": true
   },
   "outputs": [],
   "source": [
    "#só primeira linha\n",
    "df.loc[0];"
   ]
  },
  {
   "cell_type": "code",
   "execution_count": 28,
   "id": "d7193b1b",
   "metadata": {},
   "outputs": [
    {
     "data": {
      "text/plain": [
       "'Yes'"
      ]
     },
     "execution_count": 28,
     "metadata": {},
     "output_type": "execute_result"
    }
   ],
   "source": [
    "#primeira linha, coluna Hobbyist\n",
    "df.loc[0,'Hobbyist']"
   ]
  },
  {
   "cell_type": "code",
   "execution_count": 29,
   "id": "c82665ae",
   "metadata": {},
   "outputs": [],
   "source": [
    "#se quiser primeiras 3 linhas (0,1,2) pode usar slice mas... \n",
    "## A ÚLTIMA LINHA E COLUNA É INCLUÍDA (diferente da maioria dos slicing no python)\n",
    "df.loc[0:2,'Hobbyist':'Employment'];"
   ]
  },
  {
   "cell_type": "markdown",
   "id": "6abbbb9e",
   "metadata": {},
   "source": [
    "## Part 3\n",
    "### Indexes"
   ]
  },
  {
   "cell_type": "code",
   "execution_count": 30,
   "id": "6c78f3b6",
   "metadata": {},
   "outputs": [],
   "source": [
    "new_df['email'];"
   ]
  },
  {
   "cell_type": "code",
   "execution_count": 31,
   "id": "1570bf0d",
   "metadata": {},
   "outputs": [],
   "source": [
    "#definir uma das colunas para ser o index de cada linha\n",
    "new_df.set_index('email');"
   ]
  },
  {
   "cell_type": "code",
   "execution_count": 32,
   "id": "a4a23a50",
   "metadata": {},
   "outputs": [],
   "source": [
    "new_df.set_index('email',inplace=True)\n",
    "new_df;"
   ]
  },
  {
   "cell_type": "code",
   "execution_count": 33,
   "id": "0f2043a2",
   "metadata": {},
   "outputs": [
    {
     "data": {
      "text/plain": [
       "Index(['CoreyMSchafer@gmail.com', 'JaneDoe@email.com', 'JohnDoe@email.com'], dtype='object', name='email')"
      ]
     },
     "execution_count": 33,
     "metadata": {},
     "output_type": "execute_result"
    }
   ],
   "source": [
    "new_df.index"
   ]
  },
  {
   "cell_type": "code",
   "execution_count": 34,
   "id": "9d36d5b4",
   "metadata": {},
   "outputs": [],
   "source": [
    "new_df.loc['CoreyMSchafer@gmail.com'];"
   ]
  },
  {
   "cell_type": "code",
   "execution_count": 35,
   "id": "5f6f361a",
   "metadata": {},
   "outputs": [],
   "source": [
    "#para remover a coluna dos index (voltar para 0,1,2...)\n",
    "new_df.reset_index(inplace=True)\n",
    "new_df;"
   ]
  },
  {
   "cell_type": "markdown",
   "id": "bfdfd754",
   "metadata": {},
   "source": [
    "- Voltando para o df original"
   ]
  },
  {
   "cell_type": "code",
   "execution_count": 36,
   "id": "b760b3d2",
   "metadata": {
    "scrolled": true
   },
   "outputs": [],
   "source": [
    "df;"
   ]
  },
  {
   "cell_type": "code",
   "execution_count": 37,
   "id": "6df6f02d",
   "metadata": {
    "scrolled": true
   },
   "outputs": [],
   "source": [
    "#ao invez de usar df.set_index('Respondent') vamos usar direto quando chamamos o arquivo\n",
    "df = pd.read_csv('data/survey_results_public.csv', index_col='Respondent')\n",
    "df;"
   ]
  },
  {
   "cell_type": "code",
   "execution_count": 38,
   "id": "708c1252",
   "metadata": {},
   "outputs": [],
   "source": [
    "schema_df = pd.read_csv(\"data/survey_results_schema.csv\", index_col='Column')\n",
    "schema_df;"
   ]
  },
  {
   "cell_type": "code",
   "execution_count": 39,
   "id": "a8c1940d",
   "metadata": {},
   "outputs": [
    {
     "data": {
      "text/plain": [
       "QuestionText    How confident are you that your manager knows ...\n",
       "Name: MgrIdiot, dtype: object"
      ]
     },
     "execution_count": 39,
     "metadata": {},
     "output_type": "execute_result"
    }
   ],
   "source": [
    "schema_df.loc['MgrIdiot']"
   ]
  },
  {
   "cell_type": "code",
   "execution_count": 40,
   "id": "d6fbf646",
   "metadata": {},
   "outputs": [
    {
     "data": {
      "text/plain": [
       "'How confident are you that your manager knows what they’re doing?'"
      ]
     },
     "execution_count": 40,
     "metadata": {},
     "output_type": "execute_result"
    }
   ],
   "source": [
    "schema_df.loc['MgrIdiot','QuestionText']"
   ]
  },
  {
   "cell_type": "code",
   "execution_count": 41,
   "id": "ce5fc3a9",
   "metadata": {
    "scrolled": true
   },
   "outputs": [],
   "source": [
    "# ordenar do menor para maior\n",
    "schema_df.sort_index();"
   ]
  },
  {
   "cell_type": "code",
   "execution_count": 42,
   "id": "42119548",
   "metadata": {},
   "outputs": [],
   "source": [
    "# ordenar do maior para menor\n",
    "schema_df.sort_index(ascending=False);"
   ]
  },
  {
   "cell_type": "markdown",
   "id": "c065eba6",
   "metadata": {},
   "source": [
    "## Part 4\n",
    "### Filtering"
   ]
  },
  {
   "cell_type": "code",
   "execution_count": 43,
   "id": "f0d0b9f4",
   "metadata": {},
   "outputs": [],
   "source": [
    "people = {\n",
    "    'first':['Corey','Jane','John'],\n",
    "    'last':['Schafer','Doe','Doe'],\n",
    "    'email':['CoreyMSchafer@gmail.com','JaneDoe@email.com','JohnDoe@email.com'] \n",
    "}\n",
    "new_df = pd.DataFrame(people)\n",
    "new_df;"
   ]
  },
  {
   "cell_type": "code",
   "execution_count": 44,
   "id": "1a93b915",
   "metadata": {},
   "outputs": [],
   "source": [
    "#filter mask\n",
    "filt = new_df['last']=='Doe'\n",
    "filt;"
   ]
  },
  {
   "cell_type": "code",
   "execution_count": 45,
   "id": "b217d2f2",
   "metadata": {},
   "outputs": [],
   "source": [
    "#usando o filter mask\n",
    "new_df[filt];"
   ]
  },
  {
   "cell_type": "code",
   "execution_count": 46,
   "id": "554c4cc9",
   "metadata": {},
   "outputs": [],
   "source": [
    "#usando diretamente (lê-se: new_df such that new_df['last'] é igual a 'Doe')\n",
    "new_df[new_df['last']=='Doe'];"
   ]
  },
  {
   "cell_type": "code",
   "execution_count": 47,
   "id": "627b5a59",
   "metadata": {},
   "outputs": [],
   "source": [
    "#outro jeito é usar o .loc, que permite que a gente filtre colunas também\n",
    "#funciona pois o .loc[linhas,colunas] vai consider True = quero essa linha, e False = não quero essa linha\n",
    "new_df.loc[filt,'email'];"
   ]
  },
  {
   "cell_type": "code",
   "execution_count": 48,
   "id": "7cc562a9",
   "metadata": {},
   "outputs": [],
   "source": [
    "#and = &, or = |\n",
    "filt2 = (new_df['last']=='Doe') & (new_df['first']=='John')\n",
    "new_df.loc[filt2,'email'];"
   ]
  },
  {
   "cell_type": "code",
   "execution_count": 49,
   "id": "101f8161",
   "metadata": {},
   "outputs": [],
   "source": [
    "# ~ é o símbolo de negação, e irá retornar o oposto do filtro\n",
    "new_df.loc[~filt2,'email'];"
   ]
  },
  {
   "cell_type": "markdown",
   "id": "685211e7",
   "metadata": {},
   "source": [
    "- Voltando para o df original"
   ]
  },
  {
   "cell_type": "code",
   "execution_count": 50,
   "id": "add7fd9d",
   "metadata": {},
   "outputs": [],
   "source": [
    "#salários estão na coluna ConvertedComp"
   ]
  },
  {
   "cell_type": "code",
   "execution_count": 51,
   "id": "54c33974",
   "metadata": {},
   "outputs": [],
   "source": [
    "#usamos um novo método do Pandas (.isin(list))\n",
    "countries = ['United States','India','United Kingdom','Germany','Canada']\n",
    "high_salaries = (df['ConvertedComp']>70000) & (df['Country'].isin(countries))\n",
    "high_salaries_br = (df['ConvertedComp']>70000) & (df['Country']=='Brazil')"
   ]
  },
  {
   "cell_type": "code",
   "execution_count": 52,
   "id": "42215e20",
   "metadata": {
    "scrolled": true
   },
   "outputs": [],
   "source": [
    "df.loc[high_salaries,['Country','LanguageWorkedWith','ConvertedComp']];"
   ]
  },
  {
   "cell_type": "code",
   "execution_count": 53,
   "id": "6b76dcf3",
   "metadata": {},
   "outputs": [],
   "source": [
    "df.loc[high_salaries_br,['Country','LanguageWorkedWith','ConvertedComp']];"
   ]
  },
  {
   "cell_type": "code",
   "execution_count": 54,
   "id": "6459cf46",
   "metadata": {},
   "outputs": [],
   "source": [
    "#usamos um novo string method do Pandas (.str.contains(word))\n",
    "filt_python = df['LanguageWorkedWith'].str.contains('Python',na=False)\n",
    "df.loc[filt_python,['Country','LanguageWorkedWith','ConvertedComp']];"
   ]
  },
  {
   "cell_type": "markdown",
   "id": "58a469a2",
   "metadata": {},
   "source": [
    "## Part 5\n",
    "### Updating Rows and Columns"
   ]
  },
  {
   "cell_type": "code",
   "execution_count": 55,
   "id": "8fc46c51",
   "metadata": {},
   "outputs": [
    {
     "data": {
      "text/plain": [
       "Index(['first', 'last', 'email'], dtype='object')"
      ]
     },
     "execution_count": 55,
     "metadata": {},
     "output_type": "execute_result"
    }
   ],
   "source": [
    "new_df.columns"
   ]
  },
  {
   "cell_type": "code",
   "execution_count": 56,
   "id": "dfc1aa7a",
   "metadata": {},
   "outputs": [],
   "source": [
    "#mudar nome de todas colunas\n",
    "new_df.columns=['first_name','second_name','email']\n",
    "new_df;"
   ]
  },
  {
   "cell_type": "code",
   "execution_count": 57,
   "id": "09d2b1f6",
   "metadata": {},
   "outputs": [],
   "source": [
    "#vamos usar list comprehension\n",
    "new_df.columns = [x.upper() for x in new_df.columns]\n",
    "new_df;"
   ]
  },
  {
   "cell_type": "code",
   "execution_count": 58,
   "id": "71de522e",
   "metadata": {},
   "outputs": [],
   "source": [
    "#substituir caracteres nas colunas\n",
    "new_df.columns = new_df.columns.str.replace('_','*')\n",
    "new_df;"
   ]
  },
  {
   "cell_type": "code",
   "execution_count": 59,
   "id": "87c61b03",
   "metadata": {},
   "outputs": [
    {
     "name": "stderr",
     "output_type": "stream",
     "text": [
      "C:\\Users\\Victor\\AppData\\Local\\Temp\\ipykernel_28480\\3050507091.py:1: FutureWarning: The default value of regex will change from True to False in a future version. In addition, single character regular expressions will *not* be treated as literal strings when regex=True.\n",
      "  new_df.columns = new_df.columns.str.replace('*','_')\n"
     ]
    }
   ],
   "source": [
    "new_df.columns = new_df.columns.str.replace('*','_')\n",
    "new_df.columns = [x.lower() for x in new_df.columns]\n",
    "new_df;"
   ]
  },
  {
   "cell_type": "code",
   "execution_count": 60,
   "id": "61e4a0c2",
   "metadata": {},
   "outputs": [],
   "source": [
    "#editando apenas algumas colunas\n",
    "new_df.rename(columns={'first_name':'first','second_name':'last'},inplace=True)\n",
    "new_df;"
   ]
  },
  {
   "cell_type": "markdown",
   "id": "689560d2",
   "metadata": {},
   "source": [
    "#### Editando linhas (importante)"
   ]
  },
  {
   "cell_type": "code",
   "execution_count": 61,
   "id": "ec2beb18",
   "metadata": {},
   "outputs": [],
   "source": [
    "new_df;"
   ]
  },
  {
   "cell_type": "code",
   "execution_count": 62,
   "id": "a7c707b7",
   "metadata": {},
   "outputs": [],
   "source": [
    "new_df.loc[2];"
   ]
  },
  {
   "cell_type": "code",
   "execution_count": 63,
   "id": "bee57a95",
   "metadata": {},
   "outputs": [],
   "source": [
    "new_df.loc[2] = ['João','Damião','JoãoDamião@email.com']\n",
    "new_df;"
   ]
  },
  {
   "cell_type": "code",
   "execution_count": 64,
   "id": "80bcc6c6",
   "metadata": {},
   "outputs": [],
   "source": [
    "new_df.loc[2,['last','email']] = ['Damasceno','JoãoDamasceno@email.com']\n",
    "new_df;"
   ]
  },
  {
   "cell_type": "code",
   "execution_count": 65,
   "id": "85c67d8a",
   "metadata": {},
   "outputs": [],
   "source": [
    "# usando filter\n",
    "filt = (new_df['email']=='JoãoDamasceno@email.com')\n",
    "new_df.loc[filt,'first'] = 'Tião'\n",
    "new_df;"
   ]
  },
  {
   "cell_type": "code",
   "execution_count": 66,
   "id": "94fbee97",
   "metadata": {},
   "outputs": [],
   "source": [
    "# mudar varias rows ao mesmo tempo\n",
    "new_df['email'] = new_df['email'].str.lower()\n",
    "new_df;"
   ]
  },
  {
   "cell_type": "markdown",
   "id": "ae6f12da",
   "metadata": {},
   "source": [
    "- Métodos que vamos aprender: apply, map, applymap, replace"
   ]
  },
  {
   "cell_type": "code",
   "execution_count": 67,
   "id": "5745e522",
   "metadata": {},
   "outputs": [],
   "source": [
    "#apply - aplica uma function para cada valor numa série ou dataframe\n",
    "new_df['email'].apply(len);"
   ]
  },
  {
   "cell_type": "code",
   "execution_count": 68,
   "id": "a7cc5f1b",
   "metadata": {},
   "outputs": [],
   "source": [
    "def update_email(email):\n",
    "    return email.upper()"
   ]
  },
  {
   "cell_type": "code",
   "execution_count": 69,
   "id": "515ab07c",
   "metadata": {},
   "outputs": [],
   "source": [
    "new_df['email'] = new_df['email'].apply(update_email)\n",
    "new_df;"
   ]
  },
  {
   "cell_type": "code",
   "execution_count": 70,
   "id": "b6f4ae69",
   "metadata": {},
   "outputs": [],
   "source": [
    "#aplicando uma lambda function dentro do método apply\n",
    "new_df['email'] = new_df['email'].apply(lambda x: x.lower())\n",
    "new_df;"
   ]
  },
  {
   "cell_type": "code",
   "execution_count": 71,
   "id": "6ec8ba63",
   "metadata": {},
   "outputs": [],
   "source": [
    "#aplicando o método apply no DataFrame\n",
    "#aplicou len para cada coluna\n",
    "new_df.apply(len);"
   ]
  },
  {
   "cell_type": "code",
   "execution_count": 72,
   "id": "f31897f7",
   "metadata": {},
   "outputs": [],
   "source": [
    "#aplicou len para cada row\n",
    "#como sempre, axis são um pouco contraintuitivos\n",
    "new_df.apply(len,axis='columns');"
   ]
  },
  {
   "cell_type": "code",
   "execution_count": 73,
   "id": "3d00723b",
   "metadata": {},
   "outputs": [],
   "source": [
    "new_df.apply(pd.Series.min);"
   ]
  },
  {
   "cell_type": "code",
   "execution_count": 74,
   "id": "7fb7892a",
   "metadata": {},
   "outputs": [],
   "source": [
    "new_df.apply(lambda x: x.min());"
   ]
  },
  {
   "cell_type": "code",
   "execution_count": 75,
   "id": "84adf53a",
   "metadata": {},
   "outputs": [],
   "source": [
    "#o método applymap funciona apenas com DataFrames\n",
    "new_df.applymap(len);"
   ]
  },
  {
   "cell_type": "code",
   "execution_count": 76,
   "id": "92d7193a",
   "metadata": {},
   "outputs": [],
   "source": [
    "new_df.applymap(str.lower);"
   ]
  },
  {
   "cell_type": "code",
   "execution_count": 77,
   "id": "e47bcb39",
   "metadata": {},
   "outputs": [],
   "source": [
    "#o método map só funciona com Series\n",
    "new_df['first'].map({'Corey':'Chris','Jane':'Mary'});"
   ]
  },
  {
   "cell_type": "code",
   "execution_count": 78,
   "id": "e637c33b",
   "metadata": {},
   "outputs": [],
   "source": [
    "new_df['first']=new_df['first'].replace({'Corey':'Chris','Jane':'Mary'})\n",
    "new_df;"
   ]
  },
  {
   "cell_type": "markdown",
   "id": "461ab766",
   "metadata": {},
   "source": [
    "- Voltando para o df original"
   ]
  },
  {
   "cell_type": "code",
   "execution_count": 79,
   "id": "b47ef245",
   "metadata": {
    "scrolled": true
   },
   "outputs": [],
   "source": [
    "df.rename(columns={'ConvertedComp':'SalaryUSD'},inplace=True)\n",
    "df;"
   ]
  },
  {
   "cell_type": "code",
   "execution_count": 80,
   "id": "639ecf1c",
   "metadata": {},
   "outputs": [],
   "source": [
    "df['SalaryUSD'];"
   ]
  },
  {
   "cell_type": "code",
   "execution_count": 81,
   "id": "01dcc003",
   "metadata": {
    "scrolled": true
   },
   "outputs": [],
   "source": [
    "df['Hobbyist'] = df['Hobbyist'].map({'Yes':True,'No':False})\n",
    "df;"
   ]
  },
  {
   "cell_type": "markdown",
   "id": "85aed369",
   "metadata": {},
   "source": [
    "## Part 6\n",
    "### Add and Remove Rows and Columns"
   ]
  },
  {
   "cell_type": "code",
   "execution_count": 82,
   "id": "b92c547d",
   "metadata": {},
   "outputs": [],
   "source": [
    "people = {\n",
    "    'first':['Corey','Jane','John'],\n",
    "    'last':['Schafer','Doe','Doe'],\n",
    "    'email':['CoreyMSchafer@gmail.com','JaneDoe@email.com','JohnDoe@email.com'] \n",
    "}\n",
    "new_df = pd.DataFrame(people)\n",
    "new_df;"
   ]
  },
  {
   "cell_type": "code",
   "execution_count": 83,
   "id": "a500b4f8",
   "metadata": {},
   "outputs": [],
   "source": [
    "new_df;"
   ]
  },
  {
   "cell_type": "code",
   "execution_count": 84,
   "id": "99e077f0",
   "metadata": {},
   "outputs": [],
   "source": [
    "new_df['first']+' '+new_df['last'];"
   ]
  },
  {
   "cell_type": "code",
   "execution_count": 85,
   "id": "ff2c6e03",
   "metadata": {},
   "outputs": [],
   "source": [
    "#add column\n",
    "new_df['full_name']=new_df['first']+' '+new_df['last']\n",
    "new_df;"
   ]
  },
  {
   "cell_type": "code",
   "execution_count": 86,
   "id": "e09bc97b",
   "metadata": {},
   "outputs": [],
   "source": [
    "#remove column\n",
    "new_df.drop(columns=['first','last'], inplace=True)\n",
    "new_df;"
   ]
  },
  {
   "cell_type": "code",
   "execution_count": 87,
   "id": "738131dd",
   "metadata": {},
   "outputs": [],
   "source": [
    "new_df['full_name'].str.split(' ',expand=True);"
   ]
  },
  {
   "cell_type": "code",
   "execution_count": 88,
   "id": "d61df870",
   "metadata": {},
   "outputs": [],
   "source": [
    "new_df[['first','last']]=new_df['full_name'].str.split(' ',expand=True)"
   ]
  },
  {
   "cell_type": "code",
   "execution_count": 89,
   "id": "d8f0905f",
   "metadata": {},
   "outputs": [],
   "source": [
    "new_df;"
   ]
  },
  {
   "cell_type": "code",
   "execution_count": 90,
   "id": "16001a5d",
   "metadata": {
    "scrolled": true
   },
   "outputs": [
    {
     "name": "stderr",
     "output_type": "stream",
     "text": [
      "C:\\Users\\Victor\\AppData\\Local\\Temp\\ipykernel_28480\\2575510983.py:2: FutureWarning: The frame.append method is deprecated and will be removed from pandas in a future version. Use pandas.concat instead.\n",
      "  new_df.append({'first':'Tony'}, ignore_index=True);\n"
     ]
    }
   ],
   "source": [
    "#add or remove rows\n",
    "new_df.append({'first':'Tony'}, ignore_index=True);"
   ]
  },
  {
   "cell_type": "code",
   "execution_count": 91,
   "id": "f8cb402f",
   "metadata": {},
   "outputs": [],
   "source": [
    "people = {\n",
    "    'first':['Tony','Steve'],\n",
    "    'last':['Stark','Rogers'],\n",
    "    'email':['IronMan@avenge.com','Cap@avenge.com'] \n",
    "}\n",
    "new_df2 = pd.DataFrame(people)\n",
    "new_df2;"
   ]
  },
  {
   "cell_type": "code",
   "execution_count": 92,
   "id": "f2eb0c92",
   "metadata": {},
   "outputs": [
    {
     "name": "stderr",
     "output_type": "stream",
     "text": [
      "C:\\Users\\Victor\\AppData\\Local\\Temp\\ipykernel_28480\\2718152919.py:1: FutureWarning: The frame.append method is deprecated and will be removed from pandas in a future version. Use pandas.concat instead.\n",
      "  new_df = new_df.append(new_df2, ignore_index=True)\n"
     ]
    }
   ],
   "source": [
    "new_df = new_df.append(new_df2, ignore_index=True)\n",
    "new_df;"
   ]
  },
  {
   "cell_type": "code",
   "execution_count": 93,
   "id": "e6dbe1ff",
   "metadata": {},
   "outputs": [
    {
     "data": {
      "text/html": [
       "<div>\n",
       "<style scoped>\n",
       "    .dataframe tbody tr th:only-of-type {\n",
       "        vertical-align: middle;\n",
       "    }\n",
       "\n",
       "    .dataframe tbody tr th {\n",
       "        vertical-align: top;\n",
       "    }\n",
       "\n",
       "    .dataframe thead th {\n",
       "        text-align: right;\n",
       "    }\n",
       "</style>\n",
       "<table border=\"1\" class=\"dataframe\">\n",
       "  <thead>\n",
       "    <tr style=\"text-align: right;\">\n",
       "      <th></th>\n",
       "      <th>email</th>\n",
       "      <th>full_name</th>\n",
       "      <th>first</th>\n",
       "      <th>last</th>\n",
       "    </tr>\n",
       "  </thead>\n",
       "  <tbody>\n",
       "    <tr>\n",
       "      <th>0</th>\n",
       "      <td>CoreyMSchafer@gmail.com</td>\n",
       "      <td>Corey Schafer</td>\n",
       "      <td>Corey</td>\n",
       "      <td>Schafer</td>\n",
       "    </tr>\n",
       "    <tr>\n",
       "      <th>1</th>\n",
       "      <td>JaneDoe@email.com</td>\n",
       "      <td>Jane Doe</td>\n",
       "      <td>Jane</td>\n",
       "      <td>Doe</td>\n",
       "    </tr>\n",
       "    <tr>\n",
       "      <th>2</th>\n",
       "      <td>JohnDoe@email.com</td>\n",
       "      <td>John Doe</td>\n",
       "      <td>John</td>\n",
       "      <td>Doe</td>\n",
       "    </tr>\n",
       "    <tr>\n",
       "      <th>3</th>\n",
       "      <td>IronMan@avenge.com</td>\n",
       "      <td>NaN</td>\n",
       "      <td>Tony</td>\n",
       "      <td>Stark</td>\n",
       "    </tr>\n",
       "  </tbody>\n",
       "</table>\n",
       "</div>"
      ],
      "text/plain": [
       "                     email      full_name  first     last\n",
       "0  CoreyMSchafer@gmail.com  Corey Schafer  Corey  Schafer\n",
       "1        JaneDoe@email.com       Jane Doe   Jane      Doe\n",
       "2        JohnDoe@email.com       John Doe   John      Doe\n",
       "3       IronMan@avenge.com            NaN   Tony    Stark"
      ]
     },
     "execution_count": 93,
     "metadata": {},
     "output_type": "execute_result"
    }
   ],
   "source": [
    "#remove rows\n",
    "new_df.drop(index=4)"
   ]
  },
  {
   "cell_type": "code",
   "execution_count": 94,
   "id": "44ff978a",
   "metadata": {},
   "outputs": [],
   "source": [
    "filt = new_df['last']=='Doe'"
   ]
  },
  {
   "cell_type": "code",
   "execution_count": 95,
   "id": "52ada5f7",
   "metadata": {},
   "outputs": [],
   "source": [
    "new_df.drop(index=new_df[filt].index);"
   ]
  },
  {
   "cell_type": "markdown",
   "id": "a412fb13",
   "metadata": {},
   "source": [
    "## Part 7\n",
    "### Sorting Data"
   ]
  },
  {
   "cell_type": "code",
   "execution_count": 96,
   "id": "c4dac556",
   "metadata": {},
   "outputs": [],
   "source": [
    "people = {\n",
    "    'first':['Corey','Jane','John','Adam'],\n",
    "    'last':['Schafer','Doe','Doe','Doe'],\n",
    "    'email':['CoreyMSchafer@gmail.com','JaneDoe@email.com','JohnDoe@email.com','AdamDoe@email.com'] \n",
    "}\n",
    "new_df = pd.DataFrame(people)\n",
    "new_df;"
   ]
  },
  {
   "cell_type": "code",
   "execution_count": 97,
   "id": "69ebc2a2",
   "metadata": {},
   "outputs": [],
   "source": [
    "new_df.sort_values(by='last');"
   ]
  },
  {
   "cell_type": "code",
   "execution_count": 98,
   "id": "f899e561",
   "metadata": {},
   "outputs": [],
   "source": [
    "new_df.sort_values(by='last',ascending=False);"
   ]
  },
  {
   "cell_type": "code",
   "execution_count": 99,
   "id": "9066cf09",
   "metadata": {},
   "outputs": [],
   "source": [
    "new_df.sort_values(by=['last','first'],ascending=False);"
   ]
  },
  {
   "cell_type": "code",
   "execution_count": 100,
   "id": "45293aea",
   "metadata": {},
   "outputs": [],
   "source": [
    "new_df.sort_values(by=['last','first'],ascending=[False,True],inplace=True);\n",
    "new_df;"
   ]
  },
  {
   "cell_type": "code",
   "execution_count": 101,
   "id": "d8d26b4f",
   "metadata": {},
   "outputs": [],
   "source": [
    "new_df.sort_index();"
   ]
  },
  {
   "cell_type": "code",
   "execution_count": 102,
   "id": "d6a3eb3b",
   "metadata": {},
   "outputs": [],
   "source": [
    "#sorting a series only\n",
    "new_df['last'].sort_values();"
   ]
  },
  {
   "cell_type": "code",
   "execution_count": 103,
   "id": "ff7dbf81",
   "metadata": {
    "scrolled": true
   },
   "outputs": [],
   "source": [
    "df.head();"
   ]
  },
  {
   "cell_type": "code",
   "execution_count": 104,
   "id": "401c8d88",
   "metadata": {},
   "outputs": [],
   "source": [
    "df.sort_values(by=['Country','SalaryUSD'],ascending=[True,False],inplace=True);"
   ]
  },
  {
   "cell_type": "code",
   "execution_count": 105,
   "id": "62543261",
   "metadata": {},
   "outputs": [],
   "source": [
    "df[['Country','SalaryUSD']].head(50);"
   ]
  },
  {
   "cell_type": "code",
   "execution_count": 106,
   "id": "a44959e9",
   "metadata": {},
   "outputs": [],
   "source": [
    "df['SalaryUSD'].nlargest(10);"
   ]
  },
  {
   "cell_type": "code",
   "execution_count": 107,
   "id": "694021e7",
   "metadata": {
    "scrolled": true
   },
   "outputs": [],
   "source": [
    "df.nlargest(10,'SalaryUSD');"
   ]
  },
  {
   "cell_type": "code",
   "execution_count": null,
   "id": "1988b298",
   "metadata": {},
   "outputs": [],
   "source": []
  },
  {
   "cell_type": "code",
   "execution_count": null,
   "id": "63d637e0",
   "metadata": {},
   "outputs": [],
   "source": []
  },
  {
   "cell_type": "code",
   "execution_count": null,
   "id": "b15c15c4",
   "metadata": {},
   "outputs": [],
   "source": []
  },
  {
   "cell_type": "code",
   "execution_count": null,
   "id": "1d5d3d4a",
   "metadata": {},
   "outputs": [],
   "source": []
  },
  {
   "cell_type": "code",
   "execution_count": null,
   "id": "45acdded",
   "metadata": {},
   "outputs": [],
   "source": []
  },
  {
   "cell_type": "code",
   "execution_count": null,
   "id": "af9cdb67",
   "metadata": {},
   "outputs": [],
   "source": []
  },
  {
   "cell_type": "code",
   "execution_count": null,
   "id": "2f2e430e",
   "metadata": {},
   "outputs": [],
   "source": []
  },
  {
   "cell_type": "code",
   "execution_count": null,
   "id": "5fe86437",
   "metadata": {},
   "outputs": [],
   "source": []
  },
  {
   "cell_type": "code",
   "execution_count": null,
   "id": "46955f02",
   "metadata": {},
   "outputs": [],
   "source": []
  }
 ],
 "metadata": {
  "kernelspec": {
   "display_name": "Python 3 (ipykernel)",
   "language": "python",
   "name": "python3"
  },
  "language_info": {
   "codemirror_mode": {
    "name": "ipython",
    "version": 3
   },
   "file_extension": ".py",
   "mimetype": "text/x-python",
   "name": "python",
   "nbconvert_exporter": "python",
   "pygments_lexer": "ipython3",
   "version": "3.10.9"
  }
 },
 "nbformat": 4,
 "nbformat_minor": 5
}
