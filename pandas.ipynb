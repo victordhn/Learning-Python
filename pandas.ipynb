{
 "cells": [
  {
   "cell_type": "markdown",
   "id": "4ddcb1be",
   "metadata": {},
   "source": [
    "## Por: victordhn\n",
    "#### Seguindo tutorial do @CoreyMSchafer"
   ]
  },
  {
   "cell_type": "code",
   "execution_count": 1,
   "id": "defd502f",
   "metadata": {},
   "outputs": [],
   "source": [
    "import pandas as pd"
   ]
  },
  {
   "cell_type": "markdown",
   "id": "a2671dae",
   "metadata": {},
   "source": [
    "### Vamos usar dados da pesquisa do Stack Overflow\n",
    "- https://insights.stackoverflow.com/survey\n",
    "- para seguir o tutorial mais precisamente, vou usar os dados de 2019"
   ]
  },
  {
   "cell_type": "markdown",
   "id": "e6878e6b",
   "metadata": {},
   "source": [
    "### Importante:\n",
    "#### Todos comandos com output na tela estão com \";\" no final para esconder o output (ou estão comentados com # quando o ; não for possível). Essa é só uma forma de deixar o notebook mais fácil de ler depois que eu já analisei todo o output"
   ]
  },
  {
   "cell_type": "markdown",
   "id": "f8b2ca7c",
   "metadata": {},
   "source": [
    "## Part 1\n",
    "### Loading data and first analyses"
   ]
  },
  {
   "cell_type": "code",
   "execution_count": 2,
   "id": "4306dbd3",
   "metadata": {},
   "outputs": [],
   "source": [
    "df = pd.read_csv('data/survey_results_public.csv')"
   ]
  },
  {
   "cell_type": "code",
   "execution_count": 15,
   "id": "4573d77a",
   "metadata": {
    "scrolled": true
   },
   "outputs": [],
   "source": [
    "# O método .head() tem como padrão 5 linhas, mas pode ser alterado passando um valor, por exemplo, df.head(10)\n",
    "# Atenção, quando chamamos o dataframe, o Jupyter só mostra 20 colunas. Esse survey tem 85 colunas\n",
    "df.head();"
   ]
  },
  {
   "cell_type": "code",
   "execution_count": 4,
   "id": "595f4fcf",
   "metadata": {},
   "outputs": [
    {
     "data": {
      "text/plain": [
       "(88883, 85)"
      ]
     },
     "execution_count": 4,
     "metadata": {},
     "output_type": "execute_result"
    }
   ],
   "source": [
    "# linhas e colunas\n",
    "df.shape"
   ]
  },
  {
   "cell_type": "code",
   "execution_count": 16,
   "id": "114bf9cf",
   "metadata": {
    "scrolled": true
   },
   "outputs": [],
   "source": [
    "# usar método .info() para mais informações\n",
    "# df.info()"
   ]
  },
  {
   "cell_type": "code",
   "execution_count": 11,
   "id": "a842b778",
   "metadata": {
    "scrolled": true
   },
   "outputs": [],
   "source": [
    "# mudar setting para mostrar todas colunas\n",
    "pd.set_option('display.max_columns',85)\n",
    "df.head(10);"
   ]
  },
  {
   "cell_type": "code",
   "execution_count": 10,
   "id": "f0fc532c",
   "metadata": {
    "scrolled": false
   },
   "outputs": [],
   "source": [
    "schema_df = pd.read_csv(\"data/survey_results_schema.csv\")\n",
    "schema_df;"
   ]
  },
  {
   "cell_type": "code",
   "execution_count": 9,
   "id": "f387db98",
   "metadata": {
    "scrolled": true
   },
   "outputs": [],
   "source": [
    "# mudar setting para mostrar todas linhas\n",
    "pd.set_option('display.max_rows',85)\n",
    "schema_df;"
   ]
  },
  {
   "cell_type": "markdown",
   "id": "591f4ded",
   "metadata": {},
   "source": [
    "## Part 2\n",
    "### Selecting Rows and Columns"
   ]
  },
  {
   "cell_type": "code",
   "execution_count": 17,
   "id": "17d6951c",
   "metadata": {},
   "outputs": [],
   "source": [
    "df = pd.read_csv('data/survey_results_public.csv')\n",
    "schema_df = pd.read_csv(\"data/survey_results_schema.csv\")"
   ]
  },
  {
   "cell_type": "code",
   "execution_count": 18,
   "id": "8f5b3cbf",
   "metadata": {},
   "outputs": [],
   "source": [
    "pd.set_option('display.max_columns',85)\n",
    "pd.set_option('display.max_rows',85)"
   ]
  },
  {
   "cell_type": "markdown",
   "id": "4f69868f",
   "metadata": {},
   "source": [
    "#### converter dictionary em DataFrame e manipular colunas e linhas"
   ]
  },
  {
   "cell_type": "code",
   "execution_count": 19,
   "id": "c06f8cca",
   "metadata": {},
   "outputs": [],
   "source": [
    "people = {\n",
    "    'first':['Corey','Jane','John'],\n",
    "    'last':['Schafer','Doe','Doe'],\n",
    "    'email':['CoreyMSchafer@gmail.com','JaneDoe@email.com','JohnDoe@email.com'] \n",
    "}"
   ]
  },
  {
   "cell_type": "code",
   "execution_count": 38,
   "id": "8651bebc",
   "metadata": {},
   "outputs": [],
   "source": [
    "new_df = pd.DataFrame(people)"
   ]
  },
  {
   "cell_type": "code",
   "execution_count": 61,
   "id": "ef75e048",
   "metadata": {},
   "outputs": [],
   "source": [
    "new_df;"
   ]
  },
  {
   "cell_type": "code",
   "execution_count": 62,
   "id": "083de9dd",
   "metadata": {},
   "outputs": [],
   "source": [
    "new_df['email'];\n",
    "#também poderia usar new_df.email"
   ]
  },
  {
   "cell_type": "code",
   "execution_count": 32,
   "id": "f137a827",
   "metadata": {},
   "outputs": [
    {
     "data": {
      "text/plain": [
       "pandas.core.series.Series"
      ]
     },
     "execution_count": 32,
     "metadata": {},
     "output_type": "execute_result"
    }
   ],
   "source": [
    "# cada coluna do dataframe é uma series.\n",
    "# dataframes são objetos que comportam diversas series\n",
    "type(new_df['email'])"
   ]
  },
  {
   "cell_type": "code",
   "execution_count": 63,
   "id": "def87658",
   "metadata": {},
   "outputs": [],
   "source": [
    "new_df[['last','email']];\n",
    "# retorna um novo dataframe (series = coluna)"
   ]
  },
  {
   "cell_type": "code",
   "execution_count": 41,
   "id": "f9b9ca7c",
   "metadata": {},
   "outputs": [
    {
     "data": {
      "text/plain": [
       "Index(['first', 'last', 'email'], dtype='object')"
      ]
     },
     "execution_count": 41,
     "metadata": {},
     "output_type": "execute_result"
    }
   ],
   "source": [
    "new_df.columns"
   ]
  },
  {
   "cell_type": "markdown",
   "id": "97ac32ec",
   "metadata": {},
   "source": [
    "- Para manipular linhas (rows) vamos usar loc e iloc"
   ]
  },
  {
   "cell_type": "code",
   "execution_count": 64,
   "id": "5f92429c",
   "metadata": {},
   "outputs": [],
   "source": [
    "#iloc = integer location\n",
    "new_df.iloc[0];\n",
    "# retorna uma series (coluna) com valores da linha 0 do dataframe\n",
    "## os indexes agora são o nome das colunas"
   ]
  },
  {
   "cell_type": "code",
   "execution_count": 65,
   "id": "1074963a",
   "metadata": {},
   "outputs": [],
   "source": [
    "new_df.iloc[[0,1]];"
   ]
  },
  {
   "cell_type": "code",
   "execution_count": 66,
   "id": "2e44534b",
   "metadata": {},
   "outputs": [],
   "source": [
    "new_df.iloc[[0,1],2];"
   ]
  },
  {
   "cell_type": "code",
   "execution_count": 67,
   "id": "a81fc5df",
   "metadata": {},
   "outputs": [],
   "source": [
    "#loc procura pelas labels (indexes)\n",
    "## por enquanto, para as linhas não vai mudar pois não demos nomes para os indexes das linhas (continuam 0,1,2...)\n",
    "new_df;"
   ]
  },
  {
   "cell_type": "code",
   "execution_count": 68,
   "id": "3fa8cc2c",
   "metadata": {},
   "outputs": [],
   "source": [
    "new_df.loc[0];"
   ]
  },
  {
   "cell_type": "code",
   "execution_count": 69,
   "id": "4ef24eb2",
   "metadata": {},
   "outputs": [],
   "source": [
    "new_df.loc[[0,1],['last','email']];"
   ]
  },
  {
   "cell_type": "markdown",
   "id": "44260df4",
   "metadata": {},
   "source": [
    "- Voltando para o df original"
   ]
  },
  {
   "cell_type": "code",
   "execution_count": 91,
   "id": "fb449bd9",
   "metadata": {
    "scrolled": true
   },
   "outputs": [],
   "source": [
    "df.columns;"
   ]
  },
  {
   "cell_type": "code",
   "execution_count": 92,
   "id": "baa849e4",
   "metadata": {
    "scrolled": true
   },
   "outputs": [],
   "source": [
    "# só a coluna Hobbyist\n",
    "df['Hobbyist'];"
   ]
  },
  {
   "cell_type": "code",
   "execution_count": 79,
   "id": "1d20a730",
   "metadata": {},
   "outputs": [
    {
     "data": {
      "text/plain": [
       "Yes    71257\n",
       "No     17626\n",
       "Name: Hobbyist, dtype: int64"
      ]
     },
     "execution_count": 79,
     "metadata": {},
     "output_type": "execute_result"
    }
   ],
   "source": [
    "df['Hobbyist'].value_counts()"
   ]
  },
  {
   "cell_type": "code",
   "execution_count": 93,
   "id": "9a23dd09",
   "metadata": {
    "scrolled": true
   },
   "outputs": [],
   "source": [
    "#só primeira linha\n",
    "df.loc[0];"
   ]
  },
  {
   "cell_type": "code",
   "execution_count": 83,
   "id": "f2730957",
   "metadata": {},
   "outputs": [
    {
     "data": {
      "text/plain": [
       "'Yes'"
      ]
     },
     "execution_count": 83,
     "metadata": {},
     "output_type": "execute_result"
    }
   ],
   "source": [
    "#primeira linha, coluna Hobbyist\n",
    "df.loc[0,'Hobbyist']"
   ]
  },
  {
   "cell_type": "code",
   "execution_count": 90,
   "id": "5096e2b7",
   "metadata": {},
   "outputs": [
    {
     "data": {
      "text/html": [
       "<div>\n",
       "<style scoped>\n",
       "    .dataframe tbody tr th:only-of-type {\n",
       "        vertical-align: middle;\n",
       "    }\n",
       "\n",
       "    .dataframe tbody tr th {\n",
       "        vertical-align: top;\n",
       "    }\n",
       "\n",
       "    .dataframe thead th {\n",
       "        text-align: right;\n",
       "    }\n",
       "</style>\n",
       "<table border=\"1\" class=\"dataframe\">\n",
       "  <thead>\n",
       "    <tr style=\"text-align: right;\">\n",
       "      <th></th>\n",
       "      <th>Hobbyist</th>\n",
       "      <th>OpenSourcer</th>\n",
       "      <th>OpenSource</th>\n",
       "      <th>Employment</th>\n",
       "    </tr>\n",
       "  </thead>\n",
       "  <tbody>\n",
       "    <tr>\n",
       "      <th>0</th>\n",
       "      <td>Yes</td>\n",
       "      <td>Never</td>\n",
       "      <td>The quality of OSS and closed source software ...</td>\n",
       "      <td>Not employed, and not looking for work</td>\n",
       "    </tr>\n",
       "    <tr>\n",
       "      <th>1</th>\n",
       "      <td>No</td>\n",
       "      <td>Less than once per year</td>\n",
       "      <td>The quality of OSS and closed source software ...</td>\n",
       "      <td>Not employed, but looking for work</td>\n",
       "    </tr>\n",
       "    <tr>\n",
       "      <th>2</th>\n",
       "      <td>Yes</td>\n",
       "      <td>Never</td>\n",
       "      <td>The quality of OSS and closed source software ...</td>\n",
       "      <td>Employed full-time</td>\n",
       "    </tr>\n",
       "  </tbody>\n",
       "</table>\n",
       "</div>"
      ],
      "text/plain": [
       "  Hobbyist              OpenSourcer  \\\n",
       "0      Yes                    Never   \n",
       "1       No  Less than once per year   \n",
       "2      Yes                    Never   \n",
       "\n",
       "                                          OpenSource  \\\n",
       "0  The quality of OSS and closed source software ...   \n",
       "1  The quality of OSS and closed source software ...   \n",
       "2  The quality of OSS and closed source software ...   \n",
       "\n",
       "                               Employment  \n",
       "0  Not employed, and not looking for work  \n",
       "1      Not employed, but looking for work  \n",
       "2                      Employed full-time  "
      ]
     },
     "execution_count": 90,
     "metadata": {},
     "output_type": "execute_result"
    }
   ],
   "source": [
    "#se quiser primeiras 3 linhas (0,1,2) pode usar slice mas... \n",
    "## A ÚLTIMA LINHA E COLUNA É INCLUÍDA (diferente da maioria dos slicing no python)\n",
    "df.loc[0:2,'Hobbyist':'Employment']"
   ]
  },
  {
   "cell_type": "markdown",
   "id": "dbeefa96",
   "metadata": {},
   "source": [
    "## Part 3\n",
    "### Indexes"
   ]
  }
 ],
 "metadata": {
  "kernelspec": {
   "display_name": "Python 3 (ipykernel)",
   "language": "python",
   "name": "python3"
  },
  "language_info": {
   "codemirror_mode": {
    "name": "ipython",
    "version": 3
   },
   "file_extension": ".py",
   "mimetype": "text/x-python",
   "name": "python",
   "nbconvert_exporter": "python",
   "pygments_lexer": "ipython3",
   "version": "3.10.9"
  }
 },
 "nbformat": 4,
 "nbformat_minor": 5
}
