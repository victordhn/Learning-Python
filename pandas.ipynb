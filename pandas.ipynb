{
 "cells": [
  {
   "cell_type": "markdown",
   "id": "4ddcb1be",
   "metadata": {},
   "source": [
    "## Por: victordhn\n",
    "#### Seguindo tutorial do @CoreyMSchafer"
   ]
  },
  {
   "cell_type": "code",
   "execution_count": 1,
   "id": "defd502f",
   "metadata": {},
   "outputs": [],
   "source": [
    "import pandas as pd"
   ]
  },
  {
   "cell_type": "markdown",
   "id": "a2671dae",
   "metadata": {},
   "source": [
    "### Vamos usar dados da pesquisa do Stack Overflow\n",
    "- https://insights.stackoverflow.com/survey\n",
    "- para seguir o tutorial mais precisamente, vou usar os dados de 2019\n",
    "\n",
    "> Atenção, ao longo do tutorial vamos usar um mini DataFrame (chamado df_new) para treino, e depois aplicaremos os conceitos ao DataFrame do Stack Overflow (chamado df)"
   ]
  },
  {
   "cell_type": "markdown",
   "id": "42e9c42f",
   "metadata": {},
   "source": [
    "### Importante:\n",
    "- Todos comandos com output na tela estão com \";\" no final para esconder o output (ou estão comentados com # quando o ; não for possível). Essa é só uma forma de deixar o notebook mais fácil de ler depois que eu já analisei todo o output"
   ]
  },
  {
   "cell_type": "markdown",
   "id": "f8b2ca7c",
   "metadata": {},
   "source": [
    "## Part 1\n",
    "### Loading data and first analyses"
   ]
  },
  {
   "cell_type": "code",
   "execution_count": 2,
   "id": "4306dbd3",
   "metadata": {},
   "outputs": [],
   "source": [
    "df = pd.read_csv('data/survey_results_public.csv')"
   ]
  },
  {
   "cell_type": "code",
   "execution_count": 3,
   "id": "4573d77a",
   "metadata": {
    "scrolled": true
   },
   "outputs": [],
   "source": [
    "# O método .head() tem como padrão 5 linhas, mas pode ser alterado passando um valor, por exemplo, df.head(10)\n",
    "# Atenção, quando chamamos o dataframe, o Jupyter só mostra 20 colunas. Esse survey tem 85 colunas\n",
    "df.head();"
   ]
  },
  {
   "cell_type": "code",
   "execution_count": 4,
   "id": "595f4fcf",
   "metadata": {},
   "outputs": [
    {
     "data": {
      "text/plain": [
       "(88883, 85)"
      ]
     },
     "execution_count": 4,
     "metadata": {},
     "output_type": "execute_result"
    }
   ],
   "source": [
    "# linhas e colunas\n",
    "df.shape"
   ]
  },
  {
   "cell_type": "code",
   "execution_count": 5,
   "id": "114bf9cf",
   "metadata": {
    "scrolled": true
   },
   "outputs": [],
   "source": [
    "# usar método .info() para mais informações\n",
    "# df.info()"
   ]
  },
  {
   "cell_type": "code",
   "execution_count": 6,
   "id": "a842b778",
   "metadata": {
    "scrolled": true
   },
   "outputs": [],
   "source": [
    "# mudar setting para mostrar todas colunas\n",
    "pd.set_option('display.max_columns',85)\n",
    "df.head(10);"
   ]
  },
  {
   "cell_type": "code",
   "execution_count": 7,
   "id": "f0fc532c",
   "metadata": {
    "scrolled": false
   },
   "outputs": [],
   "source": [
    "schema_df = pd.read_csv(\"data/survey_results_schema.csv\")\n",
    "schema_df;"
   ]
  },
  {
   "cell_type": "code",
   "execution_count": 8,
   "id": "f387db98",
   "metadata": {
    "scrolled": true
   },
   "outputs": [],
   "source": [
    "# mudar setting para mostrar todas linhas\n",
    "pd.set_option('display.max_rows',85)\n",
    "schema_df;"
   ]
  },
  {
   "cell_type": "markdown",
   "id": "15c47102",
   "metadata": {},
   "source": [
    "## Part 2\n",
    "### Selecting Rows and Columns"
   ]
  },
  {
   "cell_type": "code",
   "execution_count": 9,
   "id": "17d6951c",
   "metadata": {},
   "outputs": [],
   "source": [
    "df = pd.read_csv('data/survey_results_public.csv')\n",
    "schema_df = pd.read_csv(\"data/survey_results_schema.csv\")"
   ]
  },
  {
   "cell_type": "code",
   "execution_count": 10,
   "id": "8f5b3cbf",
   "metadata": {},
   "outputs": [],
   "source": [
    "pd.set_option('display.max_columns',85)\n",
    "pd.set_option('display.max_rows',85)"
   ]
  },
  {
   "cell_type": "markdown",
   "id": "bcc8bc20",
   "metadata": {},
   "source": [
    "#### converter dictionary em DataFrame e manipular colunas e linhas"
   ]
  },
  {
   "cell_type": "code",
   "execution_count": 11,
   "id": "c06f8cca",
   "metadata": {},
   "outputs": [],
   "source": [
    "people = {\n",
    "    'first':['Corey','Jane','John'],\n",
    "    'last':['Schafer','Doe','Doe'],\n",
    "    'email':['CoreyMSchafer@gmail.com','JaneDoe@email.com','JohnDoe@email.com'] \n",
    "}"
   ]
  },
  {
   "cell_type": "code",
   "execution_count": 12,
   "id": "8651bebc",
   "metadata": {},
   "outputs": [],
   "source": [
    "new_df = pd.DataFrame(people)"
   ]
  },
  {
   "cell_type": "code",
   "execution_count": 13,
   "id": "ef75e048",
   "metadata": {},
   "outputs": [],
   "source": [
    "new_df;"
   ]
  },
  {
   "cell_type": "code",
   "execution_count": 14,
   "id": "75645d99",
   "metadata": {},
   "outputs": [],
   "source": [
    "new_df['email'];\n",
    "#também poderia usar new_df.email"
   ]
  },
  {
   "cell_type": "code",
   "execution_count": 15,
   "id": "74c487b9",
   "metadata": {},
   "outputs": [
    {
     "data": {
      "text/plain": [
       "pandas.core.series.Series"
      ]
     },
     "execution_count": 15,
     "metadata": {},
     "output_type": "execute_result"
    }
   ],
   "source": [
    "# cada coluna do dataframe é uma series.\n",
    "# dataframes são objetos que comportam diversas series\n",
    "type(new_df['email'])"
   ]
  },
  {
   "cell_type": "code",
   "execution_count": 16,
   "id": "a27651bd",
   "metadata": {},
   "outputs": [],
   "source": [
    "new_df[['last','email']];\n",
    "# retorna um novo dataframe (series = coluna)"
   ]
  },
  {
   "cell_type": "code",
   "execution_count": 17,
   "id": "81abd20e",
   "metadata": {},
   "outputs": [
    {
     "data": {
      "text/plain": [
       "Index(['first', 'last', 'email'], dtype='object')"
      ]
     },
     "execution_count": 17,
     "metadata": {},
     "output_type": "execute_result"
    }
   ],
   "source": [
    "new_df.columns"
   ]
  },
  {
   "cell_type": "markdown",
   "id": "0b7385b9",
   "metadata": {},
   "source": [
    "- Para manipular linhas (rows) vamos usar loc e iloc"
   ]
  },
  {
   "cell_type": "code",
   "execution_count": 18,
   "id": "62df00b0",
   "metadata": {},
   "outputs": [],
   "source": [
    "#iloc = integer location\n",
    "new_df.iloc[0];\n",
    "# retorna uma series (coluna) com valores da linha 0 do dataframe\n",
    "## os indexes agora são o nome das colunas"
   ]
  },
  {
   "cell_type": "code",
   "execution_count": 19,
   "id": "1400d4c4",
   "metadata": {},
   "outputs": [],
   "source": [
    "new_df.iloc[[0,1]];"
   ]
  },
  {
   "cell_type": "code",
   "execution_count": 20,
   "id": "9f1143a1",
   "metadata": {},
   "outputs": [],
   "source": [
    "new_df.iloc[[0,1],2];"
   ]
  },
  {
   "cell_type": "code",
   "execution_count": 21,
   "id": "589babca",
   "metadata": {},
   "outputs": [],
   "source": [
    "#loc procura pelas labels (indexes)\n",
    "## por enquanto, para as linhas não vai mudar pois não demos nomes para os indexes das linhas (continuam 0,1,2...)\n",
    "new_df;"
   ]
  },
  {
   "cell_type": "code",
   "execution_count": 22,
   "id": "f44f9e93",
   "metadata": {},
   "outputs": [],
   "source": [
    "new_df.loc[0];"
   ]
  },
  {
   "cell_type": "code",
   "execution_count": 23,
   "id": "55a64e3f",
   "metadata": {},
   "outputs": [],
   "source": [
    "new_df.loc[[0,1],['last','email']];"
   ]
  },
  {
   "cell_type": "markdown",
   "id": "e63dd4c6",
   "metadata": {},
   "source": [
    "- Voltando para o df original"
   ]
  },
  {
   "cell_type": "code",
   "execution_count": 24,
   "id": "a924f14f",
   "metadata": {
    "scrolled": true
   },
   "outputs": [],
   "source": [
    "df.columns;"
   ]
  },
  {
   "cell_type": "code",
   "execution_count": 25,
   "id": "2779f66a",
   "metadata": {
    "scrolled": true
   },
   "outputs": [],
   "source": [
    "# só a coluna Hobbyist\n",
    "df['Hobbyist'];"
   ]
  },
  {
   "cell_type": "code",
   "execution_count": 26,
   "id": "bf8905fc",
   "metadata": {},
   "outputs": [
    {
     "data": {
      "text/plain": [
       "Yes    71257\n",
       "No     17626\n",
       "Name: Hobbyist, dtype: int64"
      ]
     },
     "execution_count": 26,
     "metadata": {},
     "output_type": "execute_result"
    }
   ],
   "source": [
    "df['Hobbyist'].value_counts()"
   ]
  },
  {
   "cell_type": "code",
   "execution_count": 27,
   "id": "bab08f8d",
   "metadata": {
    "scrolled": true
   },
   "outputs": [],
   "source": [
    "#só primeira linha\n",
    "df.loc[0];"
   ]
  },
  {
   "cell_type": "code",
   "execution_count": 28,
   "id": "9a15e59c",
   "metadata": {},
   "outputs": [
    {
     "data": {
      "text/plain": [
       "'Yes'"
      ]
     },
     "execution_count": 28,
     "metadata": {},
     "output_type": "execute_result"
    }
   ],
   "source": [
    "#primeira linha, coluna Hobbyist\n",
    "df.loc[0,'Hobbyist']"
   ]
  },
  {
   "cell_type": "code",
   "execution_count": 29,
   "id": "47937ba2",
   "metadata": {},
   "outputs": [],
   "source": [
    "#se quiser primeiras 3 linhas (0,1,2) pode usar slice mas... \n",
    "## A ÚLTIMA LINHA E COLUNA É INCLUÍDA (diferente da maioria dos slicing no python)\n",
    "df.loc[0:2,'Hobbyist':'Employment'];"
   ]
  },
  {
   "cell_type": "markdown",
   "id": "68efdf5f",
   "metadata": {},
   "source": [
    "## Part 3\n",
    "### Indexes"
   ]
  },
  {
   "cell_type": "code",
   "execution_count": 30,
   "id": "0519b242",
   "metadata": {},
   "outputs": [],
   "source": [
    "new_df['email'];"
   ]
  },
  {
   "cell_type": "code",
   "execution_count": 31,
   "id": "53ce8e13",
   "metadata": {},
   "outputs": [],
   "source": [
    "#definir uma das colunas para ser o index de cada linha\n",
    "new_df.set_index('email');"
   ]
  },
  {
   "cell_type": "code",
   "execution_count": 32,
   "id": "b3b1a872",
   "metadata": {},
   "outputs": [],
   "source": [
    "new_df.set_index('email',inplace=True)\n",
    "new_df;"
   ]
  },
  {
   "cell_type": "code",
   "execution_count": 33,
   "id": "82478dc5",
   "metadata": {},
   "outputs": [
    {
     "data": {
      "text/plain": [
       "Index(['CoreyMSchafer@gmail.com', 'JaneDoe@email.com', 'JohnDoe@email.com'], dtype='object', name='email')"
      ]
     },
     "execution_count": 33,
     "metadata": {},
     "output_type": "execute_result"
    }
   ],
   "source": [
    "new_df.index"
   ]
  },
  {
   "cell_type": "code",
   "execution_count": 34,
   "id": "c62c46c2",
   "metadata": {},
   "outputs": [],
   "source": [
    "new_df.loc['CoreyMSchafer@gmail.com'];"
   ]
  },
  {
   "cell_type": "code",
   "execution_count": 35,
   "id": "fbeb3d95",
   "metadata": {},
   "outputs": [],
   "source": [
    "#para remover a coluna dos index (voltar para 0,1,2...)\n",
    "new_df.reset_index(inplace=True)\n",
    "new_df;"
   ]
  },
  {
   "cell_type": "markdown",
   "id": "7c2d9003",
   "metadata": {},
   "source": [
    "- Voltando para o df original"
   ]
  },
  {
   "cell_type": "code",
   "execution_count": 36,
   "id": "3d650106",
   "metadata": {
    "scrolled": true
   },
   "outputs": [],
   "source": [
    "df;"
   ]
  },
  {
   "cell_type": "code",
   "execution_count": 37,
   "id": "3e232bf3",
   "metadata": {
    "scrolled": true
   },
   "outputs": [],
   "source": [
    "#ao invez de usar df.set_index('Respondent') vamos usar direto quando chamamos o arquivo\n",
    "df = pd.read_csv('data/survey_results_public.csv', index_col='Respondent')\n",
    "df;"
   ]
  },
  {
   "cell_type": "code",
   "execution_count": 38,
   "id": "fd231fe7",
   "metadata": {},
   "outputs": [],
   "source": [
    "schema_df = pd.read_csv(\"data/survey_results_schema.csv\", index_col='Column')\n",
    "schema_df;"
   ]
  },
  {
   "cell_type": "code",
   "execution_count": 39,
   "id": "89959b2c",
   "metadata": {},
   "outputs": [
    {
     "data": {
      "text/plain": [
       "QuestionText    How confident are you that your manager knows ...\n",
       "Name: MgrIdiot, dtype: object"
      ]
     },
     "execution_count": 39,
     "metadata": {},
     "output_type": "execute_result"
    }
   ],
   "source": [
    "schema_df.loc['MgrIdiot']"
   ]
  },
  {
   "cell_type": "code",
   "execution_count": 40,
   "id": "4836bbac",
   "metadata": {},
   "outputs": [
    {
     "data": {
      "text/plain": [
       "'How confident are you that your manager knows what they’re doing?'"
      ]
     },
     "execution_count": 40,
     "metadata": {},
     "output_type": "execute_result"
    }
   ],
   "source": [
    "schema_df.loc['MgrIdiot','QuestionText']"
   ]
  },
  {
   "cell_type": "code",
   "execution_count": 41,
   "id": "46608b90",
   "metadata": {
    "scrolled": true
   },
   "outputs": [],
   "source": [
    "# ordenar do menor para maior\n",
    "schema_df.sort_index();"
   ]
  },
  {
   "cell_type": "code",
   "execution_count": 42,
   "id": "d540d3fd",
   "metadata": {},
   "outputs": [],
   "source": [
    "# ordenar do maior para menor\n",
    "schema_df.sort_index(ascending=False);"
   ]
  },
  {
   "cell_type": "markdown",
   "id": "dd33efc0",
   "metadata": {},
   "source": [
    "## Part 4\n",
    "### Filtering"
   ]
  },
  {
   "cell_type": "code",
   "execution_count": 43,
   "id": "0d5629cd",
   "metadata": {},
   "outputs": [],
   "source": [
    "people = {\n",
    "    'first':['Corey','Jane','John'],\n",
    "    'last':['Schafer','Doe','Doe'],\n",
    "    'email':['CoreyMSchafer@gmail.com','JaneDoe@email.com','JohnDoe@email.com'] \n",
    "}\n",
    "new_df = pd.DataFrame(people)\n",
    "new_df;"
   ]
  },
  {
   "cell_type": "code",
   "execution_count": 44,
   "id": "166557df",
   "metadata": {},
   "outputs": [],
   "source": [
    "#filter mask\n",
    "filt = new_df['last']=='Doe'\n",
    "filt;"
   ]
  },
  {
   "cell_type": "code",
   "execution_count": 45,
   "id": "ca25d25b",
   "metadata": {},
   "outputs": [],
   "source": [
    "#usando o filter mask\n",
    "new_df[filt];"
   ]
  },
  {
   "cell_type": "code",
   "execution_count": 46,
   "id": "d4397292",
   "metadata": {},
   "outputs": [],
   "source": [
    "#usando diretamente (lê-se: new_df such that new_df['last'] é igual a 'Doe')\n",
    "new_df[new_df['last']=='Doe'];"
   ]
  },
  {
   "cell_type": "code",
   "execution_count": 47,
   "id": "b4a80fd2",
   "metadata": {},
   "outputs": [],
   "source": [
    "#outro jeito é usar o .loc, que permite que a gente filtre colunas também\n",
    "#funciona pois o .loc[linhas,colunas] vai consider True = quero essa linha, e False = não quero essa linha\n",
    "new_df.loc[filt,'email'];"
   ]
  },
  {
   "cell_type": "code",
   "execution_count": 48,
   "id": "72116b79",
   "metadata": {},
   "outputs": [],
   "source": [
    "#and = &, or = |\n",
    "filt2 = (new_df['last']=='Doe') & (new_df['first']=='John')\n",
    "new_df.loc[filt2,'email'];"
   ]
  },
  {
   "cell_type": "code",
   "execution_count": 49,
   "id": "4ccd06a6",
   "metadata": {},
   "outputs": [],
   "source": [
    "# ~ é o símbolo de negação, e irá retornar o oposto do filtro\n",
    "new_df.loc[~filt2,'email'];"
   ]
  },
  {
   "cell_type": "markdown",
   "id": "3b45b865",
   "metadata": {},
   "source": [
    "- Voltando para o df original"
   ]
  },
  {
   "cell_type": "code",
   "execution_count": 50,
   "id": "c0cf33a6",
   "metadata": {},
   "outputs": [],
   "source": [
    "#salários estão na coluna ConvertedComp"
   ]
  },
  {
   "cell_type": "code",
   "execution_count": 51,
   "id": "d48d1de7",
   "metadata": {},
   "outputs": [],
   "source": [
    "#usamos um novo método do Pandas (.isin(list))\n",
    "countries = ['United States','India','United Kingdom','Germany','Canada']\n",
    "high_salaries = (df['ConvertedComp']>70000) & (df['Country'].isin(countries))\n",
    "high_salaries_br = (df['ConvertedComp']>70000) & (df['Country']=='Brazil')"
   ]
  },
  {
   "cell_type": "code",
   "execution_count": 52,
   "id": "f3a1fac3",
   "metadata": {
    "scrolled": true
   },
   "outputs": [],
   "source": [
    "df.loc[high_salaries,['Country','LanguageWorkedWith','ConvertedComp']];"
   ]
  },
  {
   "cell_type": "code",
   "execution_count": 53,
   "id": "d3e05206",
   "metadata": {},
   "outputs": [],
   "source": [
    "df.loc[high_salaries_br,['Country','LanguageWorkedWith','ConvertedComp']];"
   ]
  },
  {
   "cell_type": "code",
   "execution_count": 54,
   "id": "e86c4f4d",
   "metadata": {},
   "outputs": [],
   "source": [
    "#usamos um novo string method do Pandas (.str.contains(word))\n",
    "filt_python = df['LanguageWorkedWith'].str.contains('Python',na=False)\n",
    "df.loc[filt_python,['Country','LanguageWorkedWith','ConvertedComp']];"
   ]
  },
  {
   "cell_type": "markdown",
   "id": "bdb8e29f",
   "metadata": {},
   "source": [
    "## Part 5\n",
    "### Updating Rows and Columns"
   ]
  },
  {
   "cell_type": "code",
   "execution_count": 55,
   "id": "b0c9409d",
   "metadata": {},
   "outputs": [
    {
     "data": {
      "text/plain": [
       "Index(['first', 'last', 'email'], dtype='object')"
      ]
     },
     "execution_count": 55,
     "metadata": {},
     "output_type": "execute_result"
    }
   ],
   "source": [
    "new_df.columns"
   ]
  },
  {
   "cell_type": "code",
   "execution_count": 56,
   "id": "e9a0d693",
   "metadata": {},
   "outputs": [],
   "source": [
    "#mudar nome de todas colunas\n",
    "new_df.columns=['first_name','second_name','email']\n",
    "new_df;"
   ]
  },
  {
   "cell_type": "code",
   "execution_count": 57,
   "id": "6b933ad9",
   "metadata": {},
   "outputs": [],
   "source": [
    "#vamos usar list comprehension\n",
    "new_df.columns = [x.upper() for x in new_df.columns]\n",
    "new_df;"
   ]
  },
  {
   "cell_type": "code",
   "execution_count": 58,
   "id": "3d8bc70d",
   "metadata": {},
   "outputs": [],
   "source": [
    "#substituir caracteres nas colunas\n",
    "new_df.columns = new_df.columns.str.replace('_','*')\n",
    "new_df;"
   ]
  },
  {
   "cell_type": "code",
   "execution_count": 59,
   "id": "8d5b9a18",
   "metadata": {},
   "outputs": [
    {
     "name": "stderr",
     "output_type": "stream",
     "text": [
      "C:\\Users\\Victor\\AppData\\Local\\Temp\\ipykernel_28480\\3050507091.py:1: FutureWarning: The default value of regex will change from True to False in a future version. In addition, single character regular expressions will *not* be treated as literal strings when regex=True.\n",
      "  new_df.columns = new_df.columns.str.replace('*','_')\n"
     ]
    }
   ],
   "source": [
    "new_df.columns = new_df.columns.str.replace('*','_')\n",
    "new_df.columns = [x.lower() for x in new_df.columns]\n",
    "new_df;"
   ]
  },
  {
   "cell_type": "code",
   "execution_count": 60,
   "id": "2ca61d44",
   "metadata": {},
   "outputs": [],
   "source": [
    "#editando apenas algumas colunas\n",
    "new_df.rename(columns={'first_name':'first','second_name':'last'},inplace=True)\n",
    "new_df;"
   ]
  },
  {
   "cell_type": "markdown",
   "id": "601256e6",
   "metadata": {},
   "source": [
    "#### Editando linhas (importante)"
   ]
  },
  {
   "cell_type": "code",
   "execution_count": 61,
   "id": "a997e16a",
   "metadata": {},
   "outputs": [],
   "source": [
    "new_df;"
   ]
  },
  {
   "cell_type": "code",
   "execution_count": 62,
   "id": "06a0190a",
   "metadata": {},
   "outputs": [],
   "source": [
    "new_df.loc[2];"
   ]
  },
  {
   "cell_type": "code",
   "execution_count": 63,
   "id": "1bea3a77",
   "metadata": {},
   "outputs": [],
   "source": [
    "new_df.loc[2] = ['João','Damião','JoãoDamião@email.com']\n",
    "new_df;"
   ]
  },
  {
   "cell_type": "code",
   "execution_count": 64,
   "id": "c09422d5",
   "metadata": {},
   "outputs": [],
   "source": [
    "new_df.loc[2,['last','email']] = ['Damasceno','JoãoDamasceno@email.com']\n",
    "new_df;"
   ]
  },
  {
   "cell_type": "code",
   "execution_count": 65,
   "id": "9cabc635",
   "metadata": {},
   "outputs": [],
   "source": [
    "# usando filter\n",
    "filt = (new_df['email']=='JoãoDamasceno@email.com')\n",
    "new_df.loc[filt,'first'] = 'Tião'\n",
    "new_df;"
   ]
  },
  {
   "cell_type": "code",
   "execution_count": 66,
   "id": "d36153d9",
   "metadata": {},
   "outputs": [],
   "source": [
    "# mudar varias rows ao mesmo tempo\n",
    "new_df['email'] = new_df['email'].str.lower()\n",
    "new_df;"
   ]
  },
  {
   "cell_type": "markdown",
   "id": "f44f452c",
   "metadata": {},
   "source": [
    "- Métodos que vamos aprender: apply, map, applymap, replace"
   ]
  },
  {
   "cell_type": "code",
   "execution_count": 67,
   "id": "a74a19bc",
   "metadata": {},
   "outputs": [],
   "source": [
    "#apply - aplica uma function para cada valor numa série ou dataframe\n",
    "new_df['email'].apply(len);"
   ]
  },
  {
   "cell_type": "code",
   "execution_count": 68,
   "id": "a167c953",
   "metadata": {},
   "outputs": [],
   "source": [
    "def update_email(email):\n",
    "    return email.upper()"
   ]
  },
  {
   "cell_type": "code",
   "execution_count": 69,
   "id": "ab437044",
   "metadata": {},
   "outputs": [],
   "source": [
    "new_df['email'] = new_df['email'].apply(update_email)\n",
    "new_df;"
   ]
  },
  {
   "cell_type": "code",
   "execution_count": 70,
   "id": "4abb04eb",
   "metadata": {},
   "outputs": [],
   "source": [
    "#aplicando uma lambda function dentro do método apply\n",
    "new_df['email'] = new_df['email'].apply(lambda x: x.lower())\n",
    "new_df;"
   ]
  },
  {
   "cell_type": "code",
   "execution_count": 71,
   "id": "30e22a45",
   "metadata": {},
   "outputs": [],
   "source": [
    "#aplicando o método apply no DataFrame\n",
    "#aplicou len para cada coluna\n",
    "new_df.apply(len);"
   ]
  },
  {
   "cell_type": "code",
   "execution_count": 72,
   "id": "16a1b85a",
   "metadata": {},
   "outputs": [],
   "source": [
    "#aplicou len para cada row\n",
    "#como sempre, axis são um pouco contraintuitivos\n",
    "new_df.apply(len,axis='columns');"
   ]
  },
  {
   "cell_type": "code",
   "execution_count": 73,
   "id": "999d71fc",
   "metadata": {},
   "outputs": [],
   "source": [
    "new_df.apply(pd.Series.min);"
   ]
  },
  {
   "cell_type": "code",
   "execution_count": 74,
   "id": "466dd071",
   "metadata": {},
   "outputs": [],
   "source": [
    "new_df.apply(lambda x: x.min());"
   ]
  },
  {
   "cell_type": "code",
   "execution_count": 75,
   "id": "002d63a0",
   "metadata": {},
   "outputs": [],
   "source": [
    "#o método applymap funciona apenas com DataFrames\n",
    "new_df.applymap(len);"
   ]
  },
  {
   "cell_type": "code",
   "execution_count": 76,
   "id": "4b7cee89",
   "metadata": {},
   "outputs": [],
   "source": [
    "new_df.applymap(str.lower);"
   ]
  },
  {
   "cell_type": "code",
   "execution_count": 77,
   "id": "732449d2",
   "metadata": {},
   "outputs": [],
   "source": [
    "#o método map só funciona com Series\n",
    "new_df['first'].map({'Corey':'Chris','Jane':'Mary'});"
   ]
  },
  {
   "cell_type": "code",
   "execution_count": 78,
   "id": "afd8bcd8",
   "metadata": {},
   "outputs": [],
   "source": [
    "new_df['first']=new_df['first'].replace({'Corey':'Chris','Jane':'Mary'})\n",
    "new_df;"
   ]
  },
  {
   "cell_type": "markdown",
   "id": "faada6b5",
   "metadata": {},
   "source": [
    "- Voltando para o df original"
   ]
  },
  {
   "cell_type": "code",
   "execution_count": 79,
   "id": "978789f9",
   "metadata": {
    "scrolled": true
   },
   "outputs": [],
   "source": [
    "df.rename(columns={'ConvertedComp':'SalaryUSD'},inplace=True)\n",
    "df;"
   ]
  },
  {
   "cell_type": "code",
   "execution_count": 80,
   "id": "213fc886",
   "metadata": {},
   "outputs": [],
   "source": [
    "df['SalaryUSD'];"
   ]
  },
  {
   "cell_type": "code",
   "execution_count": 81,
   "id": "621c9e99",
   "metadata": {
    "scrolled": true
   },
   "outputs": [],
   "source": [
    "df['Hobbyist'] = df['Hobbyist'].map({'Yes':True,'No':False})\n",
    "df;"
   ]
  },
  {
   "cell_type": "markdown",
   "id": "ae32f89c",
   "metadata": {},
   "source": [
    "## Part 6\n",
    "### Add and Remove Rows and Columns"
   ]
  },
  {
   "cell_type": "code",
   "execution_count": 82,
   "id": "86bff58b",
   "metadata": {},
   "outputs": [],
   "source": [
    "people = {\n",
    "    'first':['Corey','Jane','John'],\n",
    "    'last':['Schafer','Doe','Doe'],\n",
    "    'email':['CoreyMSchafer@gmail.com','JaneDoe@email.com','JohnDoe@email.com'] \n",
    "}\n",
    "new_df = pd.DataFrame(people)\n",
    "new_df;"
   ]
  },
  {
   "cell_type": "code",
   "execution_count": 83,
   "id": "6c324f5d",
   "metadata": {},
   "outputs": [],
   "source": [
    "new_df;"
   ]
  },
  {
   "cell_type": "code",
   "execution_count": 84,
   "id": "4b78d927",
   "metadata": {},
   "outputs": [],
   "source": [
    "new_df['first']+' '+new_df['last'];"
   ]
  },
  {
   "cell_type": "code",
   "execution_count": 85,
   "id": "03a3cd4e",
   "metadata": {},
   "outputs": [],
   "source": [
    "#add column\n",
    "new_df['full_name']=new_df['first']+' '+new_df['last']\n",
    "new_df;"
   ]
  },
  {
   "cell_type": "code",
   "execution_count": 86,
   "id": "ebb10d12",
   "metadata": {},
   "outputs": [],
   "source": [
    "#remove column\n",
    "new_df.drop(columns=['first','last'], inplace=True)\n",
    "new_df;"
   ]
  },
  {
   "cell_type": "code",
   "execution_count": 87,
   "id": "b8eab5f6",
   "metadata": {},
   "outputs": [],
   "source": [
    "new_df['full_name'].str.split(' ',expand=True);"
   ]
  },
  {
   "cell_type": "code",
   "execution_count": 88,
   "id": "23ad8d61",
   "metadata": {},
   "outputs": [],
   "source": [
    "new_df[['first','last']]=new_df['full_name'].str.split(' ',expand=True)"
   ]
  },
  {
   "cell_type": "code",
   "execution_count": 89,
   "id": "3e7fb081",
   "metadata": {},
   "outputs": [],
   "source": [
    "new_df;"
   ]
  },
  {
   "cell_type": "code",
   "execution_count": 90,
   "id": "7b42851b",
   "metadata": {
    "scrolled": true
   },
   "outputs": [
    {
     "name": "stderr",
     "output_type": "stream",
     "text": [
      "C:\\Users\\Victor\\AppData\\Local\\Temp\\ipykernel_28480\\2575510983.py:2: FutureWarning: The frame.append method is deprecated and will be removed from pandas in a future version. Use pandas.concat instead.\n",
      "  new_df.append({'first':'Tony'}, ignore_index=True);\n"
     ]
    }
   ],
   "source": [
    "#add or remove rows\n",
    "new_df.append({'first':'Tony'}, ignore_index=True);"
   ]
  },
  {
   "cell_type": "code",
   "execution_count": 91,
   "id": "fb78b0e8",
   "metadata": {},
   "outputs": [],
   "source": [
    "people = {\n",
    "    'first':['Tony','Steve'],\n",
    "    'last':['Stark','Rogers'],\n",
    "    'email':['IronMan@avenge.com','Cap@avenge.com'] \n",
    "}\n",
    "new_df2 = pd.DataFrame(people)\n",
    "new_df2;"
   ]
  },
  {
   "cell_type": "code",
   "execution_count": 92,
   "id": "d0a6c4b8",
   "metadata": {},
   "outputs": [
    {
     "name": "stderr",
     "output_type": "stream",
     "text": [
      "C:\\Users\\Victor\\AppData\\Local\\Temp\\ipykernel_28480\\2718152919.py:1: FutureWarning: The frame.append method is deprecated and will be removed from pandas in a future version. Use pandas.concat instead.\n",
      "  new_df = new_df.append(new_df2, ignore_index=True)\n"
     ]
    }
   ],
   "source": [
    "new_df = new_df.append(new_df2, ignore_index=True)\n",
    "new_df;"
   ]
  },
  {
   "cell_type": "code",
   "execution_count": 93,
   "id": "883dea32",
   "metadata": {},
   "outputs": [
    {
     "data": {
      "text/html": [
       "<div>\n",
       "<style scoped>\n",
       "    .dataframe tbody tr th:only-of-type {\n",
       "        vertical-align: middle;\n",
       "    }\n",
       "\n",
       "    .dataframe tbody tr th {\n",
       "        vertical-align: top;\n",
       "    }\n",
       "\n",
       "    .dataframe thead th {\n",
       "        text-align: right;\n",
       "    }\n",
       "</style>\n",
       "<table border=\"1\" class=\"dataframe\">\n",
       "  <thead>\n",
       "    <tr style=\"text-align: right;\">\n",
       "      <th></th>\n",
       "      <th>email</th>\n",
       "      <th>full_name</th>\n",
       "      <th>first</th>\n",
       "      <th>last</th>\n",
       "    </tr>\n",
       "  </thead>\n",
       "  <tbody>\n",
       "    <tr>\n",
       "      <th>0</th>\n",
       "      <td>CoreyMSchafer@gmail.com</td>\n",
       "      <td>Corey Schafer</td>\n",
       "      <td>Corey</td>\n",
       "      <td>Schafer</td>\n",
       "    </tr>\n",
       "    <tr>\n",
       "      <th>1</th>\n",
       "      <td>JaneDoe@email.com</td>\n",
       "      <td>Jane Doe</td>\n",
       "      <td>Jane</td>\n",
       "      <td>Doe</td>\n",
       "    </tr>\n",
       "    <tr>\n",
       "      <th>2</th>\n",
       "      <td>JohnDoe@email.com</td>\n",
       "      <td>John Doe</td>\n",
       "      <td>John</td>\n",
       "      <td>Doe</td>\n",
       "    </tr>\n",
       "    <tr>\n",
       "      <th>3</th>\n",
       "      <td>IronMan@avenge.com</td>\n",
       "      <td>NaN</td>\n",
       "      <td>Tony</td>\n",
       "      <td>Stark</td>\n",
       "    </tr>\n",
       "  </tbody>\n",
       "</table>\n",
       "</div>"
      ],
      "text/plain": [
       "                     email      full_name  first     last\n",
       "0  CoreyMSchafer@gmail.com  Corey Schafer  Corey  Schafer\n",
       "1        JaneDoe@email.com       Jane Doe   Jane      Doe\n",
       "2        JohnDoe@email.com       John Doe   John      Doe\n",
       "3       IronMan@avenge.com            NaN   Tony    Stark"
      ]
     },
     "execution_count": 93,
     "metadata": {},
     "output_type": "execute_result"
    }
   ],
   "source": [
    "#remove rows\n",
    "new_df.drop(index=4)"
   ]
  },
  {
   "cell_type": "code",
   "execution_count": 94,
   "id": "e108ca05",
   "metadata": {},
   "outputs": [],
   "source": [
    "filt = new_df['last']=='Doe'"
   ]
  },
  {
   "cell_type": "code",
   "execution_count": 95,
   "id": "8f71822c",
   "metadata": {},
   "outputs": [],
   "source": [
    "new_df.drop(index=new_df[filt].index);"
   ]
  },
  {
   "cell_type": "markdown",
   "id": "4081af3e",
   "metadata": {},
   "source": [
    "## Part 7\n",
    "### Sorting Data"
   ]
  },
  {
   "cell_type": "code",
   "execution_count": 96,
   "id": "33e86e09",
   "metadata": {},
   "outputs": [],
   "source": [
    "people = {\n",
    "    'first':['Corey','Jane','John','Adam'],\n",
    "    'last':['Schafer','Doe','Doe','Doe'],\n",
    "    'email':['CoreyMSchafer@gmail.com','JaneDoe@email.com','JohnDoe@email.com','AdamDoe@email.com'] \n",
    "}\n",
    "new_df = pd.DataFrame(people)\n",
    "new_df;"
   ]
  },
  {
   "cell_type": "code",
   "execution_count": 97,
   "id": "90148302",
   "metadata": {},
   "outputs": [],
   "source": [
    "new_df.sort_values(by='last');"
   ]
  },
  {
   "cell_type": "code",
   "execution_count": 98,
   "id": "e8732b56",
   "metadata": {},
   "outputs": [],
   "source": [
    "new_df.sort_values(by='last',ascending=False);"
   ]
  },
  {
   "cell_type": "code",
   "execution_count": 99,
   "id": "30372aa2",
   "metadata": {},
   "outputs": [],
   "source": [
    "new_df.sort_values(by=['last','first'],ascending=False);"
   ]
  },
  {
   "cell_type": "code",
   "execution_count": 100,
   "id": "d3b13c0d",
   "metadata": {},
   "outputs": [],
   "source": [
    "new_df.sort_values(by=['last','first'],ascending=[False,True],inplace=True);\n",
    "new_df;"
   ]
  },
  {
   "cell_type": "code",
   "execution_count": 101,
   "id": "64f84a17",
   "metadata": {},
   "outputs": [],
   "source": [
    "new_df.sort_index();"
   ]
  },
  {
   "cell_type": "code",
   "execution_count": 102,
   "id": "28276eae",
   "metadata": {},
   "outputs": [],
   "source": [
    "#sorting a series only\n",
    "new_df['last'].sort_values();"
   ]
  },
  {
   "cell_type": "code",
   "execution_count": 103,
   "id": "b81a4ae2",
   "metadata": {
    "scrolled": true
   },
   "outputs": [],
   "source": [
    "df.head();"
   ]
  },
  {
   "cell_type": "code",
   "execution_count": 104,
   "id": "85b46ba1",
   "metadata": {},
   "outputs": [],
   "source": [
    "df.sort_values(by=['Country','SalaryUSD'],ascending=[True,False],inplace=True);"
   ]
  },
  {
   "cell_type": "code",
   "execution_count": 105,
   "id": "842d60fc",
   "metadata": {},
   "outputs": [],
   "source": [
    "df[['Country','SalaryUSD']].head(50);"
   ]
  },
  {
   "cell_type": "code",
   "execution_count": 106,
   "id": "39d56ac1",
   "metadata": {},
   "outputs": [],
   "source": [
    "df['SalaryUSD'].nlargest(10);"
   ]
  },
  {
   "cell_type": "code",
   "execution_count": 107,
   "id": "06cfd97d",
   "metadata": {
    "scrolled": true
   },
   "outputs": [],
   "source": [
    "df.nlargest(10,'SalaryUSD');"
   ]
  },
  {
   "cell_type": "code",
   "execution_count": null,
   "id": "4b6198d9",
   "metadata": {},
   "outputs": [],
   "source": []
  },
  {
   "cell_type": "code",
   "execution_count": null,
   "id": "02a76b0c",
   "metadata": {},
   "outputs": [],
   "source": []
  },
  {
   "cell_type": "code",
   "execution_count": null,
   "id": "5f226a6b",
   "metadata": {},
   "outputs": [],
   "source": []
  },
  {
   "cell_type": "code",
   "execution_count": null,
   "id": "add9661a",
   "metadata": {},
   "outputs": [],
   "source": []
  },
  {
   "cell_type": "code",
   "execution_count": null,
   "id": "4a4ea116",
   "metadata": {},
   "outputs": [],
   "source": []
  },
  {
   "cell_type": "code",
   "execution_count": null,
   "id": "dd0f7b6b",
   "metadata": {},
   "outputs": [],
   "source": []
  },
  {
   "cell_type": "code",
   "execution_count": null,
   "id": "2b5de968",
   "metadata": {},
   "outputs": [],
   "source": []
  },
  {
   "cell_type": "code",
   "execution_count": null,
   "id": "1fff233f",
   "metadata": {},
   "outputs": [],
   "source": []
  },
  {
   "cell_type": "code",
   "execution_count": null,
   "id": "9d5a410e",
   "metadata": {},
   "outputs": [],
   "source": []
  }
 ],
 "metadata": {
  "kernelspec": {
   "display_name": "Python 3 (ipykernel)",
   "language": "python",
   "name": "python3"
  },
  "language_info": {
   "codemirror_mode": {
    "name": "ipython",
    "version": 3
   },
   "file_extension": ".py",
   "mimetype": "text/x-python",
   "name": "python",
   "nbconvert_exporter": "python",
   "pygments_lexer": "ipython3",
   "version": "3.10.9"
  }
 },
 "nbformat": 4,
 "nbformat_minor": 5
}
