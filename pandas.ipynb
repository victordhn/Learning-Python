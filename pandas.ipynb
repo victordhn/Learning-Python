{
 "cells": [
  {
   "cell_type": "markdown",
   "id": "4ddcb1be",
   "metadata": {},
   "source": [
    "## Por: victordhn\n",
    "#### Seguindo tutorial do @CoreyMSchafer"
   ]
  },
  {
   "cell_type": "code",
   "execution_count": 1,
   "id": "defd502f",
   "metadata": {},
   "outputs": [],
   "source": [
    "import pandas as pd"
   ]
  },
  {
   "cell_type": "markdown",
   "id": "a2671dae",
   "metadata": {},
   "source": [
    "### Vamos usar dados da pesquisa do Stack Overflow\n",
    "- https://insights.stackoverflow.com/survey\n",
    "- para seguir o tutorial mais precisamente, vou usar os dados de 2019\n",
    "\n",
    "#### Atenção, ao longo do tutorial vamos usar um mini DataFrame (chamado df_new) para treino, e depois aplicaremos os conceitos ao DataFrame do Stack Overflow (chamado df)"
   ]
  },
  {
   "cell_type": "markdown",
   "id": "4d4e4f33",
   "metadata": {},
   "source": [
    "### Importante:\n",
    "#### Todos comandos com output na tela estão com \";\" no final para esconder o output (ou estão comentados com # quando o ; não for possível). Essa é só uma forma de deixar o notebook mais fácil de ler depois que eu já analisei todo o output"
   ]
  },
  {
   "cell_type": "markdown",
   "id": "f8b2ca7c",
   "metadata": {},
   "source": [
    "## Part 1\n",
    "### Loading data and first analyses"
   ]
  },
  {
   "cell_type": "code",
   "execution_count": 2,
   "id": "4306dbd3",
   "metadata": {},
   "outputs": [],
   "source": [
    "df = pd.read_csv('data/survey_results_public.csv')"
   ]
  },
  {
   "cell_type": "code",
   "execution_count": 15,
   "id": "4573d77a",
   "metadata": {
    "scrolled": true
   },
   "outputs": [],
   "source": [
    "# O método .head() tem como padrão 5 linhas, mas pode ser alterado passando um valor, por exemplo, df.head(10)\n",
    "# Atenção, quando chamamos o dataframe, o Jupyter só mostra 20 colunas. Esse survey tem 85 colunas\n",
    "df.head();"
   ]
  },
  {
   "cell_type": "code",
   "execution_count": 4,
   "id": "595f4fcf",
   "metadata": {},
   "outputs": [
    {
     "data": {
      "text/plain": [
       "(88883, 85)"
      ]
     },
     "execution_count": 4,
     "metadata": {},
     "output_type": "execute_result"
    }
   ],
   "source": [
    "# linhas e colunas\n",
    "df.shape"
   ]
  },
  {
   "cell_type": "code",
   "execution_count": 16,
   "id": "114bf9cf",
   "metadata": {
    "scrolled": true
   },
   "outputs": [],
   "source": [
    "# usar método .info() para mais informações\n",
    "# df.info()"
   ]
  },
  {
   "cell_type": "code",
   "execution_count": 11,
   "id": "a842b778",
   "metadata": {
    "scrolled": true
   },
   "outputs": [],
   "source": [
    "# mudar setting para mostrar todas colunas\n",
    "pd.set_option('display.max_columns',85)\n",
    "df.head(10);"
   ]
  },
  {
   "cell_type": "code",
   "execution_count": 10,
   "id": "f0fc532c",
   "metadata": {
    "scrolled": false
   },
   "outputs": [],
   "source": [
    "schema_df = pd.read_csv(\"data/survey_results_schema.csv\")\n",
    "schema_df;"
   ]
  },
  {
   "cell_type": "code",
   "execution_count": 9,
   "id": "f387db98",
   "metadata": {
    "scrolled": true
   },
   "outputs": [],
   "source": [
    "# mudar setting para mostrar todas linhas\n",
    "pd.set_option('display.max_rows',85)\n",
    "schema_df;"
   ]
  },
  {
   "cell_type": "markdown",
   "id": "d87f33b7",
   "metadata": {},
   "source": [
    "## Part 2\n",
    "### Selecting Rows and Columns"
   ]
  },
  {
   "cell_type": "code",
   "execution_count": 17,
   "id": "17d6951c",
   "metadata": {},
   "outputs": [],
   "source": [
    "df = pd.read_csv('data/survey_results_public.csv')\n",
    "schema_df = pd.read_csv(\"data/survey_results_schema.csv\")"
   ]
  },
  {
   "cell_type": "code",
   "execution_count": 18,
   "id": "8f5b3cbf",
   "metadata": {},
   "outputs": [],
   "source": [
    "pd.set_option('display.max_columns',85)\n",
    "pd.set_option('display.max_rows',85)"
   ]
  },
  {
   "cell_type": "markdown",
   "id": "f3c3a739",
   "metadata": {},
   "source": [
    "#### converter dictionary em DataFrame e manipular colunas e linhas"
   ]
  },
  {
   "cell_type": "code",
   "execution_count": 19,
   "id": "c06f8cca",
   "metadata": {},
   "outputs": [],
   "source": [
    "people = {\n",
    "    'first':['Corey','Jane','John'],\n",
    "    'last':['Schafer','Doe','Doe'],\n",
    "    'email':['CoreyMSchafer@gmail.com','JaneDoe@email.com','JohnDoe@email.com'] \n",
    "}"
   ]
  },
  {
   "cell_type": "code",
   "execution_count": 38,
   "id": "8651bebc",
   "metadata": {},
   "outputs": [],
   "source": [
    "new_df = pd.DataFrame(people)"
   ]
  },
  {
   "cell_type": "code",
   "execution_count": 61,
   "id": "ef75e048",
   "metadata": {},
   "outputs": [],
   "source": [
    "new_df;"
   ]
  },
  {
   "cell_type": "code",
   "execution_count": 62,
   "id": "ef08c65b",
   "metadata": {},
   "outputs": [],
   "source": [
    "new_df['email'];\n",
    "#também poderia usar new_df.email"
   ]
  },
  {
   "cell_type": "code",
   "execution_count": 32,
   "id": "9b0e5a77",
   "metadata": {},
   "outputs": [
    {
     "data": {
      "text/plain": [
       "pandas.core.series.Series"
      ]
     },
     "execution_count": 32,
     "metadata": {},
     "output_type": "execute_result"
    }
   ],
   "source": [
    "# cada coluna do dataframe é uma series.\n",
    "# dataframes são objetos que comportam diversas series\n",
    "type(new_df['email'])"
   ]
  },
  {
   "cell_type": "code",
   "execution_count": 63,
   "id": "12b4ca6a",
   "metadata": {},
   "outputs": [],
   "source": [
    "new_df[['last','email']];\n",
    "# retorna um novo dataframe (series = coluna)"
   ]
  },
  {
   "cell_type": "code",
   "execution_count": 41,
   "id": "d3b3cce4",
   "metadata": {},
   "outputs": [
    {
     "data": {
      "text/plain": [
       "Index(['first', 'last', 'email'], dtype='object')"
      ]
     },
     "execution_count": 41,
     "metadata": {},
     "output_type": "execute_result"
    }
   ],
   "source": [
    "new_df.columns"
   ]
  },
  {
   "cell_type": "markdown",
   "id": "4a4a0f21",
   "metadata": {},
   "source": [
    "- Para manipular linhas (rows) vamos usar loc e iloc"
   ]
  },
  {
   "cell_type": "code",
   "execution_count": 64,
   "id": "368674aa",
   "metadata": {},
   "outputs": [],
   "source": [
    "#iloc = integer location\n",
    "new_df.iloc[0];\n",
    "# retorna uma series (coluna) com valores da linha 0 do dataframe\n",
    "## os indexes agora são o nome das colunas"
   ]
  },
  {
   "cell_type": "code",
   "execution_count": 65,
   "id": "bb257d61",
   "metadata": {},
   "outputs": [],
   "source": [
    "new_df.iloc[[0,1]];"
   ]
  },
  {
   "cell_type": "code",
   "execution_count": 66,
   "id": "d2eec3de",
   "metadata": {},
   "outputs": [],
   "source": [
    "new_df.iloc[[0,1],2];"
   ]
  },
  {
   "cell_type": "code",
   "execution_count": 67,
   "id": "9c4898f0",
   "metadata": {},
   "outputs": [],
   "source": [
    "#loc procura pelas labels (indexes)\n",
    "## por enquanto, para as linhas não vai mudar pois não demos nomes para os indexes das linhas (continuam 0,1,2...)\n",
    "new_df;"
   ]
  },
  {
   "cell_type": "code",
   "execution_count": 68,
   "id": "32207107",
   "metadata": {},
   "outputs": [],
   "source": [
    "new_df.loc[0];"
   ]
  },
  {
   "cell_type": "code",
   "execution_count": 69,
   "id": "726af5cb",
   "metadata": {},
   "outputs": [],
   "source": [
    "new_df.loc[[0,1],['last','email']];"
   ]
  },
  {
   "cell_type": "markdown",
   "id": "39e663c2",
   "metadata": {},
   "source": [
    "- Voltando para o df original"
   ]
  },
  {
   "cell_type": "code",
   "execution_count": 91,
   "id": "e12e42cf",
   "metadata": {
    "scrolled": true
   },
   "outputs": [],
   "source": [
    "df.columns;"
   ]
  },
  {
   "cell_type": "code",
   "execution_count": 92,
   "id": "229a456a",
   "metadata": {
    "scrolled": true
   },
   "outputs": [],
   "source": [
    "# só a coluna Hobbyist\n",
    "df['Hobbyist'];"
   ]
  },
  {
   "cell_type": "code",
   "execution_count": 79,
   "id": "9f91df3b",
   "metadata": {},
   "outputs": [
    {
     "data": {
      "text/plain": [
       "Yes    71257\n",
       "No     17626\n",
       "Name: Hobbyist, dtype: int64"
      ]
     },
     "execution_count": 79,
     "metadata": {},
     "output_type": "execute_result"
    }
   ],
   "source": [
    "df['Hobbyist'].value_counts()"
   ]
  },
  {
   "cell_type": "code",
   "execution_count": 93,
   "id": "ea49806f",
   "metadata": {
    "scrolled": true
   },
   "outputs": [],
   "source": [
    "#só primeira linha\n",
    "df.loc[0];"
   ]
  },
  {
   "cell_type": "code",
   "execution_count": 83,
   "id": "7e70e42e",
   "metadata": {},
   "outputs": [
    {
     "data": {
      "text/plain": [
       "'Yes'"
      ]
     },
     "execution_count": 83,
     "metadata": {},
     "output_type": "execute_result"
    }
   ],
   "source": [
    "#primeira linha, coluna Hobbyist\n",
    "df.loc[0,'Hobbyist']"
   ]
  },
  {
   "cell_type": "code",
   "execution_count": 94,
   "id": "df425c68",
   "metadata": {},
   "outputs": [],
   "source": [
    "#se quiser primeiras 3 linhas (0,1,2) pode usar slice mas... \n",
    "## A ÚLTIMA LINHA E COLUNA É INCLUÍDA (diferente da maioria dos slicing no python)\n",
    "df.loc[0:2,'Hobbyist':'Employment'];"
   ]
  },
  {
   "cell_type": "markdown",
   "id": "c3713190",
   "metadata": {},
   "source": [
    "## Part 3\n",
    "### Indexes"
   ]
  },
  {
   "cell_type": "code",
   "execution_count": 106,
   "id": "4bb3a5f7",
   "metadata": {},
   "outputs": [],
   "source": [
    "new_df['email'];"
   ]
  },
  {
   "cell_type": "code",
   "execution_count": 107,
   "id": "6ec9c3fd",
   "metadata": {},
   "outputs": [],
   "source": [
    "#definir uma das colunas para ser o index de cada linha\n",
    "new_df.set_index('email');"
   ]
  },
  {
   "cell_type": "code",
   "execution_count": 108,
   "id": "e7c2c433",
   "metadata": {},
   "outputs": [],
   "source": [
    "new_df.set_index('email',inplace=True)\n",
    "new_df;"
   ]
  },
  {
   "cell_type": "code",
   "execution_count": 103,
   "id": "c5f5be76",
   "metadata": {},
   "outputs": [
    {
     "data": {
      "text/plain": [
       "Index(['CoreyMSchafer@gmail.com', 'JaneDoe@email.com', 'JohnDoe@email.com'], dtype='object', name='email')"
      ]
     },
     "execution_count": 103,
     "metadata": {},
     "output_type": "execute_result"
    }
   ],
   "source": [
    "new_df.index"
   ]
  },
  {
   "cell_type": "code",
   "execution_count": 109,
   "id": "cb0c7e28",
   "metadata": {},
   "outputs": [],
   "source": [
    "new_df.loc['CoreyMSchafer@gmail.com'];"
   ]
  },
  {
   "cell_type": "code",
   "execution_count": 110,
   "id": "7e5d582b",
   "metadata": {},
   "outputs": [],
   "source": [
    "#para remover a coluna dos index (voltar para 0,1,2...)\n",
    "new_df.reset_index(inplace=True)\n",
    "new_df;"
   ]
  },
  {
   "cell_type": "markdown",
   "id": "75606dba",
   "metadata": {},
   "source": [
    "- Voltando para o df original"
   ]
  },
  {
   "cell_type": "code",
   "execution_count": 113,
   "id": "2e935aad",
   "metadata": {
    "scrolled": true
   },
   "outputs": [],
   "source": [
    "df;"
   ]
  },
  {
   "cell_type": "code",
   "execution_count": 114,
   "id": "de1fc5f7",
   "metadata": {
    "scrolled": true
   },
   "outputs": [],
   "source": [
    "#ao invez de usar df.set_index('Respondent') vamos usar direto quando chamamos o arquivo\n",
    "df = pd.read_csv('data/survey_results_public.csv', index_col='Respondent')\n",
    "df;"
   ]
  },
  {
   "cell_type": "code",
   "execution_count": 120,
   "id": "ecadb4e0",
   "metadata": {},
   "outputs": [],
   "source": [
    "schema_df = pd.read_csv(\"data/survey_results_schema.csv\", index_col='Column')\n",
    "schema_df;"
   ]
  },
  {
   "cell_type": "code",
   "execution_count": 116,
   "id": "8fe8f1da",
   "metadata": {},
   "outputs": [
    {
     "data": {
      "text/plain": [
       "QuestionText    How confident are you that your manager knows ...\n",
       "Name: MgrIdiot, dtype: object"
      ]
     },
     "execution_count": 116,
     "metadata": {},
     "output_type": "execute_result"
    }
   ],
   "source": [
    "schema_df.loc['MgrIdiot']"
   ]
  },
  {
   "cell_type": "code",
   "execution_count": 117,
   "id": "1597c229",
   "metadata": {},
   "outputs": [
    {
     "data": {
      "text/plain": [
       "'How confident are you that your manager knows what they’re doing?'"
      ]
     },
     "execution_count": 117,
     "metadata": {},
     "output_type": "execute_result"
    }
   ],
   "source": [
    "schema_df.loc['MgrIdiot','QuestionText']"
   ]
  },
  {
   "cell_type": "code",
   "execution_count": 121,
   "id": "de918130",
   "metadata": {
    "scrolled": true
   },
   "outputs": [],
   "source": [
    "# ordenar do menor para maior\n",
    "schema_df.sort_index();"
   ]
  },
  {
   "cell_type": "code",
   "execution_count": 122,
   "id": "08632d92",
   "metadata": {},
   "outputs": [],
   "source": [
    "# ordenar do maior para menor\n",
    "schema_df.sort_index(ascending=False);"
   ]
  },
  {
   "cell_type": "markdown",
   "id": "76d982c9",
   "metadata": {},
   "source": [
    "## Part 4\n",
    "### Filtering"
   ]
  },
  {
   "cell_type": "code",
   "execution_count": 147,
   "id": "9b0bbd34",
   "metadata": {},
   "outputs": [],
   "source": [
    "people = {\n",
    "    'first':['Corey','Jane','John'],\n",
    "    'last':['Schafer','Doe','Doe'],\n",
    "    'email':['CoreyMSchafer@gmail.com','JaneDoe@email.com','JohnDoe@email.com'] \n",
    "}\n",
    "new_df = pd.DataFrame(people)\n",
    "new_df;"
   ]
  },
  {
   "cell_type": "code",
   "execution_count": 148,
   "id": "84892702",
   "metadata": {},
   "outputs": [],
   "source": [
    "#filter mask\n",
    "filt = new_df['last']=='Doe'\n",
    "filt;"
   ]
  },
  {
   "cell_type": "code",
   "execution_count": 149,
   "id": "1e6b71a9",
   "metadata": {},
   "outputs": [],
   "source": [
    "#usando o filter mask\n",
    "new_df[filt];"
   ]
  },
  {
   "cell_type": "code",
   "execution_count": 150,
   "id": "9747fca1",
   "metadata": {},
   "outputs": [],
   "source": [
    "#usando diretamente (lê-se: new_df such that new_df['last'] é igual a 'Doe')\n",
    "new_df[new_df['last']=='Doe'];"
   ]
  },
  {
   "cell_type": "code",
   "execution_count": 151,
   "id": "f8e1e3eb",
   "metadata": {},
   "outputs": [],
   "source": [
    "#outro jeito é usar o .loc, que permite que a gente filtre colunas também\n",
    "#funciona pois o .loc[linhas,colunas] vai consider True = quero essa linha, e False = não quero essa linha\n",
    "new_df.loc[filt,'email'];"
   ]
  },
  {
   "cell_type": "code",
   "execution_count": 152,
   "id": "a408aac7",
   "metadata": {},
   "outputs": [],
   "source": [
    "#and = &, or = |\n",
    "filt2 = (new_df['last']=='Doe') & (new_df['first']=='John')\n",
    "new_df.loc[filt2,'email'];"
   ]
  },
  {
   "cell_type": "code",
   "execution_count": 153,
   "id": "3ae112bc",
   "metadata": {},
   "outputs": [],
   "source": [
    "# ~ é o símbolo de negação, e irá retornar o oposto do filtro\n",
    "new_df.loc[~filt2,'email'];"
   ]
  },
  {
   "cell_type": "markdown",
   "id": "4383f167",
   "metadata": {},
   "source": [
    "- Voltando para o df original"
   ]
  },
  {
   "cell_type": "code",
   "execution_count": 154,
   "id": "c35ab6eb",
   "metadata": {},
   "outputs": [],
   "source": [
    "#salários estão na coluna ConvertedComp"
   ]
  },
  {
   "cell_type": "code",
   "execution_count": 173,
   "id": "19ee78a9",
   "metadata": {},
   "outputs": [],
   "source": [
    "#usamos um novo método do Pandas (.isin(list))\n",
    "countries = ['United States','India','United Kingdom','Germany','Canada']\n",
    "high_salaries = (df['ConvertedComp']>70000) & (df['Country'].isin(countries))\n",
    "high_salaries_br = (df['ConvertedComp']>70000) & (df['Country']=='Brazil')"
   ]
  },
  {
   "cell_type": "code",
   "execution_count": 174,
   "id": "f5307e24",
   "metadata": {
    "scrolled": true
   },
   "outputs": [],
   "source": [
    "df.loc[high_salaries,['Country','LanguageWorkedWith','ConvertedComp']];"
   ]
  },
  {
   "cell_type": "code",
   "execution_count": 175,
   "id": "440b6d84",
   "metadata": {},
   "outputs": [],
   "source": [
    "df.loc[high_salaries_br,['Country','LanguageWorkedWith','ConvertedComp']];"
   ]
  },
  {
   "cell_type": "code",
   "execution_count": 176,
   "id": "ef76c42e",
   "metadata": {},
   "outputs": [],
   "source": [
    "#usamos um novo string method do Pandas (.str.contains(word))\n",
    "filt_python = df['LanguageWorkedWith'].str.contains('Python',na=False)\n",
    "df.loc[filt_python,['Country','LanguageWorkedWith','ConvertedComp']];"
   ]
  },
  {
   "cell_type": "markdown",
   "id": "51f8fae1",
   "metadata": {},
   "source": [
    "## Part 5\n",
    "### Updating Rows and Columns"
   ]
  },
  {
   "cell_type": "code",
   "execution_count": 194,
   "id": "0be6265f",
   "metadata": {},
   "outputs": [
    {
     "data": {
      "text/plain": [
       "Index(['first', 'last', 'email'], dtype='object')"
      ]
     },
     "execution_count": 194,
     "metadata": {},
     "output_type": "execute_result"
    }
   ],
   "source": [
    "new_df.columns"
   ]
  },
  {
   "cell_type": "code",
   "execution_count": 195,
   "id": "bd986ac1",
   "metadata": {},
   "outputs": [],
   "source": [
    "#mudar nome de todas colunas\n",
    "new_df.columns=['first_name','second_name','email']\n",
    "new_df;"
   ]
  },
  {
   "cell_type": "code",
   "execution_count": 196,
   "id": "1268c1bf",
   "metadata": {},
   "outputs": [],
   "source": [
    "#vamos usar list comprehension\n",
    "new_df.columns = [x.upper() for x in new_df.columns]\n",
    "new_df;"
   ]
  },
  {
   "cell_type": "code",
   "execution_count": 197,
   "id": "3605f490",
   "metadata": {},
   "outputs": [],
   "source": [
    "#substituir caracteres nas colunas\n",
    "new_df.columns = new_df.columns.str.replace('_','*')\n",
    "new_df;"
   ]
  },
  {
   "cell_type": "code",
   "execution_count": 198,
   "id": "db0dad7e",
   "metadata": {},
   "outputs": [
    {
     "name": "stderr",
     "output_type": "stream",
     "text": [
      "C:\\Users\\Victor\\AppData\\Local\\Temp\\ipykernel_22640\\3050507091.py:1: FutureWarning: The default value of regex will change from True to False in a future version. In addition, single character regular expressions will *not* be treated as literal strings when regex=True.\n",
      "  new_df.columns = new_df.columns.str.replace('*','_')\n"
     ]
    }
   ],
   "source": [
    "new_df.columns = new_df.columns.str.replace('*','_')\n",
    "new_df.columns = [x.lower() for x in new_df.columns]\n",
    "new_df;"
   ]
  },
  {
   "cell_type": "code",
   "execution_count": 199,
   "id": "a1fddd8d",
   "metadata": {},
   "outputs": [],
   "source": [
    "#editando apenas algumas colunas\n",
    "new_df.rename(columns={'first_name':'first','second_name':'last'},inplace=True)\n",
    "new_df;"
   ]
  },
  {
   "cell_type": "markdown",
   "id": "435ca412",
   "metadata": {},
   "source": [
    "#### Editando linhas (importante)"
   ]
  },
  {
   "cell_type": "code",
   "execution_count": 229,
   "id": "ca538595",
   "metadata": {},
   "outputs": [],
   "source": [
    "new_df;"
   ]
  },
  {
   "cell_type": "code",
   "execution_count": 230,
   "id": "420f6c53",
   "metadata": {},
   "outputs": [],
   "source": [
    "new_df.loc[2];"
   ]
  },
  {
   "cell_type": "code",
   "execution_count": 231,
   "id": "f6371a50",
   "metadata": {},
   "outputs": [],
   "source": [
    "new_df.loc[2] = ['João','Damião','JoãoDamião@email.com']\n",
    "new_df;"
   ]
  },
  {
   "cell_type": "code",
   "execution_count": 232,
   "id": "61e529ce",
   "metadata": {},
   "outputs": [],
   "source": [
    "new_df.loc[2,['last','email']] = ['Damasceno','JoãoDamasceno@email.com']\n",
    "new_df;"
   ]
  },
  {
   "cell_type": "code",
   "execution_count": 233,
   "id": "aba1a4ab",
   "metadata": {},
   "outputs": [],
   "source": [
    "# usando filter\n",
    "filt = (new_df['email']=='JoãoDamasceno@email.com')\n",
    "new_df.loc[filt,'first'] = 'Tião'\n",
    "new_df;"
   ]
  },
  {
   "cell_type": "code",
   "execution_count": 234,
   "id": "91b245e6",
   "metadata": {},
   "outputs": [],
   "source": [
    "# mudar varias rows ao mesmo tempo\n",
    "new_df['email'] = new_df['email'].str.lower()\n",
    "new_df;"
   ]
  },
  {
   "cell_type": "markdown",
   "id": "9d13a919",
   "metadata": {},
   "source": [
    "- Métodos que vamos aprender: apply, map, applymap, replace"
   ]
  },
  {
   "cell_type": "code",
   "execution_count": 235,
   "id": "dea6663e",
   "metadata": {},
   "outputs": [],
   "source": [
    "#apply - aplica uma function para cada valor numa série ou dataframe\n",
    "new_df['email'].apply(len);"
   ]
  },
  {
   "cell_type": "code",
   "execution_count": 236,
   "id": "2af0c8b9",
   "metadata": {},
   "outputs": [],
   "source": [
    "def update_email(email):\n",
    "    return email.upper()"
   ]
  },
  {
   "cell_type": "code",
   "execution_count": 237,
   "id": "aacecc65",
   "metadata": {},
   "outputs": [],
   "source": [
    "new_df['email'] = new_df['email'].apply(update_email)\n",
    "new_df;"
   ]
  },
  {
   "cell_type": "code",
   "execution_count": 238,
   "id": "14fc31de",
   "metadata": {},
   "outputs": [],
   "source": [
    "#aplicando uma lambda function dentro do método apply\n",
    "new_df['email'] = new_df['email'].apply(lambda x: x.lower())\n",
    "new_df;"
   ]
  },
  {
   "cell_type": "code",
   "execution_count": 249,
   "id": "db267926",
   "metadata": {},
   "outputs": [],
   "source": [
    "#aplicando o método apply no DataFrame\n",
    "#aplicou len para cada coluna\n",
    "new_df.apply(len);"
   ]
  },
  {
   "cell_type": "code",
   "execution_count": 250,
   "id": "81edd274",
   "metadata": {},
   "outputs": [],
   "source": [
    "#aplicou len para cada row\n",
    "#como sempre, axis são um pouco contraintuitivos\n",
    "new_df.apply(len,axis='columns');"
   ]
  },
  {
   "cell_type": "code",
   "execution_count": 251,
   "id": "4c86f06c",
   "metadata": {},
   "outputs": [],
   "source": [
    "new_df.apply(pd.Series.min);"
   ]
  },
  {
   "cell_type": "code",
   "execution_count": 252,
   "id": "bd265e80",
   "metadata": {},
   "outputs": [],
   "source": [
    "new_df.apply(lambda x: x.min());"
   ]
  },
  {
   "cell_type": "code",
   "execution_count": 253,
   "id": "009fc2fb",
   "metadata": {},
   "outputs": [],
   "source": [
    "#o método applymap funciona apenas com DataFrames\n",
    "new_df.applymap(len);"
   ]
  },
  {
   "cell_type": "code",
   "execution_count": 254,
   "id": "55e1ef4a",
   "metadata": {},
   "outputs": [],
   "source": [
    "new_df.applymap(str.lower);"
   ]
  },
  {
   "cell_type": "code",
   "execution_count": 255,
   "id": "270e5493",
   "metadata": {},
   "outputs": [],
   "source": [
    "#o método map só funciona com Series\n",
    "new_df['first'].map({'Corey':'Chris','Jane':'Mary'});"
   ]
  },
  {
   "cell_type": "code",
   "execution_count": 257,
   "id": "46c0258d",
   "metadata": {},
   "outputs": [],
   "source": [
    "new_df['first']=new_df['first'].replace({'Corey':'Chris','Jane':'Mary'})\n",
    "new_df;"
   ]
  },
  {
   "cell_type": "markdown",
   "id": "dab00e17",
   "metadata": {},
   "source": [
    "- Voltando para o df original"
   ]
  },
  {
   "cell_type": "code",
   "execution_count": 260,
   "id": "f9a792c4",
   "metadata": {
    "scrolled": true
   },
   "outputs": [],
   "source": [
    "df.rename(columns={'ConvertedComp':'SalaryUSD'},inplace=True)\n",
    "df;"
   ]
  },
  {
   "cell_type": "code",
   "execution_count": 262,
   "id": "25b84b68",
   "metadata": {},
   "outputs": [],
   "source": [
    "df['SalaryUSD'];"
   ]
  },
  {
   "cell_type": "code",
   "execution_count": 265,
   "id": "9ce4f0d2",
   "metadata": {
    "scrolled": true
   },
   "outputs": [],
   "source": [
    "df['Hobbyist'] = df['Hobbyist'].map({'Yes':True,'No':False})\n",
    "df;"
   ]
  },
  {
   "cell_type": "markdown",
   "id": "43457d7c",
   "metadata": {},
   "source": [
    "## Part 6\n",
    "### Add and Remove Rows and Columns"
   ]
  },
  {
   "cell_type": "code",
   "execution_count": null,
   "id": "0debdbb0",
   "metadata": {},
   "outputs": [],
   "source": []
  },
  {
   "cell_type": "code",
   "execution_count": null,
   "id": "32cf30a0",
   "metadata": {},
   "outputs": [],
   "source": []
  },
  {
   "cell_type": "code",
   "execution_count": null,
   "id": "44390764",
   "metadata": {},
   "outputs": [],
   "source": []
  },
  {
   "cell_type": "code",
   "execution_count": null,
   "id": "48fa2581",
   "metadata": {},
   "outputs": [],
   "source": []
  },
  {
   "cell_type": "code",
   "execution_count": null,
   "id": "c94a3c5e",
   "metadata": {},
   "outputs": [],
   "source": []
  },
  {
   "cell_type": "code",
   "execution_count": null,
   "id": "ae58bbdf",
   "metadata": {},
   "outputs": [],
   "source": []
  },
  {
   "cell_type": "code",
   "execution_count": null,
   "id": "586f155a",
   "metadata": {},
   "outputs": [],
   "source": []
  },
  {
   "cell_type": "code",
   "execution_count": null,
   "id": "7620e3df",
   "metadata": {},
   "outputs": [],
   "source": []
  }
 ],
 "metadata": {
  "kernelspec": {
   "display_name": "Python 3 (ipykernel)",
   "language": "python",
   "name": "python3"
  },
  "language_info": {
   "codemirror_mode": {
    "name": "ipython",
    "version": 3
   },
   "file_extension": ".py",
   "mimetype": "text/x-python",
   "name": "python",
   "nbconvert_exporter": "python",
   "pygments_lexer": "ipython3",
   "version": "3.10.9"
  }
 },
 "nbformat": 4,
 "nbformat_minor": 5
}
