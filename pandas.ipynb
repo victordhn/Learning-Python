{
 "cells": [
  {
   "cell_type": "markdown",
   "id": "4ddcb1be",
   "metadata": {},
   "source": [
    "## Por: victordhn\n",
    "#### Seguindo tutorial do @CoreyMSchafer"
   ]
  },
  {
   "cell_type": "code",
   "execution_count": 1,
   "id": "defd502f",
   "metadata": {},
   "outputs": [],
   "source": [
    "import pandas as pd"
   ]
  },
  {
   "cell_type": "markdown",
   "id": "a2671dae",
   "metadata": {},
   "source": [
    "### Vamos usar dados da pesquisa do Stack Overflow\n",
    "- https://insights.stackoverflow.com/survey\n",
    "- para seguir o tutorial mais precisamente, vou usar os dados de 2019"
   ]
  },
  {
   "cell_type": "markdown",
   "id": "032576db",
   "metadata": {},
   "source": [
    "### Importante:\n",
    "#### Todos comandos com output na tela estão com \";\" no final para esconder o output (ou estão comentados com # quando o ; não for possível). Essa é só uma forma de deixar o notebook mais fácil de ler depois que eu já analisei todo o output"
   ]
  },
  {
   "cell_type": "markdown",
   "id": "f8b2ca7c",
   "metadata": {},
   "source": [
    "## Part 1\n",
    "### Loading data and first analyses"
   ]
  },
  {
   "cell_type": "code",
   "execution_count": 2,
   "id": "4306dbd3",
   "metadata": {},
   "outputs": [],
   "source": [
    "df = pd.read_csv('data/survey_results_public.csv')"
   ]
  },
  {
   "cell_type": "code",
   "execution_count": 15,
   "id": "4573d77a",
   "metadata": {
    "scrolled": true
   },
   "outputs": [],
   "source": [
    "# O método .head() tem como padrão 5 linhas, mas pode ser alterado passando um valor, por exemplo, df.head(10)\n",
    "# Atenção, quando chamamos o dataframe, o Jupyter só mostra 20 colunas. Esse survey tem 85 colunas\n",
    "df.head();"
   ]
  },
  {
   "cell_type": "code",
   "execution_count": 4,
   "id": "595f4fcf",
   "metadata": {},
   "outputs": [
    {
     "data": {
      "text/plain": [
       "(88883, 85)"
      ]
     },
     "execution_count": 4,
     "metadata": {},
     "output_type": "execute_result"
    }
   ],
   "source": [
    "# linhas e colunas\n",
    "df.shape"
   ]
  },
  {
   "cell_type": "code",
   "execution_count": 16,
   "id": "114bf9cf",
   "metadata": {
    "scrolled": true
   },
   "outputs": [],
   "source": [
    "# usar método .info() para mais informações\n",
    "# df.info()"
   ]
  },
  {
   "cell_type": "code",
   "execution_count": 11,
   "id": "a842b778",
   "metadata": {
    "scrolled": true
   },
   "outputs": [],
   "source": [
    "# mudar setting para mostrar todas colunas\n",
    "pd.set_option('display.max_columns',85)\n",
    "df.head(10);"
   ]
  },
  {
   "cell_type": "code",
   "execution_count": 10,
   "id": "f0fc532c",
   "metadata": {
    "scrolled": false
   },
   "outputs": [],
   "source": [
    "schema_df = pd.read_csv(\"data/survey_results_schema.csv\")\n",
    "schema_df;"
   ]
  },
  {
   "cell_type": "code",
   "execution_count": 9,
   "id": "f387db98",
   "metadata": {
    "scrolled": true
   },
   "outputs": [],
   "source": [
    "# mudar setting para mostrar todas linhas\n",
    "pd.set_option('display.max_rows',85)\n",
    "schema_df;"
   ]
  },
  {
   "cell_type": "markdown",
   "id": "31029a19",
   "metadata": {},
   "source": [
    "## Part 2\n",
    "### Selecting Rows and Columns"
   ]
  },
  {
   "cell_type": "code",
   "execution_count": 17,
   "id": "17d6951c",
   "metadata": {},
   "outputs": [],
   "source": [
    "df = pd.read_csv('data/survey_results_public.csv')\n",
    "schema_df = pd.read_csv(\"data/survey_results_schema.csv\")"
   ]
  },
  {
   "cell_type": "code",
   "execution_count": 18,
   "id": "8f5b3cbf",
   "metadata": {},
   "outputs": [],
   "source": [
    "pd.set_option('display.max_columns',85)\n",
    "pd.set_option('display.max_rows',85)"
   ]
  },
  {
   "cell_type": "markdown",
   "id": "48d42c6a",
   "metadata": {},
   "source": [
    "#### converter dictionary em DataFrame e manipular colunas e linhas"
   ]
  },
  {
   "cell_type": "code",
   "execution_count": 19,
   "id": "c06f8cca",
   "metadata": {},
   "outputs": [],
   "source": [
    "people = {\n",
    "    'first':['Corey','Jane','John'],\n",
    "    'last':['Schafer','Doe','Doe'],\n",
    "    'email':['CoreyMSchafer@gmail.com','JaneDoe@email.com','JohnDoe@email.com'] \n",
    "}"
   ]
  },
  {
   "cell_type": "code",
   "execution_count": 38,
   "id": "8651bebc",
   "metadata": {},
   "outputs": [],
   "source": [
    "new_df = pd.DataFrame(people)"
   ]
  },
  {
   "cell_type": "code",
   "execution_count": 61,
   "id": "ef75e048",
   "metadata": {},
   "outputs": [],
   "source": [
    "new_df;"
   ]
  },
  {
   "cell_type": "code",
   "execution_count": 62,
   "id": "02a26430",
   "metadata": {},
   "outputs": [],
   "source": [
    "new_df['email'];\n",
    "#também poderia usar new_df.email"
   ]
  },
  {
   "cell_type": "code",
   "execution_count": 32,
   "id": "6508842c",
   "metadata": {},
   "outputs": [
    {
     "data": {
      "text/plain": [
       "pandas.core.series.Series"
      ]
     },
     "execution_count": 32,
     "metadata": {},
     "output_type": "execute_result"
    }
   ],
   "source": [
    "# cada coluna do dataframe é uma series.\n",
    "# dataframes são objetos que comportam diversas series\n",
    "type(new_df['email'])"
   ]
  },
  {
   "cell_type": "code",
   "execution_count": 63,
   "id": "d78c4ff3",
   "metadata": {},
   "outputs": [],
   "source": [
    "new_df[['last','email']];\n",
    "# retorna um novo dataframe (series = coluna)"
   ]
  },
  {
   "cell_type": "code",
   "execution_count": 41,
   "id": "f84cee25",
   "metadata": {},
   "outputs": [
    {
     "data": {
      "text/plain": [
       "Index(['first', 'last', 'email'], dtype='object')"
      ]
     },
     "execution_count": 41,
     "metadata": {},
     "output_type": "execute_result"
    }
   ],
   "source": [
    "new_df.columns"
   ]
  },
  {
   "cell_type": "markdown",
   "id": "8d6430f3",
   "metadata": {},
   "source": [
    "- Para manipular linhas (rows) vamos usar loc e iloc"
   ]
  },
  {
   "cell_type": "code",
   "execution_count": 64,
   "id": "c14c4c1c",
   "metadata": {},
   "outputs": [],
   "source": [
    "#iloc = integer location\n",
    "new_df.iloc[0];\n",
    "# retorna uma series (coluna) com valores da linha 0 do dataframe\n",
    "## os indexes agora são o nome das colunas"
   ]
  },
  {
   "cell_type": "code",
   "execution_count": 65,
   "id": "1c9c128d",
   "metadata": {},
   "outputs": [],
   "source": [
    "new_df.iloc[[0,1]];"
   ]
  },
  {
   "cell_type": "code",
   "execution_count": 66,
   "id": "6da5b2f4",
   "metadata": {},
   "outputs": [],
   "source": [
    "new_df.iloc[[0,1],2];"
   ]
  },
  {
   "cell_type": "code",
   "execution_count": 67,
   "id": "f978bbc9",
   "metadata": {},
   "outputs": [],
   "source": [
    "#loc procura pelas labels (indexes)\n",
    "## por enquanto, para as linhas não vai mudar pois não demos nomes para os indexes das linhas (continuam 0,1,2...)\n",
    "new_df;"
   ]
  },
  {
   "cell_type": "code",
   "execution_count": 68,
   "id": "b0f0c18c",
   "metadata": {},
   "outputs": [],
   "source": [
    "new_df.loc[0];"
   ]
  },
  {
   "cell_type": "code",
   "execution_count": 69,
   "id": "a161cbf2",
   "metadata": {},
   "outputs": [],
   "source": [
    "new_df.loc[[0,1],['last','email']];"
   ]
  },
  {
   "cell_type": "markdown",
   "id": "8fb8f2a7",
   "metadata": {},
   "source": [
    "- Voltando para o df original"
   ]
  },
  {
   "cell_type": "code",
   "execution_count": 91,
   "id": "a48358fe",
   "metadata": {
    "scrolled": true
   },
   "outputs": [],
   "source": [
    "df.columns;"
   ]
  },
  {
   "cell_type": "code",
   "execution_count": 92,
   "id": "ed0a98a2",
   "metadata": {
    "scrolled": true
   },
   "outputs": [],
   "source": [
    "# só a coluna Hobbyist\n",
    "df['Hobbyist'];"
   ]
  },
  {
   "cell_type": "code",
   "execution_count": 79,
   "id": "200c5e60",
   "metadata": {},
   "outputs": [
    {
     "data": {
      "text/plain": [
       "Yes    71257\n",
       "No     17626\n",
       "Name: Hobbyist, dtype: int64"
      ]
     },
     "execution_count": 79,
     "metadata": {},
     "output_type": "execute_result"
    }
   ],
   "source": [
    "df['Hobbyist'].value_counts()"
   ]
  },
  {
   "cell_type": "code",
   "execution_count": 93,
   "id": "ff2fcadf",
   "metadata": {
    "scrolled": true
   },
   "outputs": [],
   "source": [
    "#só primeira linha\n",
    "df.loc[0];"
   ]
  },
  {
   "cell_type": "code",
   "execution_count": 83,
   "id": "8d12e966",
   "metadata": {},
   "outputs": [
    {
     "data": {
      "text/plain": [
       "'Yes'"
      ]
     },
     "execution_count": 83,
     "metadata": {},
     "output_type": "execute_result"
    }
   ],
   "source": [
    "#primeira linha, coluna Hobbyist\n",
    "df.loc[0,'Hobbyist']"
   ]
  },
  {
   "cell_type": "code",
   "execution_count": 94,
   "id": "e45d9547",
   "metadata": {},
   "outputs": [],
   "source": [
    "#se quiser primeiras 3 linhas (0,1,2) pode usar slice mas... \n",
    "## A ÚLTIMA LINHA E COLUNA É INCLUÍDA (diferente da maioria dos slicing no python)\n",
    "df.loc[0:2,'Hobbyist':'Employment'];"
   ]
  },
  {
   "cell_type": "markdown",
   "id": "a5077af4",
   "metadata": {},
   "source": [
    "## Part 3\n",
    "### Indexes"
   ]
  },
  {
   "cell_type": "code",
   "execution_count": 106,
   "id": "23ecb28f",
   "metadata": {},
   "outputs": [],
   "source": [
    "new_df['email'];"
   ]
  },
  {
   "cell_type": "code",
   "execution_count": 107,
   "id": "affa8f04",
   "metadata": {},
   "outputs": [],
   "source": [
    "#definir uma das colunas para ser o index de cada linha\n",
    "new_df.set_index('email');"
   ]
  },
  {
   "cell_type": "code",
   "execution_count": 108,
   "id": "ffed8e8b",
   "metadata": {},
   "outputs": [],
   "source": [
    "new_df.set_index('email',inplace=True)\n",
    "new_df;"
   ]
  },
  {
   "cell_type": "code",
   "execution_count": 103,
   "id": "f6e624b9",
   "metadata": {},
   "outputs": [
    {
     "data": {
      "text/plain": [
       "Index(['CoreyMSchafer@gmail.com', 'JaneDoe@email.com', 'JohnDoe@email.com'], dtype='object', name='email')"
      ]
     },
     "execution_count": 103,
     "metadata": {},
     "output_type": "execute_result"
    }
   ],
   "source": [
    "new_df.index"
   ]
  },
  {
   "cell_type": "code",
   "execution_count": 109,
   "id": "941c69d5",
   "metadata": {},
   "outputs": [],
   "source": [
    "new_df.loc['CoreyMSchafer@gmail.com'];"
   ]
  },
  {
   "cell_type": "code",
   "execution_count": 110,
   "id": "0631ae66",
   "metadata": {},
   "outputs": [],
   "source": [
    "#para remover a coluna dos index (voltar para 0,1,2...)\n",
    "new_df.reset_index(inplace=True)\n",
    "new_df;"
   ]
  },
  {
   "cell_type": "markdown",
   "id": "23345677",
   "metadata": {},
   "source": [
    "- Voltando para o df original"
   ]
  },
  {
   "cell_type": "code",
   "execution_count": 113,
   "id": "8a483a2f",
   "metadata": {
    "scrolled": true
   },
   "outputs": [],
   "source": [
    "df;"
   ]
  },
  {
   "cell_type": "code",
   "execution_count": 114,
   "id": "1baa4102",
   "metadata": {
    "scrolled": true
   },
   "outputs": [],
   "source": [
    "#ao invez de usar df.set_index('Respondent') vamos usar direto quando chamamos o arquivo\n",
    "df = pd.read_csv('data/survey_results_public.csv', index_col='Respondent')\n",
    "df;"
   ]
  },
  {
   "cell_type": "code",
   "execution_count": 120,
   "id": "fd023bac",
   "metadata": {},
   "outputs": [],
   "source": [
    "schema_df = pd.read_csv(\"data/survey_results_schema.csv\", index_col='Column')\n",
    "schema_df;"
   ]
  },
  {
   "cell_type": "code",
   "execution_count": 116,
   "id": "4671aba9",
   "metadata": {},
   "outputs": [
    {
     "data": {
      "text/plain": [
       "QuestionText    How confident are you that your manager knows ...\n",
       "Name: MgrIdiot, dtype: object"
      ]
     },
     "execution_count": 116,
     "metadata": {},
     "output_type": "execute_result"
    }
   ],
   "source": [
    "schema_df.loc['MgrIdiot']"
   ]
  },
  {
   "cell_type": "code",
   "execution_count": 117,
   "id": "89108f61",
   "metadata": {},
   "outputs": [
    {
     "data": {
      "text/plain": [
       "'How confident are you that your manager knows what they’re doing?'"
      ]
     },
     "execution_count": 117,
     "metadata": {},
     "output_type": "execute_result"
    }
   ],
   "source": [
    "schema_df.loc['MgrIdiot','QuestionText']"
   ]
  },
  {
   "cell_type": "code",
   "execution_count": 121,
   "id": "29bcd844",
   "metadata": {
    "scrolled": true
   },
   "outputs": [],
   "source": [
    "# ordenar do menor para maior\n",
    "schema_df.sort_index();"
   ]
  },
  {
   "cell_type": "code",
   "execution_count": 122,
   "id": "5b95b3cd",
   "metadata": {},
   "outputs": [],
   "source": [
    "# ordenar do maior para menor\n",
    "schema_df.sort_index(ascending=False);"
   ]
  },
  {
   "cell_type": "markdown",
   "id": "8a8f37a7",
   "metadata": {},
   "source": [
    "## Part 4\n",
    "### Filtering"
   ]
  },
  {
   "cell_type": "code",
   "execution_count": 147,
   "id": "07cd7f83",
   "metadata": {},
   "outputs": [],
   "source": [
    "people = {\n",
    "    'first':['Corey','Jane','John'],\n",
    "    'last':['Schafer','Doe','Doe'],\n",
    "    'email':['CoreyMSchafer@gmail.com','JaneDoe@email.com','JohnDoe@email.com'] \n",
    "}\n",
    "new_df = pd.DataFrame(people)\n",
    "new_df;"
   ]
  },
  {
   "cell_type": "code",
   "execution_count": 148,
   "id": "617ee109",
   "metadata": {},
   "outputs": [],
   "source": [
    "#filter mask\n",
    "filt = new_df['last']=='Doe'\n",
    "filt;"
   ]
  },
  {
   "cell_type": "code",
   "execution_count": 149,
   "id": "c21b2fa5",
   "metadata": {},
   "outputs": [],
   "source": [
    "#usando o filter mask\n",
    "new_df[filt];"
   ]
  },
  {
   "cell_type": "code",
   "execution_count": 150,
   "id": "75ebc25c",
   "metadata": {},
   "outputs": [],
   "source": [
    "#usando diretamente (lê-se: new_df such that new_df['last'] é igual a 'Doe')\n",
    "new_df[new_df['last']=='Doe'];"
   ]
  },
  {
   "cell_type": "code",
   "execution_count": 151,
   "id": "786bf355",
   "metadata": {},
   "outputs": [],
   "source": [
    "#outro jeito é usar o .loc, que permite que a gente filtre colunas também\n",
    "#funciona pois o .loc[linhas,colunas] vai consider True = quero essa linha, e False = não quero essa linha\n",
    "new_df.loc[filt,'email'];"
   ]
  },
  {
   "cell_type": "code",
   "execution_count": 152,
   "id": "baec82e9",
   "metadata": {},
   "outputs": [],
   "source": [
    "#and = &, or = |\n",
    "filt2 = (new_df['last']=='Doe') & (new_df['first']=='John')\n",
    "new_df.loc[filt2,'email'];"
   ]
  },
  {
   "cell_type": "code",
   "execution_count": 153,
   "id": "35dc7bd9",
   "metadata": {},
   "outputs": [],
   "source": [
    "# ~ é o símbolo de negação, e irá retornar o oposto do filtro\n",
    "new_df.loc[~filt2,'email'];"
   ]
  },
  {
   "cell_type": "markdown",
   "id": "ee483757",
   "metadata": {},
   "source": [
    "- Voltando para o df original"
   ]
  },
  {
   "cell_type": "code",
   "execution_count": 154,
   "id": "1b219d92",
   "metadata": {},
   "outputs": [],
   "source": [
    "#salários estão na coluna ConvertedComp"
   ]
  },
  {
   "cell_type": "code",
   "execution_count": 173,
   "id": "cd1d2715",
   "metadata": {},
   "outputs": [],
   "source": [
    "#usamos um novo método do Pandas (.isin(list))\n",
    "countries = ['United States','India','United Kingdom','Germany','Canada']\n",
    "high_salaries = (df['ConvertedComp']>70000) & (df['Country'].isin(countries))\n",
    "high_salaries_br = (df['ConvertedComp']>70000) & (df['Country']=='Brazil')"
   ]
  },
  {
   "cell_type": "code",
   "execution_count": 174,
   "id": "9063c0c9",
   "metadata": {
    "scrolled": true
   },
   "outputs": [],
   "source": [
    "df.loc[high_salaries,['Country','LanguageWorkedWith','ConvertedComp']];"
   ]
  },
  {
   "cell_type": "code",
   "execution_count": 175,
   "id": "9140b00a",
   "metadata": {},
   "outputs": [],
   "source": [
    "df.loc[high_salaries_br,['Country','LanguageWorkedWith','ConvertedComp']];"
   ]
  },
  {
   "cell_type": "code",
   "execution_count": 176,
   "id": "dd938309",
   "metadata": {},
   "outputs": [],
   "source": [
    "#usamos um novo string method do Pandas (.str.contains(word))\n",
    "filt_python = df['LanguageWorkedWith'].str.contains('Python',na=False)\n",
    "df.loc[filt_python,['Country','LanguageWorkedWith','ConvertedComp']];"
   ]
  },
  {
   "cell_type": "markdown",
   "id": "2f9f73af",
   "metadata": {},
   "source": [
    "## Part 5\n",
    "### Updating Rows and Columns"
   ]
  },
  {
   "cell_type": "code",
   "execution_count": null,
   "id": "be7b6356",
   "metadata": {},
   "outputs": [],
   "source": []
  },
  {
   "cell_type": "code",
   "execution_count": null,
   "id": "0fefeff6",
   "metadata": {},
   "outputs": [],
   "source": []
  },
  {
   "cell_type": "code",
   "execution_count": null,
   "id": "3e0fb01c",
   "metadata": {},
   "outputs": [],
   "source": []
  },
  {
   "cell_type": "code",
   "execution_count": null,
   "id": "7ace2bbd",
   "metadata": {},
   "outputs": [],
   "source": []
  },
  {
   "cell_type": "code",
   "execution_count": null,
   "id": "85ec1db2",
   "metadata": {},
   "outputs": [],
   "source": []
  },
  {
   "cell_type": "code",
   "execution_count": null,
   "id": "9f03db39",
   "metadata": {},
   "outputs": [],
   "source": []
  },
  {
   "cell_type": "code",
   "execution_count": null,
   "id": "80f4f55b",
   "metadata": {},
   "outputs": [],
   "source": []
  },
  {
   "cell_type": "code",
   "execution_count": null,
   "id": "c49bba24",
   "metadata": {},
   "outputs": [],
   "source": []
  },
  {
   "cell_type": "code",
   "execution_count": null,
   "id": "5f8ff949",
   "metadata": {},
   "outputs": [],
   "source": []
  },
  {
   "cell_type": "code",
   "execution_count": null,
   "id": "8fffd0d0",
   "metadata": {},
   "outputs": [],
   "source": []
  },
  {
   "cell_type": "code",
   "execution_count": null,
   "id": "5b8cb40e",
   "metadata": {},
   "outputs": [],
   "source": []
  },
  {
   "cell_type": "code",
   "execution_count": null,
   "id": "c2ecfd90",
   "metadata": {},
   "outputs": [],
   "source": []
  }
 ],
 "metadata": {
  "kernelspec": {
   "display_name": "Python 3 (ipykernel)",
   "language": "python",
   "name": "python3"
  },
  "language_info": {
   "codemirror_mode": {
    "name": "ipython",
    "version": 3
   },
   "file_extension": ".py",
   "mimetype": "text/x-python",
   "name": "python",
   "nbconvert_exporter": "python",
   "pygments_lexer": "ipython3",
   "version": "3.10.9"
  }
 },
 "nbformat": 4,
 "nbformat_minor": 5
}
