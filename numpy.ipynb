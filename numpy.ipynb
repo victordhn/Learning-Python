{
 "cells": [
  {
   "cell_type": "markdown",
   "id": "1f9124e5",
   "metadata": {},
   "source": [
    "## Por: victordhn\n",
    "- Fiz todas anotações em inglês porque é mais fácil de acompanhar.\n",
    "- Os próximos notebooks vou tentar escrever as anotações em Português.\n",
    "#### Seguindo tutorial do @keithgalli"
   ]
  },
  {
   "cell_type": "markdown",
   "id": "d9ef4e61",
   "metadata": {},
   "source": [
    "# Numpy training"
   ]
  },
  {
   "cell_type": "code",
   "execution_count": 2,
   "id": "4e614ed6",
   "metadata": {},
   "outputs": [],
   "source": [
    "import numpy as np\n",
    "import sys"
   ]
  },
  {
   "cell_type": "markdown",
   "id": "36a1d2f9",
   "metadata": {},
   "source": [
    "## Basics"
   ]
  },
  {
   "cell_type": "code",
   "execution_count": 16,
   "id": "d2a43fe2",
   "metadata": {},
   "outputs": [
    {
     "name": "stdout",
     "output_type": "stream",
     "text": [
      "[[1.  2.  3. ]\n",
      " [1.1 2.1 3.1]]\n",
      "Dimension = 2\n",
      "Shape = (2, 3)\n"
     ]
    }
   ],
   "source": [
    "a = np.array([[1,2,3],[1.1,2.1,3.1]])\n",
    "print(a)\n",
    "\n",
    "print(\"Dimension =\",a.ndim) #a.ndim = dimension\n",
    "print(\"Shape =\",a.shape) #a.shape = shape"
   ]
  },
  {
   "cell_type": "markdown",
   "id": "4eca706a",
   "metadata": {},
   "source": [
    "## Types "
   ]
  },
  {
   "cell_type": "markdown",
   "id": "732cb7b5",
   "metadata": {},
   "source": [
    "### Important info for me here:\n",
    "Using numpy, setting the type to string will get only 1 character of the text. I don't want to go into details here, but you should use dtype='U10' or dtype='<U50' or whatever string size you want instead of using dtype=str"
   ]
  },
  {
   "cell_type": "code",
   "execution_count": 44,
   "id": "6617166e",
   "metadata": {},
   "outputs": [
    {
     "name": "stdout",
     "output_type": "stream",
     "text": [
      "Simple Types:\n",
      "Type x = int32\n",
      "Type y = <U5\n",
      "Type z = float64\n",
      "\n",
      "Type prevalence (str>float>int>bool):\n",
      "Type i = <U32\n",
      "Type j = float64\n",
      "Type k = int32\n",
      "Type l = bool\n",
      "\n",
      "Type setting:\n",
      "Type r = int32\n"
     ]
    }
   ],
   "source": [
    "### simple types\n",
    "print(\"Simple Types:\")\n",
    "x = np.array([1,2,3])\n",
    "y = np.array([\"one\",\"two\",\"three\"])\n",
    "z = np.array([1.1,2.2,3.3])\n",
    "print(\"Type x =\",x.dtype)\n",
    "print(\"Type y =\",y.dtype)\n",
    "print(\"Type z =\",z.dtype)\n",
    "\n",
    "print(\"\\nType prevalence (str>float>int>bool):\")\n",
    "### type prevalence: str>float>int>bool\n",
    "i = np.array([1,1.2,\"one\",True])\n",
    "print(\"Type i =\",i.dtype)\n",
    "j = np.array([1,1.2,True])\n",
    "print(\"Type j =\",j.dtype)\n",
    "k = np.array([1,True])\n",
    "print(\"Type k =\",k.dtype)\n",
    "l = np.array([True])\n",
    "print(\"Type l =\",l.dtype)\n",
    "\n",
    "print(\"\\nType setting:\")\n",
    "### type setting\n",
    "r = np.array([1,3.2],dtype=int)\n",
    "print(\"Type r =\",r.dtype)\n"
   ]
  },
  {
   "cell_type": "markdown",
   "id": "90647642",
   "metadata": {},
   "source": [
    "## Indexing and manipulating values"
   ]
  },
  {
   "cell_type": "code",
   "execution_count": 70,
   "id": "e8b4512b",
   "metadata": {},
   "outputs": [
    {
     "name": "stdout",
     "output_type": "stream",
     "text": [
      "[[ 0  1  2  3  4  5  6  7]\n",
      " [ 8  9 10 11 12 13 14 15]]\n"
     ]
    }
   ],
   "source": [
    "a = np.array([[0,1,2,3,4,5,6,7],[8,9,10,11,12,13,14,15]])\n",
    "print(a)"
   ]
  },
  {
   "cell_type": "code",
   "execution_count": 52,
   "id": "27958a0e",
   "metadata": {},
   "outputs": [
    {
     "name": "stdout",
     "output_type": "stream",
     "text": [
      "My birthday is on day a[0,3]a[0,0] = 30\n"
     ]
    }
   ],
   "source": [
    "# get specific element [r,c]\n",
    "print(f\"My birthday is on day a[0,3]a[0,0] = {a[0,3]}{a[0,0]}\")"
   ]
  },
  {
   "cell_type": "code",
   "execution_count": 54,
   "id": "5fdd5900",
   "metadata": {},
   "outputs": [
    {
     "name": "stdout",
     "output_type": "stream",
     "text": [
      "Row 1 = [0 1 2 3 4 5 6 7]\n",
      "Column 1 = [0 8]\n"
     ]
    }
   ],
   "source": [
    "# get rows and columns\n",
    "print(\"Row 1 =\",a[0,:])\n",
    "print(\"Column 1 =\",a[:,0])"
   ]
  },
  {
   "cell_type": "code",
   "execution_count": 62,
   "id": "f827f05f",
   "metadata": {},
   "outputs": [
    {
     "name": "stdout",
     "output_type": "stream",
     "text": [
      "First row = [0 1 2 3 4 5 6 7]\n",
      "First row, from index 1 to 6 (including 6), get one jump one = [1 3 5]\n",
      "Inverse order: start at index -3 and go backwards = [5 3 1]\n"
     ]
    }
   ],
   "source": [
    "# using intervals and stepsize [startindex:endindex:stepsize]\n",
    "print(\"First row =\",a[0,:])\n",
    "print(\"First row, from index 1 to 6 (including 6), get one jump one =\",a[0,1:7:2])\n",
    "print(\"Inverse order: start at index -3 and go backwards =\",a[0,-3:-9:-2])"
   ]
  },
  {
   "cell_type": "code",
   "execution_count": 73,
   "id": "001327c7",
   "metadata": {},
   "outputs": [
    {
     "name": "stdout",
     "output_type": "stream",
     "text": [
      "First row = [0 1 2 3 4 5 6 7]\n",
      "First element is 100 = [100   1   2   3   4   5   6   7]\n",
      "First column = [0 8]\n",
      "First column is [100,200] =\n",
      " [[100   1   2   3   4   5   6   7]\n",
      " [200   9  10  11  12  13  14  15]]\n"
     ]
    }
   ],
   "source": [
    "# change a value\n",
    "print(\"First row =\",a[0,:]) \n",
    "a[0,0]=100\n",
    "print(\"First element is 100 =\",a[0,:])\n",
    "a[0,0]=0\n",
    "\n",
    "print(\"First column =\",a[:,0])\n",
    "a[:,0]=[100,200]\n",
    "print(\"First column is [100,200] =\\n\",a[:,:])\n",
    "a[:,0]=[0,8]"
   ]
  },
  {
   "cell_type": "code",
   "execution_count": 83,
   "id": "9bb7bf7d",
   "metadata": {},
   "outputs": [
    {
     "name": "stdout",
     "output_type": "stream",
     "text": [
      "[[[1 2]\n",
      "  [3 4]]\n",
      "\n",
      " [[5 6]\n",
      "  [7 8]]]\n",
      "\n",
      "Element from page 1, row 2, column 1 = 3\n"
     ]
    }
   ],
   "source": [
    "# 3-d matrix\n",
    "b = np.array([[[1,2],[3,4]],[[5,6],[7,8]]])\n",
    "print(b)\n",
    "print(\"\\nElement from page 1, row 2, column 1 =\",b[0,1,0])"
   ]
  },
  {
   "cell_type": "markdown",
   "id": "3e14b75e",
   "metadata": {},
   "source": [
    "## Initializing types of arrays\n",
    "- zeros\n",
    "- ones\n",
    "- rand (decimals 0-1)\n",
    "- randint (integers)\n",
    "- identity"
   ]
  },
  {
   "cell_type": "code",
   "execution_count": 89,
   "id": "49b8cd96",
   "metadata": {},
   "outputs": [
    {
     "name": "stdout",
     "output_type": "stream",
     "text": [
      "Row of zeros = [0. 0. 0. 0. 0.]\n",
      "2x3 zeros =\n",
      " [[0. 0. 0.]\n",
      " [0. 0. 0.]]\n",
      "2x3x3 zeros =\n",
      " [[[0. 0. 0.]\n",
      "  [0. 0. 0.]\n",
      "  [0. 0. 0.]]\n",
      "\n",
      " [[0. 0. 0.]\n",
      "  [0. 0. 0.]\n",
      "  [0. 0. 0.]]]\n"
     ]
    }
   ],
   "source": [
    "#all 0's matrix\n",
    "zeros_row = np.zeros(5)\n",
    "zeros_23 = np.zeros((2,3))\n",
    "zeros_233 = np.zeros((2,3,3))\n",
    "\n",
    "print(\"Row of zeros =\",zeros_row)\n",
    "print(\"2x3 zeros =\\n\",zeros_23)\n",
    "print(\"2x3x3 zeros =\\n\",zeros_233)"
   ]
  },
  {
   "cell_type": "code",
   "execution_count": 106,
   "id": "1bd0370f",
   "metadata": {},
   "outputs": [
    {
     "name": "stdout",
     "output_type": "stream",
     "text": [
      "Row of ones = [1. 1. 1. 1. 1.]\n",
      "2x3 ones =\n",
      " [[1. 1. 1.]\n",
      " [1. 1. 1.]]\n",
      "2x3x3 ones =\n",
      " [[[1. 1. 1.]\n",
      "  [1. 1. 1.]\n",
      "  [1. 1. 1.]]\n",
      "\n",
      " [[1. 1. 1.]\n",
      "  [1. 1. 1.]\n",
      "  [1. 1. 1.]]]\n"
     ]
    }
   ],
   "source": [
    "#all 1's matrix\n",
    "ones_row = np.ones(5)\n",
    "ones_23 = np.ones((2,3))\n",
    "ones_233 = np.ones((2,3,3))\n",
    "\n",
    "print(\"Row of ones =\",ones_row)\n",
    "print(\"2x3 ones =\\n\",ones_23)\n",
    "print(\"2x3x3 ones =\\n\",ones_233)"
   ]
  },
  {
   "cell_type": "code",
   "execution_count": 110,
   "id": "00928dab",
   "metadata": {},
   "outputs": [
    {
     "name": "stdout",
     "output_type": "stream",
     "text": [
      "2x3x3 victor =\n",
      " [[['victor' 'victor' 'victor']\n",
      "  ['victor' 'victor' 'victor']\n",
      "  ['victor' 'victor' 'victor']]\n",
      "\n",
      " [['victor' 'victor' 'victor']\n",
      "  ['victor' 'victor' 'victor']\n",
      "  ['victor' 'victor' 'victor']]]\n",
      "\n",
      "original 2x3 of zeros =\n",
      " [[0. 0. 0.]\n",
      " [0. 0. 0.]]\n",
      "\n",
      "full like using 2x3 reference =\n",
      " [['2x3' '2x3' '2x3']\n",
      " ['2x3' '2x3' '2x3']]\n"
     ]
    }
   ],
   "source": [
    "#all any value's matrix\n",
    "full_233 = np.full((2,3,3),\"victor\")\n",
    "print(\"2x3x3 victor =\\n\",full_233)\n",
    "\n",
    "#using the shape of another matrix as reference\n",
    "print(\"\\noriginal 2x3 of zeros =\\n\",zeros_23)\n",
    "ref_full = np.full_like(zeros_23,\"2x3\",dtype='<U10')\n",
    "print(\"\\nfull like using 2x3 reference =\\n\",ref_full)"
   ]
  },
  {
   "cell_type": "code",
   "execution_count": 123,
   "id": "371bfb05",
   "metadata": {},
   "outputs": [
    {
     "name": "stdout",
     "output_type": "stream",
     "text": [
      "Random matrix 3x3 =\n",
      " [[0.72042776 0.61359597 0.22198302]\n",
      " [0.29407091 0.88997301 0.75019121]\n",
      " [0.36808467 0.86692356 0.97299561]]\n",
      "\n",
      "Important note: here we pass the shape directly, and not on a tupple like the zeros, ones, and full matrices\n",
      "\n",
      "Random matrix using other 2x3 matrix's shape =\n",
      " [[0.99622342 0.05769758 0.25628883]\n",
      " [0.21760044 0.54814586 0.41291255]]\n"
     ]
    }
   ],
   "source": [
    "#generate a matrix of random decimal numbers\n",
    "random = np.random.rand(3,3)\n",
    "print(\"Random matrix 3x3 =\\n\",random)\n",
    "print(\"\\nImportant note: here we pass the shape directly, and not on a tupple like the zeros, ones, and full matrices\")\n",
    "\n",
    "#using the same shape of another matrix\n",
    "random_ref = np.random.random_sample(zeros_23.shape)\n",
    "print(\"\\nRandom matrix using other 2x3 matrix's shape =\\n\",random_ref)"
   ]
  },
  {
   "cell_type": "code",
   "execution_count": 133,
   "id": "5610efde",
   "metadata": {},
   "outputs": [
    {
     "name": "stdout",
     "output_type": "stream",
     "text": [
      "Random matrix 3x3 of integers between 5 and 10 =\n",
      " [[6 8 9]\n",
      " [5 9 6]\n",
      " [6 6 5]]\n"
     ]
    }
   ],
   "source": [
    "#random integers\n",
    "#between 5 and 10, for instance\n",
    "random_int = np.random.randint(5,10, size=(3,3))\n",
    "print(\"Random matrix 3x3 of integers between 5 and 10 =\\n\",random_int)"
   ]
  },
  {
   "cell_type": "code",
   "execution_count": 135,
   "id": "7714595e",
   "metadata": {},
   "outputs": [
    {
     "name": "stdout",
     "output_type": "stream",
     "text": [
      "Identity 3x3 matrix =\n",
      " [[1. 0. 0.]\n",
      " [0. 1. 0.]\n",
      " [0. 0. 1.]]\n"
     ]
    }
   ],
   "source": [
    "#identity matrix\n",
    "id_3 = np.identity(3)\n",
    "print(\"Identity 3x3 matrix =\\n\",id_3)"
   ]
  },
  {
   "cell_type": "code",
   "execution_count": 137,
   "id": "ea0ed341",
   "metadata": {},
   "outputs": [
    {
     "name": "stdout",
     "output_type": "stream",
     "text": [
      "Repeated arrays as rows =\n",
      " [[1 2 3]\n",
      " [1 2 3]\n",
      " [1 2 3]]\n",
      "Repeated arrays as columns =\n",
      " [[1 1 1 2 2 2 3 3 3]]\n"
     ]
    }
   ],
   "source": [
    "#repeating arrays\n",
    "arr = np.array([[1,2,3]]) #arr = a line on a matrix\n",
    "repeat_rows = np.repeat(arr,3,axis=0)\n",
    "repeat_column = np.repeat(arr,3,axis=1)\n",
    "print(\"Repeated arrays as rows =\\n\",repeat_rows)\n",
    "print(\"Repeated arrays as columns =\\n\",repeat_column)"
   ]
  },
  {
   "cell_type": "markdown",
   "id": "e9ed922b",
   "metadata": {},
   "source": [
    "### Important note on copying arrays \n",
    "#### Similar to lists, typing b=a will point 'b' to the same reference of 'a', therefore, changing 'b' will change 'a' too.\n",
    "Think about it in this way: you order a full 8 slice pizza and call it a mozzarella pizza, but your friend calls it a cheese pizza. If you go and eat a slice, when you friend goes and check his \"cheese pizza\" there will be only 7 slices, and if he eats one of those, your \"mozzarella pizza\" will have only 6 slices left. The thing here is that you both gave different names to the same object. The same happens with numpy arrays\n",
    "#### Solution: use .copy() method to create a full copy of an array: b=a.copy()"
   ]
  },
  {
   "cell_type": "code",
   "execution_count": 165,
   "id": "93984049",
   "metadata": {},
   "outputs": [
    {
     "name": "stdout",
     "output_type": "stream",
     "text": [
      "Array a = [1 2]\n",
      "Array b = [1 2]\n",
      "Changing first index of b\n",
      "Array b = [3 2]\n",
      "Array a also changed = [3 2]\n",
      "Now c is a hardcopy of a using .copy() method\n",
      "Array c = [3 2]\n",
      "Changing first index of c\n",
      "Array c = [9 2]\n",
      "Array a DO NOT change = [3 2]\n"
     ]
    }
   ],
   "source": [
    "a = np.array([1,2])\n",
    "print(\"Array a =\",a)\n",
    "b = a\n",
    "print(\"Array b =\",b)\n",
    "print(\"Changing first index of b\")\n",
    "b[0] = 3\n",
    "print(\"Array b =\",b)\n",
    "print(\"Array a also changed =\",a)\n",
    "c = a.copy()\n",
    "print(\"Now c is a hardcopy of a using .copy() method\")\n",
    "print(\"Array c =\",c)\n",
    "print(\"Changing first index of c\")\n",
    "c[0] = 9\n",
    "print(\"Array c =\",c)\n",
    "print(\"Array a DO NOT change =\",a)"
   ]
  },
  {
   "cell_type": "markdown",
   "id": "ee236540",
   "metadata": {},
   "source": [
    "## Basic Mathematics "
   ]
  },
  {
   "cell_type": "code",
   "execution_count": 167,
   "id": "61789ed9",
   "metadata": {},
   "outputs": [],
   "source": [
    "a = np.array([1,2,3,4])"
   ]
  },
  {
   "cell_type": "code",
   "execution_count": 172,
   "id": "0a0d74ad",
   "metadata": {},
   "outputs": [
    {
     "name": "stdout",
     "output_type": "stream",
     "text": [
      "[3 4 5 6]\n",
      "[-1  0  1  2]\n",
      "[2 4 6 8]\n",
      "[0.5 1.  1.5 2. ]\n",
      "[ 1  4  9 16]\n",
      "[ 0.84147098  0.90929743  0.14112001 -0.7568025 ]\n"
     ]
    }
   ],
   "source": [
    "# element wise operations\n",
    "aplus = a + 2\n",
    "aminus = a - 2\n",
    "amult = a *  2\n",
    "adiv = a / 2\n",
    "apower = a ** 2\n",
    "asin = np.sin(a)\n",
    "print(aplus,aminus,amult,adiv,apower,asin,sep=\"\\n\")"
   ]
  },
  {
   "cell_type": "code",
   "execution_count": 171,
   "id": "2a4adbcd",
   "metadata": {},
   "outputs": [
    {
     "name": "stdout",
     "output_type": "stream",
     "text": [
      "[2 2 4 4]\n"
     ]
    }
   ],
   "source": [
    "b = np.array([1,0,1,0])\n",
    "c = a+b\n",
    "print(c)"
   ]
  },
  {
   "cell_type": "markdown",
   "id": "2f4220ad",
   "metadata": {},
   "source": [
    "## Linear Algebra\n",
    "- Link with all numpy linear algebra functions: https://numpy.org/doc/stable/reference/routines.linalg.html\n",
    "- There are so many good stuff like solving Ax=b, finding eigen vectors and values... 'life made easy' stuff"
   ]
  },
  {
   "cell_type": "code",
   "execution_count": 184,
   "id": "aaae5223",
   "metadata": {},
   "outputs": [
    {
     "name": "stdout",
     "output_type": "stream",
     "text": [
      "[[1. 1. 1.]\n",
      " [1. 1. 1.]]\n",
      "[[2 2]\n",
      " [2 2]\n",
      " [2 2]]\n",
      "\n",
      "AxB = C =\n",
      " [[6. 6.]\n",
      " [6. 6.]]\n",
      "\n",
      "AxB = D =\n",
      " [[6. 6.]\n",
      " [6. 6.]]\n"
     ]
    }
   ],
   "source": [
    "# Matrix Multiplication\n",
    "a = np.ones((2,3))\n",
    "b = np.full((3,2),2)\n",
    "print(a,b,sep=\"\\n\")\n",
    "\n",
    "c = np.matmul(a,b)\n",
    "print(\"\\nAxB = C =\\n\",c)\n",
    "\n",
    "#new way to do matrix multiplication\n",
    "d = a@b\n",
    "print(\"\\nAxB = D =\\n\",c)"
   ]
  },
  {
   "cell_type": "code",
   "execution_count": 182,
   "id": "bb8ebcd4",
   "metadata": {},
   "outputs": [
    {
     "name": "stdout",
     "output_type": "stream",
     "text": [
      "1.0\n"
     ]
    }
   ],
   "source": [
    "# get Determinant of a matrix\n",
    "iden = np.identity(3)\n",
    "det_i = np.linalg.det(iden)\n",
    "print(det_i)"
   ]
  },
  {
   "cell_type": "markdown",
   "id": "826812ac",
   "metadata": {},
   "source": [
    " ## Statistics\n"
   ]
  },
  {
   "cell_type": "code",
   "execution_count": 194,
   "id": "97e58d5f",
   "metadata": {},
   "outputs": [
    {
     "name": "stdout",
     "output_type": "stream",
     "text": [
      "[[3 6 7]\n",
      " [4 5 8]]\n"
     ]
    }
   ],
   "source": [
    "stats = np.array([[3,6,7],[4,5,8]])\n",
    "print(stats)"
   ]
  },
  {
   "cell_type": "code",
   "execution_count": 195,
   "id": "e50fbf3f",
   "metadata": {},
   "outputs": [
    {
     "name": "stdout",
     "output_type": "stream",
     "text": [
      "Min, max, sum and mean of all values = 3 8 33 5.5\n"
     ]
    }
   ],
   "source": [
    "# min, max, sum, mean\n",
    "min_val = np.min(stats)\n",
    "max_val = np.max(stats)\n",
    "sum_val = np.sum(stats)\n",
    "mean_val = np.mean(stats)\n",
    "\n",
    "print(\"Min, max, sum and mean of all values =\",min_val,max_val,sum_val,mean_val)"
   ]
  },
  {
   "attachments": {
    "image.png": {
     "image/png": "[encoded data removed]"
    }
   },
   "cell_type": "markdown",
   "id": "19e31c57",
   "metadata": {},
   "source": [
    "### Axis on numpy are a bit complicated for me.\n",
    "- to keep things simple, for axis=0, it goes across the rolls in a vertical way, and axis=1 it goes across the columns of each single row\n",
    "\n",
    "![image.png](attachment:image.png)"
   ]
  },
  {
   "cell_type": "code",
   "execution_count": 202,
   "id": "265dc829",
   "metadata": {},
   "outputs": [
    {
     "name": "stdout",
     "output_type": "stream",
     "text": [
      "Max a_ij across each roll = [4 6 8]\n",
      "Max value for each roll = [7 8]\n"
     ]
    }
   ],
   "source": [
    "#Compare each index for each roll and return max (for every column)\n",
    "max_across = np.max(stats, axis = 0)\n",
    "print(\"Max a_ij across each roll =\",max_across)\n",
    "\n",
    "\n",
    "#Return the maximum value for each roll\n",
    "max_each = np.max(stats, axis = 1)\n",
    "print(\"Max value for each roll =\",max_each)\n"
   ]
  },
  {
   "cell_type": "markdown",
   "id": "34351816",
   "metadata": {},
   "source": [
    "## Reorganizing Arrays"
   ]
  },
  {
   "cell_type": "code",
   "execution_count": 205,
   "id": "9d5c80f9",
   "metadata": {},
   "outputs": [
    {
     "name": "stdout",
     "output_type": "stream",
     "text": [
      "Original matrix =\n",
      " [[1 1 1]\n",
      " [1 1 1]\n",
      " [1 1 1]\n",
      " [1 1 1]]\n",
      "\n",
      "Reshaped matrix =\n",
      " [[1 1 1 1 1 1]\n",
      " [1 1 1 1 1 1]]\n"
     ]
    }
   ],
   "source": [
    "# Reshaping a matrix. The rule is that the num of elements should remain constant\n",
    "before = np.ones((4,3),dtype=int)\n",
    "after = before.reshape((2,6))\n",
    "\n",
    "print(\"Original matrix =\\n\",before)\n",
    "print(\"\\nReshaped matrix =\\n\",after)"
   ]
  },
  {
   "cell_type": "code",
   "execution_count": 211,
   "id": "ce2b7026",
   "metadata": {},
   "outputs": [
    {
     "name": "stdout",
     "output_type": "stream",
     "text": [
      "Vertical stack = [[1 2 3]\n",
      " [4 5 6]]\n",
      "Horizontal stack = [1 2 3 4 5 6]\n"
     ]
    }
   ],
   "source": [
    "# Vertical stack and horizontal stack\n",
    "a = np.array([1,2,3])\n",
    "b = np.array([4,5,6])\n",
    "c = np.vstack([a,b])\n",
    "d = np.hstack([a,b])\n",
    "print(\"Vertical stack =\",c)\n",
    "print(\"Horizontal stack =\",d)"
   ]
  },
  {
   "cell_type": "markdown",
   "id": "c8482d8c",
   "metadata": {},
   "source": [
    "## Boolean Masking and Advanced Indexing"
   ]
  },
  {
   "cell_type": "code",
   "execution_count": 235,
   "id": "41b3f046",
   "metadata": {},
   "outputs": [
    {
     "name": "stdout",
     "output_type": "stream",
     "text": [
      "[[0 1 2 3 4 5 6 7 8 9]\n",
      " [0 9 8 7 6 5 4 3 2 1]]\n",
      "\n",
      "Check whether a >= 5: \n",
      " [[False False False False False  True  True  True  True  True]\n",
      " [False  True  True  True  True  True False False False False]]\n",
      "\n",
      "New matrix with values from a >= 5: \n",
      " [5 6 7 8 9 9 8 7 6 5]\n"
     ]
    }
   ],
   "source": [
    "a = np.array([[0,1,2,3,4,5,6,7,8,9],[0,9,8,7,6,5,4,3,2,1]])\n",
    "print(a)\n",
    "check = a>=5\n",
    "print(\"\\nCheck whether a >= 5: \\n\",check)\n",
    "new = a[a>=5]\n",
    "print(\"\\nNew matrix with values from a >= 5: \\n\",new)"
   ]
  },
  {
   "cell_type": "code",
   "execution_count": 227,
   "id": "0e8d1cdc",
   "metadata": {},
   "outputs": [
    {
     "name": "stdout",
     "output_type": "stream",
     "text": [
      "[10 13 14]\n"
     ]
    }
   ],
   "source": [
    "# indexing with a list\n",
    "b = np.array([10,11,12,13,14,15,16,17,18,19])\n",
    "list = [0,3,4]\n",
    "print(b[list])"
   ]
  },
  {
   "cell_type": "code",
   "execution_count": 236,
   "id": "cf78bb9e",
   "metadata": {},
   "outputs": [
    {
     "name": "stdout",
     "output_type": "stream",
     "text": [
      "Does any value in col >=7? [False  True  True  True False False False  True  True  True]\n",
      "Do all values in col >=7? [False False False False False False False False False False]\n"
     ]
    }
   ],
   "source": [
    "# check if any/all value(s) in a column match a condition (again, dealing with axis is tricky)\n",
    "check_any = np.any(a>=7, axis=0)\n",
    "check_all = np.all(a>=7, axis=0)\n",
    "print(\"Does any value in col >=7?\",check_any)\n",
    "print(\"Do all values in col >=7?\",check_all)"
   ]
  },
  {
   "cell_type": "code",
   "execution_count": 241,
   "id": "917d6ba4",
   "metadata": {
    "scrolled": true
   },
   "outputs": [
    {
     "name": "stdout",
     "output_type": "stream",
     "text": [
      "[[False False False False False  True  True  True  True False]\n",
      " [False False  True  True  True  True False False False False]]\n"
     ]
    }
   ],
   "source": [
    "# check two conditions\n",
    "check_two = (a>=5) & (a<=8)\n",
    "print(check_two)"
   ]
  }
 ],
 "metadata": {
  "kernelspec": {
   "display_name": "Python 3 (ipykernel)",
   "language": "python",
   "name": "python3"
  },
  "language_info": {
   "codemirror_mode": {
    "name": "ipython",
    "version": 3
   },
   "file_extension": ".py",
   "mimetype": "text/x-python",
   "name": "python",
   "nbconvert_exporter": "python",
   "pygments_lexer": "ipython3",
   "version": "3.10.9"
  }
 },
 "nbformat": 4,
 "nbformat_minor": 5
}
