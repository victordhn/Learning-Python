{
 "cells": [
  {
   "cell_type": "markdown",
   "id": "2c4fca06",
   "metadata": {},
   "source": [
    "# Numpy training"
   ]
  },
  {
   "cell_type": "code",
   "execution_count": 2,
   "id": "4e614ed6",
   "metadata": {},
   "outputs": [],
   "source": [
    "import numpy as np\n",
    "import sys"
   ]
  },
  {
   "cell_type": "markdown",
   "id": "7b5a952d",
   "metadata": {},
   "source": [
    "## Basics"
   ]
  },
  {
   "cell_type": "code",
   "execution_count": 16,
   "id": "d49d2d47",
   "metadata": {},
   "outputs": [
    {
     "name": "stdout",
     "output_type": "stream",
     "text": [
      "[[1.  2.  3. ]\n",
      " [1.1 2.1 3.1]]\n",
      "Dimension = 2\n",
      "Shape = (2, 3)\n"
     ]
    }
   ],
   "source": [
    "a = np.array([[1,2,3],[1.1,2.1,3.1]])\n",
    "print(a)\n",
    "\n",
    "print(\"Dimension =\",a.ndim) #a.ndim = dimension\n",
    "print(\"Shape =\",a.shape) #a.shape = shape"
   ]
  },
  {
   "cell_type": "markdown",
   "id": "87c5a80f",
   "metadata": {},
   "source": [
    "## Types "
   ]
  },
  {
   "cell_type": "code",
   "execution_count": 44,
   "id": "274e6bcf",
   "metadata": {},
   "outputs": [
    {
     "name": "stdout",
     "output_type": "stream",
     "text": [
      "Simple Types:\n",
      "Type x = int32\n",
      "Type y = <U5\n",
      "Type z = float64\n",
      "\n",
      "Type prevalence (str>float>int>bool):\n",
      "Type i = <U32\n",
      "Type j = float64\n",
      "Type k = int32\n",
      "Type l = bool\n",
      "\n",
      "Type setting:\n",
      "Type r = int32\n"
     ]
    }
   ],
   "source": [
    "### simple types\n",
    "print(\"Simple Types:\")\n",
    "x = np.array([1,2,3])\n",
    "y = np.array([\"one\",\"two\",\"three\"])\n",
    "z = np.array([1.1,2.2,3.3])\n",
    "print(\"Type x =\",x.dtype)\n",
    "print(\"Type y =\",y.dtype)\n",
    "print(\"Type z =\",z.dtype)\n",
    "\n",
    "print(\"\\nType prevalence (str>float>int>bool):\")\n",
    "### type prevalence: str>float>int>bool\n",
    "i = np.array([1,1.2,\"one\",True])\n",
    "print(\"Type i =\",i.dtype)\n",
    "j = np.array([1,1.2,True])\n",
    "print(\"Type j =\",j.dtype)\n",
    "k = np.array([1,True])\n",
    "print(\"Type k =\",k.dtype)\n",
    "l = np.array([True])\n",
    "print(\"Type l =\",l.dtype)\n",
    "\n",
    "print(\"\\nType setting:\")\n",
    "### type setting\n",
    "r = np.array([1,3.2],dtype=int)\n",
    "print(\"Type r =\",r.dtype)\n"
   ]
  },
  {
   "cell_type": "markdown",
   "id": "9dc46612",
   "metadata": {},
   "source": [
    "## Manipulating values"
   ]
  },
  {
   "cell_type": "code",
   "execution_count": 70,
   "id": "8d9ddd4b",
   "metadata": {},
   "outputs": [
    {
     "name": "stdout",
     "output_type": "stream",
     "text": [
      "[[ 0  1  2  3  4  5  6  7]\n",
      " [ 8  9 10 11 12 13 14 15]]\n"
     ]
    }
   ],
   "source": [
    "a = np.array([[0,1,2,3,4,5,6,7],[8,9,10,11,12,13,14,15]])\n",
    "print(a)"
   ]
  },
  {
   "cell_type": "code",
   "execution_count": 52,
   "id": "05f83f91",
   "metadata": {},
   "outputs": [
    {
     "name": "stdout",
     "output_type": "stream",
     "text": [
      "My birthday is on day a[0,3]a[0,0] = 30\n"
     ]
    }
   ],
   "source": [
    "# get specific element [r,c]\n",
    "print(f\"My birthday is on day a[0,3]a[0,0] = {a[0,3]}{a[0,0]}\")"
   ]
  },
  {
   "cell_type": "code",
   "execution_count": 54,
   "id": "8ef87ffb",
   "metadata": {},
   "outputs": [
    {
     "name": "stdout",
     "output_type": "stream",
     "text": [
      "Row 1 = [0 1 2 3 4 5 6 7]\n",
      "Column 1 = [0 8]\n"
     ]
    }
   ],
   "source": [
    "# get rows and columns\n",
    "print(\"Row 1 =\",a[0,:])\n",
    "print(\"Column 1 =\",a[:,0])"
   ]
  },
  {
   "cell_type": "code",
   "execution_count": 62,
   "id": "b4a72685",
   "metadata": {},
   "outputs": [
    {
     "name": "stdout",
     "output_type": "stream",
     "text": [
      "First row = [0 1 2 3 4 5 6 7]\n",
      "First row, from index 1 to 6 (including 6), get one jump one = [1 3 5]\n",
      "Inverse order: start at index -3 and go backwards = [5 3 1]\n"
     ]
    }
   ],
   "source": [
    "# using intervals and stepsize [startindex:endindex:stepsize]\n",
    "print(\"First row =\",a[0,:])\n",
    "print(\"First row, from index 1 to 6 (including 6), get one jump one =\",a[0,1:7:2])\n",
    "print(\"Inverse order: start at index -3 and go backwards =\",a[0,-3:-9:-2])"
   ]
  },
  {
   "cell_type": "code",
   "execution_count": 73,
   "id": "20abf49e",
   "metadata": {},
   "outputs": [
    {
     "name": "stdout",
     "output_type": "stream",
     "text": [
      "First row = [0 1 2 3 4 5 6 7]\n",
      "First element is 100 = [100   1   2   3   4   5   6   7]\n",
      "First column = [0 8]\n",
      "First column is [100,200] =\n",
      " [[100   1   2   3   4   5   6   7]\n",
      " [200   9  10  11  12  13  14  15]]\n"
     ]
    }
   ],
   "source": [
    "# change a value\n",
    "print(\"First row =\",a[0,:]) \n",
    "a[0,0]=100\n",
    "print(\"First element is 100 =\",a[0,:])\n",
    "a[0,0]=0\n",
    "\n",
    "print(\"First column =\",a[:,0])\n",
    "a[:,0]=[100,200]\n",
    "print(\"First column is [100,200] =\\n\",a[:,:])\n",
    "a[:,0]=[0,8]"
   ]
  },
  {
   "cell_type": "code",
   "execution_count": 79,
   "id": "4e3add7c",
   "metadata": {},
   "outputs": [
    {
     "name": "stdout",
     "output_type": "stream",
     "text": [
      "[[[1 2]\n",
      "  [3 4]]\n",
      "\n",
      " [[5 6]\n",
      "  [7 8]]]\n"
     ]
    },
    {
     "ename": "IndexError",
     "evalue": "too many indices for array: array is 2-dimensional, but 3 were indexed",
     "output_type": "error",
     "traceback": [
      "\u001b[1;31m---------------------------------------------------------------------------\u001b[0m",
      "\u001b[1;31mIndexError\u001b[0m                                Traceback (most recent call last)",
      "Cell \u001b[1;32mIn[79], line 4\u001b[0m\n\u001b[0;32m      2\u001b[0m b \u001b[38;5;241m=\u001b[39m np\u001b[38;5;241m.\u001b[39marray([[[\u001b[38;5;241m1\u001b[39m,\u001b[38;5;241m2\u001b[39m],[\u001b[38;5;241m3\u001b[39m,\u001b[38;5;241m4\u001b[39m]],[[\u001b[38;5;241m5\u001b[39m,\u001b[38;5;241m6\u001b[39m],[\u001b[38;5;241m7\u001b[39m,\u001b[38;5;241m8\u001b[39m]]])\n\u001b[0;32m      3\u001b[0m \u001b[38;5;28mprint\u001b[39m(b)\n\u001b[1;32m----> 4\u001b[0m \u001b[38;5;28mprint\u001b[39m(\u001b[38;5;124m\"\u001b[39m\u001b[38;5;124mElement from page 1, row 2, column 1 =\u001b[39m\u001b[38;5;124m\"\u001b[39m,\u001b[43ma\u001b[49m\u001b[43m[\u001b[49m\u001b[38;5;241;43m0\u001b[39;49m\u001b[43m,\u001b[49m\u001b[38;5;241;43m1\u001b[39;49m\u001b[43m,\u001b[49m\u001b[38;5;241;43m0\u001b[39;49m\u001b[43m]\u001b[49m)\n",
      "\u001b[1;31mIndexError\u001b[0m: too many indices for array: array is 2-dimensional, but 3 were indexed"
     ]
    }
   ],
   "source": [
    "# 3-d matrix\n",
    "b = np.array([[[1,2],[3,4]],[[5,6],[7,8]]])\n",
    "print(b)\n",
    "print(\"Element from page 1, row 2, column 1 =\",a[0,1,0])"
   ]
  },
  {
   "cell_type": "code",
   "execution_count": null,
   "id": "f482ff78",
   "metadata": {},
   "outputs": [],
   "source": []
  },
  {
   "cell_type": "code",
   "execution_count": null,
   "id": "7df1d16f",
   "metadata": {},
   "outputs": [],
   "source": []
  },
  {
   "cell_type": "code",
   "execution_count": null,
   "id": "9e1f64c8",
   "metadata": {},
   "outputs": [],
   "source": []
  },
  {
   "cell_type": "code",
   "execution_count": null,
   "id": "639b1fc8",
   "metadata": {},
   "outputs": [],
   "source": []
  },
  {
   "cell_type": "code",
   "execution_count": null,
   "id": "c339bf20",
   "metadata": {},
   "outputs": [],
   "source": []
  },
  {
   "cell_type": "code",
   "execution_count": null,
   "id": "1b5744f7",
   "metadata": {},
   "outputs": [],
   "source": []
  }
 ],
 "metadata": {
  "kernelspec": {
   "display_name": "Python 3 (ipykernel)",
   "language": "python",
   "name": "python3"
  },
  "language_info": {
   "codemirror_mode": {
    "name": "ipython",
    "version": 3
   },
   "file_extension": ".py",
   "mimetype": "text/x-python",
   "name": "python",
   "nbconvert_exporter": "python",
   "pygments_lexer": "ipython3",
   "version": "3.10.9"
  }
 },
 "nbformat": 4,
 "nbformat_minor": 5
}
