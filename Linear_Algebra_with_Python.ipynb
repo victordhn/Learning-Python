{
 "cells": [
  {
   "cell_type": "markdown",
   "id": "72e206b8",
   "metadata": {},
   "source": [
    "# 1 Tensors\n",
    "## 1.1 Basic Tensor Construction"
   ]
  },
  {
   "cell_type": "markdown",
   "id": "b22eecff",
   "metadata": {},
   "source": [
    "### Using PyTorch"
   ]
  },
  {
   "cell_type": "code",
   "execution_count": 4,
   "id": "046384d0",
   "metadata": {},
   "outputs": [],
   "source": [
    "import torch"
   ]
  },
  {
   "cell_type": "code",
   "execution_count": 6,
   "id": "095caaaf",
   "metadata": {},
   "outputs": [
    {
     "data": {
      "text/plain": [
       "tensor(25)"
      ]
     },
     "execution_count": 6,
     "metadata": {},
     "output_type": "execute_result"
    }
   ],
   "source": [
    "x_pt = torch.tensor(25)\n",
    "x_pt"
   ]
  },
  {
   "cell_type": "code",
   "execution_count": 7,
   "id": "231b55f8",
   "metadata": {},
   "outputs": [
    {
     "data": {
      "text/plain": [
       "torch.Size([])"
      ]
     },
     "execution_count": 7,
     "metadata": {},
     "output_type": "execute_result"
    }
   ],
   "source": [
    "x_pt.shape"
   ]
  },
  {
   "cell_type": "code",
   "execution_count": 32,
   "id": "320af5cb",
   "metadata": {},
   "outputs": [
    {
     "data": {
      "text/plain": [
       "tensor([25,  2,  5])"
      ]
     },
     "execution_count": 32,
     "metadata": {},
     "output_type": "execute_result"
    }
   ],
   "source": [
    "x_pt = torch.tensor([25,2,5])\n",
    "x_pt"
   ]
  },
  {
   "cell_type": "code",
   "execution_count": 62,
   "id": "4b877843",
   "metadata": {},
   "outputs": [
    {
     "data": {
      "text/plain": [
       "tensor([[25,  2],\n",
       "        [26,  5],\n",
       "        [ 3,  7]])"
      ]
     },
     "execution_count": 62,
     "metadata": {},
     "output_type": "execute_result"
    }
   ],
   "source": [
    "X_pt = torch.tensor([[25,2],[26,5],[3,7]])\n",
    "X_pt"
   ]
  },
  {
   "cell_type": "code",
   "execution_count": 63,
   "id": "94d66284",
   "metadata": {},
   "outputs": [
    {
     "data": {
      "text/plain": [
       "torch.Size([3, 2])"
      ]
     },
     "execution_count": 63,
     "metadata": {},
     "output_type": "execute_result"
    }
   ],
   "source": [
    "X_pt.shape"
   ]
  },
  {
   "cell_type": "code",
   "execution_count": 72,
   "id": "0eb2abbb",
   "metadata": {},
   "outputs": [],
   "source": [
    "images_pt = torch.zeros([32,28,28,3])\n",
    "images_pt;"
   ]
  },
  {
   "cell_type": "markdown",
   "id": "6cc5be2f",
   "metadata": {},
   "source": [
    "### Using TensorFlow"
   ]
  },
  {
   "cell_type": "code",
   "execution_count": 8,
   "id": "f60db9e5",
   "metadata": {},
   "outputs": [],
   "source": [
    "import tensorflow as tf"
   ]
  },
  {
   "cell_type": "code",
   "execution_count": 9,
   "id": "22fa4fe9",
   "metadata": {},
   "outputs": [
    {
     "data": {
      "text/plain": [
       "<tf.Variable 'Variable:0' shape=() dtype=int16, numpy=25>"
      ]
     },
     "execution_count": 9,
     "metadata": {},
     "output_type": "execute_result"
    }
   ],
   "source": [
    "x_tf = tf.Variable(25, dtype=tf.int16)\n",
    "x_tf"
   ]
  },
  {
   "cell_type": "code",
   "execution_count": 10,
   "id": "09cba39f",
   "metadata": {},
   "outputs": [
    {
     "data": {
      "text/plain": [
       "TensorShape([])"
      ]
     },
     "execution_count": 10,
     "metadata": {},
     "output_type": "execute_result"
    }
   ],
   "source": [
    "x_tf.shape"
   ]
  },
  {
   "cell_type": "code",
   "execution_count": 15,
   "id": "b4a6b3b9",
   "metadata": {},
   "outputs": [
    {
     "data": {
      "text/plain": [
       "<tf.Variable 'Variable:0' shape=() dtype=int16, numpy=3>"
      ]
     },
     "execution_count": 15,
     "metadata": {},
     "output_type": "execute_result"
    }
   ],
   "source": [
    "y_tf = tf.Variable(3, dtype=tf.int16)\n",
    "y_tf"
   ]
  },
  {
   "cell_type": "code",
   "execution_count": 16,
   "id": "60e5eb1d",
   "metadata": {},
   "outputs": [
    {
     "data": {
      "text/plain": [
       "<tf.Tensor: shape=(), dtype=int16, numpy=28>"
      ]
     },
     "execution_count": 16,
     "metadata": {},
     "output_type": "execute_result"
    }
   ],
   "source": [
    "tf_sum = tf.add(x_tf,y_tf)\n",
    "tf_sum"
   ]
  },
  {
   "cell_type": "code",
   "execution_count": 17,
   "id": "33bd6643",
   "metadata": {},
   "outputs": [
    {
     "data": {
      "text/plain": [
       "28"
      ]
     },
     "execution_count": 17,
     "metadata": {},
     "output_type": "execute_result"
    }
   ],
   "source": [
    "tf_sum.numpy()"
   ]
  },
  {
   "cell_type": "code",
   "execution_count": 33,
   "id": "6544d630",
   "metadata": {},
   "outputs": [
    {
     "data": {
      "text/plain": [
       "<tf.Variable 'Variable:0' shape=(3,) dtype=int32, numpy=array([25,  2,  5])>"
      ]
     },
     "execution_count": 33,
     "metadata": {},
     "output_type": "execute_result"
    }
   ],
   "source": [
    "x_tf = tf.Variable([25,2,5])\n",
    "x_tf"
   ]
  },
  {
   "cell_type": "code",
   "execution_count": 65,
   "id": "6de55b58",
   "metadata": {},
   "outputs": [
    {
     "data": {
      "text/plain": [
       "<tf.Variable 'Variable:0' shape=(3, 2) dtype=int32, numpy=\n",
       "array([[25,  2],\n",
       "       [26,  5],\n",
       "       [ 3,  7]])>"
      ]
     },
     "execution_count": 65,
     "metadata": {},
     "output_type": "execute_result"
    }
   ],
   "source": [
    "X_tf = tf.Variable([[25,2],[26,5],[3,7]])\n",
    "X_tf"
   ]
  },
  {
   "cell_type": "code",
   "execution_count": 66,
   "id": "7ca20e7d",
   "metadata": {},
   "outputs": [
    {
     "data": {
      "text/plain": [
       "<tf.Tensor: shape=(), dtype=int32, numpy=2>"
      ]
     },
     "execution_count": 66,
     "metadata": {},
     "output_type": "execute_result"
    }
   ],
   "source": [
    "tf.rank(X_tf)"
   ]
  },
  {
   "cell_type": "code",
   "execution_count": 67,
   "id": "925ce5da",
   "metadata": {},
   "outputs": [
    {
     "data": {
      "text/plain": [
       "<tf.Tensor: shape=(2,), dtype=int32, numpy=array([3, 2])>"
      ]
     },
     "execution_count": 67,
     "metadata": {},
     "output_type": "execute_result"
    }
   ],
   "source": [
    "tf.shape(X_tf)"
   ]
  },
  {
   "cell_type": "code",
   "execution_count": 68,
   "id": "ac672335",
   "metadata": {},
   "outputs": [
    {
     "data": {
      "text/plain": [
       "<tf.Tensor: shape=(2,), dtype=int32, numpy=array([26,  5])>"
      ]
     },
     "execution_count": 68,
     "metadata": {},
     "output_type": "execute_result"
    }
   ],
   "source": [
    "X_tf[1,:]"
   ]
  },
  {
   "cell_type": "code",
   "execution_count": 73,
   "id": "04ec7dda",
   "metadata": {},
   "outputs": [],
   "source": [
    "images_tf = tf.zeros([32,28,28,3])\n",
    "images_tf;"
   ]
  },
  {
   "cell_type": "markdown",
   "id": "39b8c6e9",
   "metadata": {},
   "source": [
    "### Using Numpy"
   ]
  },
  {
   "cell_type": "code",
   "execution_count": 46,
   "id": "8f6f299b",
   "metadata": {},
   "outputs": [],
   "source": [
    "import numpy as np"
   ]
  },
  {
   "cell_type": "code",
   "execution_count": 47,
   "id": "93271fc4",
   "metadata": {},
   "outputs": [],
   "source": [
    "x = np.array([25,2,5])"
   ]
  },
  {
   "cell_type": "code",
   "execution_count": 48,
   "id": "049981d8",
   "metadata": {},
   "outputs": [
    {
     "data": {
      "text/plain": [
       "3"
      ]
     },
     "execution_count": 48,
     "metadata": {},
     "output_type": "execute_result"
    }
   ],
   "source": [
    "len(x)"
   ]
  },
  {
   "cell_type": "code",
   "execution_count": 49,
   "id": "9edf05b2",
   "metadata": {},
   "outputs": [
    {
     "data": {
      "text/plain": [
       "(3,)"
      ]
     },
     "execution_count": 49,
     "metadata": {},
     "output_type": "execute_result"
    }
   ],
   "source": [
    "x.shape"
   ]
  },
  {
   "cell_type": "code",
   "execution_count": 50,
   "id": "736f6f79",
   "metadata": {},
   "outputs": [
    {
     "data": {
      "text/plain": [
       "numpy.ndarray"
      ]
     },
     "execution_count": 50,
     "metadata": {},
     "output_type": "execute_result"
    }
   ],
   "source": [
    "type(x)"
   ]
  },
  {
   "cell_type": "code",
   "execution_count": 51,
   "id": "95dc0f97",
   "metadata": {},
   "outputs": [
    {
     "data": {
      "text/plain": [
       "numpy.int32"
      ]
     },
     "execution_count": 51,
     "metadata": {},
     "output_type": "execute_result"
    }
   ],
   "source": [
    "type(x[0])"
   ]
  },
  {
   "cell_type": "markdown",
   "id": "38f19afa",
   "metadata": {},
   "source": [
    "#### Vector Transposition"
   ]
  },
  {
   "cell_type": "code",
   "execution_count": 52,
   "id": "7a7c6390",
   "metadata": {},
   "outputs": [
    {
     "data": {
      "text/plain": [
       "array([25,  2,  5])"
      ]
     },
     "execution_count": 52,
     "metadata": {},
     "output_type": "execute_result"
    }
   ],
   "source": [
    "x_t = x.T\n",
    "x_t\n",
    "\n",
    "# No effects because x is a 1-D array (it has only 1 axis)"
   ]
  },
  {
   "cell_type": "code",
   "execution_count": 53,
   "id": "640e5ddc",
   "metadata": {},
   "outputs": [
    {
     "data": {
      "text/plain": [
       "array([[25,  2,  5]])"
      ]
     },
     "execution_count": 53,
     "metadata": {},
     "output_type": "execute_result"
    }
   ],
   "source": [
    "y = np.array([[25,2,5]])\n",
    "y"
   ]
  },
  {
   "cell_type": "code",
   "execution_count": 54,
   "id": "b35eb150",
   "metadata": {},
   "outputs": [
    {
     "data": {
      "text/plain": [
       "(1, 3)"
      ]
     },
     "execution_count": 54,
     "metadata": {},
     "output_type": "execute_result"
    }
   ],
   "source": [
    "y.shape"
   ]
  },
  {
   "cell_type": "code",
   "execution_count": 55,
   "id": "7df3f3db",
   "metadata": {},
   "outputs": [
    {
     "data": {
      "text/plain": [
       "array([[25],\n",
       "       [ 2],\n",
       "       [ 5]])"
      ]
     },
     "execution_count": 55,
     "metadata": {},
     "output_type": "execute_result"
    }
   ],
   "source": [
    "y_t = y.T\n",
    "y_t"
   ]
  },
  {
   "cell_type": "code",
   "execution_count": 56,
   "id": "364fc3d3",
   "metadata": {},
   "outputs": [
    {
     "data": {
      "text/plain": [
       "(3, 1)"
      ]
     },
     "execution_count": 56,
     "metadata": {},
     "output_type": "execute_result"
    }
   ],
   "source": [
    "y_t.shape"
   ]
  },
  {
   "cell_type": "markdown",
   "id": "ef809cc3",
   "metadata": {},
   "source": [
    "#### Norms"
   ]
  },
  {
   "cell_type": "code",
   "execution_count": 57,
   "id": "99d2cd57",
   "metadata": {},
   "outputs": [
    {
     "name": "stdout",
     "output_type": "stream",
     "text": [
      "[25  2  5]\n",
      "25.573423705088842\n"
     ]
    }
   ],
   "source": [
    "#L2 norm\n",
    "print(x)\n",
    "print(np.linalg.norm(x))"
   ]
  },
  {
   "cell_type": "code",
   "execution_count": 58,
   "id": "d954c516",
   "metadata": {},
   "outputs": [
    {
     "data": {
      "text/plain": [
       "32"
      ]
     },
     "execution_count": 58,
     "metadata": {},
     "output_type": "execute_result"
    }
   ],
   "source": [
    "#L1 norm (sum of absolute values)\n",
    "l1 = np.abs(x[0])+np.abs(x[1])+np.abs(x[2])\n",
    "l1"
   ]
  },
  {
   "cell_type": "code",
   "execution_count": 59,
   "id": "e4dd1aca",
   "metadata": {},
   "outputs": [
    {
     "data": {
      "text/plain": [
       "654"
      ]
     },
     "execution_count": 59,
     "metadata": {},
     "output_type": "execute_result"
    }
   ],
   "source": [
    "#L2 squared norm (basically dot produto)\n",
    "np.dot(x,x)"
   ]
  },
  {
   "cell_type": "code",
   "execution_count": 60,
   "id": "293e8c0b",
   "metadata": {},
   "outputs": [
    {
     "data": {
      "text/plain": [
       "25"
      ]
     },
     "execution_count": 60,
     "metadata": {},
     "output_type": "execute_result"
    }
   ],
   "source": [
    "#Lmax (max norm) simply gets the max of all absolute values\n",
    "x_abs = []\n",
    "for x in x:\n",
    "    x_abs.append(np.abs(x))\n",
    "np.max(x_abs)"
   ]
  },
  {
   "cell_type": "markdown",
   "id": "ed8ace7f",
   "metadata": {},
   "source": [
    "#### Matrices"
   ]
  },
  {
   "cell_type": "code",
   "execution_count": 40,
   "id": "dc5350e8",
   "metadata": {},
   "outputs": [
    {
     "data": {
      "text/plain": [
       "array([[25,  2],\n",
       "       [ 5, 26],\n",
       "       [ 3,  7]])"
      ]
     },
     "execution_count": 40,
     "metadata": {},
     "output_type": "execute_result"
    }
   ],
   "source": [
    "X = np.array([[25,2],[5,26],[3,7]])\n",
    "X"
   ]
  },
  {
   "cell_type": "code",
   "execution_count": 41,
   "id": "34534e04",
   "metadata": {},
   "outputs": [
    {
     "data": {
      "text/plain": [
       "(3, 2)"
      ]
     },
     "execution_count": 41,
     "metadata": {},
     "output_type": "execute_result"
    }
   ],
   "source": [
    "X.shape"
   ]
  },
  {
   "cell_type": "code",
   "execution_count": 42,
   "id": "c2d939fe",
   "metadata": {},
   "outputs": [
    {
     "data": {
      "text/plain": [
       "6"
      ]
     },
     "execution_count": 42,
     "metadata": {},
     "output_type": "execute_result"
    }
   ],
   "source": [
    "X.size"
   ]
  },
  {
   "cell_type": "markdown",
   "id": "2911f731",
   "metadata": {},
   "source": [
    "## 1.2 Tensor Operations"
   ]
  },
  {
   "cell_type": "code",
   "execution_count": 79,
   "id": "c5618a8f",
   "metadata": {},
   "outputs": [],
   "source": [
    "X = np.array([[25,2],[5,26],[3,7]])\n",
    "X_tf = tf.Variable([[25,2],[26,5],[3,7]])\n",
    "X_pt = torch.tensor([[25,2],[26,5],[3,7]])\n",
    "\n",
    "Y = np.array([[35,2],[5,36],[2,7]])\n",
    "Y_tf = tf.Variable([[35,2],[36,5],[2,7]])\n",
    "Y_pt = torch.tensor([[35,2],[36,5],[2,7]])"
   ]
  },
  {
   "cell_type": "code",
   "execution_count": 78,
   "id": "085b6a5f",
   "metadata": {},
   "outputs": [
    {
     "name": "stdout",
     "output_type": "stream",
     "text": [
      "[[25  5  3]\n",
      " [ 2 26  7]]\n",
      "\n",
      "tensor([[25, 26,  3],\n",
      "        [ 2,  5,  7]])\n",
      "\n",
      "tf.Tensor(\n",
      "[[25 26  3]\n",
      " [ 2  5  7]], shape=(2, 3), dtype=int32)\n"
     ]
    }
   ],
   "source": [
    "# Transpose\n",
    "print(\n",
    "X.T,  \n",
    "X_pt.T,\n",
    "tf.transpose(X_tf),sep='\\n\\n')"
   ]
  },
  {
   "cell_type": "code",
   "execution_count": 80,
   "id": "0f6ceeb6",
   "metadata": {},
   "outputs": [
    {
     "name": "stdout",
     "output_type": "stream",
     "text": [
      "[[52  6]\n",
      " [12 54]\n",
      " [ 8 16]]\n",
      "\n",
      "tensor([[52,  6],\n",
      "        [54, 12],\n",
      "        [ 8, 16]])\n",
      "\n",
      "tf.Tensor(\n",
      "[[52  6]\n",
      " [54 12]\n",
      " [ 8 16]], shape=(3, 2), dtype=int32)\n"
     ]
    }
   ],
   "source": [
    "# Scalar and Addition\n",
    "print(\n",
    "X*2+2,  \n",
    "X_pt*2+2,\n",
    "tf.add(tf.multiply(X_tf,2),2),sep='\\n\\n')"
   ]
  },
  {
   "cell_type": "code",
   "execution_count": 85,
   "id": "29f21d97",
   "metadata": {},
   "outputs": [
    {
     "name": "stdout",
     "output_type": "stream",
     "text": [
      "[[60  4]\n",
      " [10 62]\n",
      " [ 5 14]]\n",
      "\n",
      "tensor([[60,  4],\n",
      "        [62, 10],\n",
      "        [ 5, 14]])\n",
      "\n",
      "tf.Tensor(\n",
      "[[60  4]\n",
      " [62 10]\n",
      " [ 5 14]], shape=(3, 2), dtype=int32)\n"
     ]
    }
   ],
   "source": [
    "# Element-wise operations (addition)\n",
    "print(\n",
    "X+Y,\n",
    "X_pt+Y_pt,\n",
    "X_tf+Y_tf,sep='\\n\\n')"
   ]
  },
  {
   "cell_type": "code",
   "execution_count": 86,
   "id": "376979b4",
   "metadata": {},
   "outputs": [
    {
     "name": "stdout",
     "output_type": "stream",
     "text": [
      "[[875   4]\n",
      " [ 25 936]\n",
      " [  6  49]]\n",
      "\n",
      "tensor([[875,   4],\n",
      "        [936,  25],\n",
      "        [  6,  49]])\n",
      "\n",
      "tf.Tensor(\n",
      "[[875   4]\n",
      " [936  25]\n",
      " [  6  49]], shape=(3, 2), dtype=int32)\n"
     ]
    }
   ],
   "source": [
    "# Element-wise operations (multiplication)\n",
    "print(\n",
    "X*Y,\n",
    "X_pt*Y_pt,\n",
    "X_tf*Y_tf,sep='\\n\\n')"
   ]
  },
  {
   "cell_type": "markdown",
   "id": "73bdfd4a",
   "metadata": {},
   "source": [
    "- Dot Product"
   ]
  },
  {
   "cell_type": "code",
   "execution_count": 88,
   "id": "788d13c1",
   "metadata": {},
   "outputs": [
    {
     "data": {
      "text/plain": [
       "32"
      ]
     },
     "execution_count": 88,
     "metadata": {},
     "output_type": "execute_result"
    }
   ],
   "source": [
    "x = np.array([1,2,3])\n",
    "y = np.array([4,5,6])\n",
    "x_y = np.dot(x,y)\n",
    "x_y"
   ]
  },
  {
   "cell_type": "markdown",
   "id": "014ac7a0",
   "metadata": {},
   "source": [
    "#### Matrix Multiplication"
   ]
  },
  {
   "cell_type": "code",
   "execution_count": 97,
   "id": "946321b1",
   "metadata": {},
   "outputs": [],
   "source": [
    "X = np.array([[25,2,3],[5,26,4],[3,7,5]])\n",
    "y = np.array([1,2,3])"
   ]
  },
  {
   "cell_type": "code",
   "execution_count": 98,
   "id": "6be8691f",
   "metadata": {},
   "outputs": [
    {
     "data": {
      "text/plain": [
       "array([38, 69, 32])"
      ]
     },
     "execution_count": 98,
     "metadata": {},
     "output_type": "execute_result"
    }
   ],
   "source": [
    "np.dot(X,y)"
   ]
  },
  {
   "cell_type": "code",
   "execution_count": 99,
   "id": "46bf46ec",
   "metadata": {},
   "outputs": [
    {
     "data": {
      "text/plain": [
       "array([[644, 123,  98],\n",
       "       [267, 714, 139],\n",
       "       [125, 223,  62]])"
      ]
     },
     "execution_count": 99,
     "metadata": {},
     "output_type": "execute_result"
    }
   ],
   "source": [
    "np.dot(X,X)"
   ]
  },
  {
   "cell_type": "markdown",
   "id": "f8dfb6a9",
   "metadata": {},
   "source": [
    "# 2 Singular Value Decomposition (SVD)\n",
    "- A = UDV(t)"
   ]
  },
  {
   "cell_type": "code",
   "execution_count": 100,
   "id": "7364b6cf",
   "metadata": {},
   "outputs": [],
   "source": [
    "X = np.array([[-1,2],[3,-2],[5,7]])"
   ]
  },
  {
   "cell_type": "code",
   "execution_count": 102,
   "id": "239ba55b",
   "metadata": {},
   "outputs": [],
   "source": [
    "U, d, VT = np.linalg.svd(X)"
   ]
  },
  {
   "cell_type": "code",
   "execution_count": 103,
   "id": "b323be7a",
   "metadata": {},
   "outputs": [
    {
     "data": {
      "text/plain": [
       "array([[ 0.12708324,  0.47409506,  0.87125411],\n",
       "       [ 0.00164602, -0.87847553,  0.47778451],\n",
       "       [ 0.99189069, -0.0592843 , -0.11241989]])"
      ]
     },
     "execution_count": 103,
     "metadata": {},
     "output_type": "execute_result"
    }
   ],
   "source": [
    "U"
   ]
  },
  {
   "cell_type": "code",
   "execution_count": 111,
   "id": "a5a6ca25",
   "metadata": {},
   "outputs": [
    {
     "data": {
      "text/plain": [
       "array([[8.66918448, 0.        ],\n",
       "       [0.        , 4.10429538],\n",
       "       [0.        , 0.        ]])"
      ]
     },
     "execution_count": 111,
     "metadata": {},
     "output_type": "execute_result"
    }
   ],
   "source": [
    "d\n",
    "np.diag(d)\n",
    "D = np.concatenate((np.diag(d),[[0,0]]),axis=0)\n",
    "D"
   ]
  },
  {
   "cell_type": "code",
   "execution_count": 105,
   "id": "8a51c3bf",
   "metadata": {},
   "outputs": [
    {
     "data": {
      "text/plain": [
       "array([[ 0.55798885,  0.82984845],\n",
       "       [-0.82984845,  0.55798885]])"
      ]
     },
     "execution_count": 105,
     "metadata": {},
     "output_type": "execute_result"
    }
   ],
   "source": [
    "VT"
   ]
  },
  {
   "cell_type": "code",
   "execution_count": 112,
   "id": "d0d1553d",
   "metadata": {},
   "outputs": [
    {
     "data": {
      "text/plain": [
       "array([[-1.,  2.],\n",
       "       [ 3., -2.],\n",
       "       [ 5.,  7.]])"
      ]
     },
     "execution_count": 112,
     "metadata": {},
     "output_type": "execute_result"
    }
   ],
   "source": [
    "np.dot(U,np.dot(D,VT))"
   ]
  }
 ],
 "metadata": {
  "kernelspec": {
   "display_name": "Python 3 (ipykernel)",
   "language": "python",
   "name": "python3"
  },
  "language_info": {
   "codemirror_mode": {
    "name": "ipython",
    "version": 3
   },
   "file_extension": ".py",
   "mimetype": "text/x-python",
   "name": "python",
   "nbconvert_exporter": "python",
   "pygments_lexer": "ipython3",
   "version": "3.10.9"
  }
 },
 "nbformat": 4,
 "nbformat_minor": 5
}
